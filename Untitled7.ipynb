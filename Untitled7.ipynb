{
  "nbformat": 4,
  "nbformat_minor": 0,
  "metadata": {
    "colab": {
      "provenance": [],
      "authorship_tag": "ABX9TyPixrDWNCjlnbqe+j3OnCCl",
      "include_colab_link": true
    },
    "kernelspec": {
      "name": "python3",
      "display_name": "Python 3"
    },
    "language_info": {
      "name": "python"
    }
  },
  "cells": [
    {
      "cell_type": "markdown",
      "metadata": {
        "id": "view-in-github",
        "colab_type": "text"
      },
      "source": [
        "<a href=\"https://colab.research.google.com/github/thasliya0404/class-activity/blob/main/Untitled7.ipynb\" target=\"_parent\"><img src=\"https://colab.research.google.com/assets/colab-badge.svg\" alt=\"Open In Colab\"/></a>"
      ]
    },
    {
      "cell_type": "code",
      "execution_count": 8,
      "metadata": {
        "colab": {
          "base_uri": "https://localhost:8080/"
        },
        "id": "2NKitWGBsaWS",
        "outputId": "6e36a9d6-8a71-4556-df9f-3bb6b4690d39"
      },
      "outputs": [
        {
          "output_type": "stream",
          "name": "stdout",
          "text": [
            "enter item names:rice\n",
            "enter the price of the rice:60\n",
            "enter item names:rambuttan\n",
            "enter the price of the rambuttan:300\n",
            "enter item names:potato\n",
            "enter the price of the potato:40\n",
            "enter item names:tomato\n",
            "enter the price of the tomato:40\n",
            "enter item names:banana\n",
            "enter the price of the banana:80\n",
            "enter item names:apple \n",
            "enter the price of the apple :200\n",
            "enter item names:done\n",
            "total bill= 720.0\n",
            "10% discount applied: 72.0\n",
            "final bill: 648.0\n"
          ]
        }
      ],
      "source": [
        "#1. Grocery Store Billing\n",
        "#A grocery store wants to automate billing.\n",
        "#● Take the names and prices of items from the user until they type \"done\".\n",
        "#● Print the total bill.\n",
        "#● If total bill > ₹500, apply 10% discount\n",
        "total=0\n",
        "while True:\n",
        "  item = input('enter item names:')\n",
        "  if item.lower()=='done':\n",
        "    break\n",
        "  price=float(input(f'enter the price of the {item}:'))\n",
        "  total += price\n",
        "print('total bill=',total)\n",
        "if total>500:\n",
        "  discount=total*0.10\n",
        "  total -= discount\n",
        "  print('10% discount applied:',discount)\n",
        "print('final bill:',total)"
      ]
    },
    {
      "cell_type": "code",
      "source": [
        "#2. Exam Result Calculator\n",
        "#A school stores student marks in a list.\n",
        "#● Input marks for 5 subjects.\n",
        "#● Calculate percentage.\n",
        "#● Print grade:\n",
        "#○ ≥ 90: A\n",
        "#○ ≥ 75: B\n",
        "#○ ≥ 50: C\n",
        "#○ else: Fail\n",
        "\n",
        "marks=[]\n",
        "for i in range(5):\n",
        "  mark=float(input(f'enter the marks for subjects {i+1}:'))\n",
        "  marks.append(mark)\n",
        "percentage=sum(marks)*100/250\n",
        "print('percentage',percentage)\n",
        "if percentage>=90:\n",
        "  grade='A'\n",
        "elif percentage>=75:\n",
        "  grade='B'\n",
        "elif percentage>=50:\n",
        "  grade='C'\n",
        "else:\n",
        "  grade='fail'\n",
        "print('grade',grade)\n"
      ],
      "metadata": {
        "colab": {
          "base_uri": "https://localhost:8080/"
        },
        "id": "CXVW8_KxvMZ0",
        "outputId": "2f394d5b-105d-4945-dc2b-2cd66918cae6"
      },
      "execution_count": 13,
      "outputs": [
        {
          "output_type": "stream",
          "name": "stdout",
          "text": [
            "enter the marks for subjects 1:45\n",
            "enter the marks for subjects 2:44\n",
            "enter the marks for subjects 3:46\n",
            "enter the marks for subjects 4:43\n",
            "enter the marks for subjects 5:37\n",
            "percentage 86.0\n",
            "grade B\n"
          ]
        }
      ]
    },
    {
      "cell_type": "code",
      "source": [
        "#3. ATM Simulation\n",
        "#Simulate an ATM with:\n",
        "#● Starting balance = ₹1000\n",
        "#● Options: Deposit, Withdraw, Check balance, Exit\n",
        "#● Prevent withdrawal if funds are insufficient.\n",
        "balance=1000\n",
        "while True:\n",
        "  print('\\nATM menu:1.deposit 2.withdraw 3.check balance 4.exit')\n",
        "  choice=int(input('enter your choice:'))\n",
        "  if choice == 1:\n",
        "    amount=float(input('enter deposit amount:'))\n",
        "    balance +=amount\n",
        "    print('current balance',balance)\n",
        "  elif choice == 2:\n",
        "    amount=float(input('enter withdraw amount:'))\n",
        "    if amount>balance:\n",
        "      print('insufficient balance')\n",
        "    else:\n",
        "      balance -=amount\n",
        "      print('current balance',balance)\n",
        "  elif choice == 3:\n",
        "    2\n",
        "    print('current balance:',balance)\n",
        "  elif choice == 4:\n",
        "    print('Thank you')\n",
        "    break\n",
        "  else:\n",
        "    print('invalid choice,try again')\n"
      ],
      "metadata": {
        "colab": {
          "base_uri": "https://localhost:8080/"
        },
        "id": "UIdN_H390mH2",
        "outputId": "16629e49-ed00-4497-b624-5ac08525cf60"
      },
      "execution_count": 19,
      "outputs": [
        {
          "output_type": "stream",
          "name": "stdout",
          "text": [
            "\n",
            "ATM menu:1.deposit 2.withdraw 3.check balance 4.exit\n",
            "enter your choice:1\n",
            "enter deposit amount:1000\n",
            "current balance 2000.0\n",
            "\n",
            "ATM menu:1.deposit 2.withdraw 3.check balance 4.exit\n",
            "enter your choice:2\n",
            "enter withdraw amount:1000\n",
            "current balance 1000.0\n",
            "\n",
            "ATM menu:1.deposit 2.withdraw 3.check balance 4.exit\n",
            "enter your choice:2\n",
            "enter withdraw amount:1000\n",
            "current balance 0.0\n",
            "\n",
            "ATM menu:1.deposit 2.withdraw 3.check balance 4.exit\n",
            "enter your choice:1000\n",
            "invalid choice,try again\n",
            "\n",
            "ATM menu:1.deposit 2.withdraw 3.check balance 4.exit\n",
            "enter your choice:2\n",
            "enter withdraw amount:1000\n",
            "insufficient balance\n",
            "\n",
            "ATM menu:1.deposit 2.withdraw 3.check balance 4.exit\n",
            "enter your choice:3\n",
            "current balance: 0.0\n",
            "\n",
            "ATM menu:1.deposit 2.withdraw 3.check balance 4.exit\n",
            "enter your choice:4\n",
            "Thank you\n"
          ]
        }
      ]
    },
    {
      "cell_type": "code",
      "source": [
        "#4. Cricket Score Tracker\n",
        "#Store player scores in a dictionary.\n",
        "#● Add 5 players with scores.\n",
        "#● Find and print top scorer’s name and score.\n",
        "#● Update a player’s score after a match\n",
        "\n",
        "scores={'sachin':88,'maxwell':78,'virat':99,'dhoni':89,'panth':78}\n",
        "max_player=max(scores,key=scores.get)\n",
        "print(max_player, 'with', scores[max_player])\n",
        "player=input('enter player name to update score:')\n",
        "new_score=int(input('enter new score:'))\n",
        "scores[player]=new_score\n",
        "print('updated score:',scores)"
      ],
      "metadata": {
        "colab": {
          "base_uri": "https://localhost:8080/"
        },
        "id": "kuQIV40t5YkF",
        "outputId": "d67338b2-cafe-44f0-88e5-2789d4fd6a85"
      },
      "execution_count": 22,
      "outputs": [
        {
          "output_type": "stream",
          "name": "stdout",
          "text": [
            "virat with 99\n",
            "enter player name to update score:virat\n",
            "enter new score:110\n",
            "updated score: {'sachin': 88, 'maxwell': 78, 'virat': 110, 'dhoni': 89, 'panth': 78}\n"
          ]
        }
      ]
    },
    {
      "cell_type": "code",
      "source": [
        "#5. Restaurant Order System\n",
        "#● Menu stored in dictionary (item: price).\n",
        "#● Take multiple orders from user.\n",
        "#● Print final bill amount.\n",
        "#● If order contains \"Pizza\", give ₹50 off\n",
        "menu={'pizza':300,'burger':200,'pasta':250,'sandwich':100}\n",
        "total=0\n",
        "while True:\n",
        "  order=input('enter order:')\n",
        "  if order.lower()=='done':\n",
        "    break\n",
        "  if order in menu:\n",
        "    total += menu[order]\n",
        "  else:\n",
        "    print('item not available')\n",
        "if 'pizza' in menu:\n",
        "  if total >= menu['pizza']:\n",
        "     total -= 50\n",
        "     print('50 rs discount applied on Pizza')\n",
        "print('Final Bill Amount', total)"
      ],
      "metadata": {
        "colab": {
          "base_uri": "https://localhost:8080/"
        },
        "id": "c36jMILy8i6G",
        "outputId": "a831a624-6b05-4f11-8822-48eea963371e"
      },
      "execution_count": 26,
      "outputs": [
        {
          "output_type": "stream",
          "name": "stdout",
          "text": [
            "enter order:pizza\n",
            "enter order:pasta\n",
            "enter order:puffs\n",
            "item not available\n",
            "enter order:done\n",
            "50 rs discount applied on Pizza\n",
            "Final Bill Amount 500\n"
          ]
        }
      ]
    },
    {
      "cell_type": "code",
      "source": [
        "#6. Temperature Conversion Tool\n",
        "#Write a program that:\n",
        "#● Asks user for temperature in Celsius.\n",
        "#● Converts to Fahrenheit using formula:\n",
        "celsius_temperature=float(input('enter your temperature in celsius:'))\n",
        "fahrenheit_temperature=(celsius_temperature*9/5)+32\n",
        "print('fahrenheit temperature:',fahrenheit_temperature)"
      ],
      "metadata": {
        "colab": {
          "base_uri": "https://localhost:8080/"
        },
        "id": "ZiBuaD5mJA1u",
        "outputId": "b9d16818-eee5-486a-9728-db34404169df"
      },
      "execution_count": 27,
      "outputs": [
        {
          "output_type": "stream",
          "name": "stdout",
          "text": [
            "enter your temperature in celsius:38.5\n",
            "fahrenheit temperature: 101.3\n"
          ]
        }
      ]
    },
    {
      "cell_type": "code",
      "source": [
        "#7. Online Shopping Cart\n",
        "#● Create a cart as a list.\n",
        "#● Allow user to add items, remove items, and view cart.\n",
        "#● Exit when user types \"checkout\".\n",
        "cart=[]\n",
        "while True:\n",
        "  action=input(\"enter 'add', 'remove', 'view':\")\n",
        "  if action == 'add':\n",
        "    item=input('enter add item')\n",
        "    cart.append(item)\n",
        "  elif action == 'remove':\n",
        "    item=input('enter remove item')\n",
        "    cart.remove(item)\n",
        "  elif action == 'view':\n",
        "    print('shopping cart', cart)\n",
        "    break\n",
        "  else:\n",
        "    print('invalid option')"
      ],
      "metadata": {
        "colab": {
          "base_uri": "https://localhost:8080/"
        },
        "id": "1dU6Ydr2KMHj",
        "outputId": "0ce170a9-bb6d-4b3f-8a1a-780f78536e2d"
      },
      "execution_count": 34,
      "outputs": [
        {
          "output_type": "stream",
          "name": "stdout",
          "text": [
            "enter 'add', 'remove', 'view':add\n",
            "enter add itemcarrot\n",
            "enter 'add', 'remove', 'view':add\n",
            "enter add itemtomato\n",
            "enter 'add', 'remove', 'view':add\n",
            "enter add itempotato\n",
            "enter 'add', 'remove', 'view':add\n",
            "enter add itemrice\n",
            "enter 'add', 'remove', 'view':add\n",
            "enter add itemmilk\n",
            "enter 'add', 'remove', 'view':remove\n",
            "enter remove itemrice\n",
            "enter 'add', 'remove', 'view':view\n",
            "shopping cart ['carrot', 'tomato', 'potato', 'milk']\n"
          ]
        }
      ]
    },
    {
      "cell_type": "code",
      "source": [
        "#8. Student Attendance Tracker\n",
        "#● Store student names in a list.\n",
        "#● Mark attendance as P or A.\n",
        "#● Print the total number of present and absent students.\n",
        "students=['liya','emin','yasdan','iza','tani']\n",
        "attendance={}\n",
        "for student in students:\n",
        "    status = input(f'Mark attendance for {student} (P/A): ')\n",
        "    attendance[student] = status.upper()\n",
        "\n",
        "present = list(attendance.values()).count('P')\n",
        "absent = list(attendance.values()).count('A')\n",
        "\n",
        "print(\"Present Students:\", present)\n",
        "print(\"Absent Students:\", absent)"
      ],
      "metadata": {
        "colab": {
          "base_uri": "https://localhost:8080/"
        },
        "id": "zJc9gviQO9_G",
        "outputId": "9cc724a7-1328-47ed-8cdc-6d2996083cd0"
      },
      "execution_count": 35,
      "outputs": [
        {
          "output_type": "stream",
          "name": "stdout",
          "text": [
            "Mark attendance for liya (P/A): P\n",
            "Mark attendance for emin (P/A): P\n",
            "Mark attendance for yasdan (P/A): A\n",
            "Mark attendance for iza (P/A): A\n",
            "Mark attendance for tani (P/A): P\n",
            "Present Students: 3\n",
            "Absent Students: 2\n"
          ]
        }
      ]
    },
    {
      "cell_type": "code",
      "source": [
        "#9. Cinema Ticket Booking System\n",
        "#Create a program where users can book movie tickets. A theater has 50 seats in total. Each\n",
        "#ticket costs ₹120.\n",
        "#● Ask the user how many tickets they want.\n",
        "#● If enough seats are available → confirm booking and reduce available seats.\n",
        "#● If not enough seats → show an error message.\n",
        "#● Show remaining seats after each booking\n",
        "seats=50\n",
        "ticket_cost=120\n",
        "tickets=int(input('enter no of seats:'))\n",
        "if tickets<=seats:\n",
        "  cost=ticket_cost*ticket_cost\n",
        "  seats -= tickets\n",
        "  print(f'Booking successful! Total = {cost}')\n",
        "else:\n",
        "  print('Not enough seats available')\n",
        "  print('Remaining Seats:', seat)\n",
        "\n"
      ],
      "metadata": {
        "colab": {
          "base_uri": "https://localhost:8080/"
        },
        "id": "fe004VbkQJcT",
        "outputId": "94022315-a4e8-417c-c638-9ef0f153e23d"
      },
      "execution_count": 38,
      "outputs": [
        {
          "output_type": "stream",
          "name": "stdout",
          "text": [
            "enter no of seats:30\n",
            "Booking successful! Total = 14400\n"
          ]
        }
      ]
    },
    {
      "cell_type": "code",
      "source": [
        "#10. Bank Loan Eligibility Checker\n",
        "#A bank provides loans only if:\n",
        "#● Salary ≥ 25,000\n",
        "#● Credit Score ≥ 650\n",
        "#● Age between 21 and 60\n",
        "#Ask the user for salary, credit score, and age, then decide if they are eligible.\n",
        "\n",
        "salary = int(input(\"Enter your monthly salary: \"))\n",
        "credit_score = int(input(\"Enter your credit score: \"))\n",
        "age = int(input(\"Enter your age: \"))\n",
        "\n",
        "if salary >= 25000 and credit_score >= 650 and 21 <= age <= 60:\n",
        "    print(' Eligible for Loan')\n",
        "else:\n",
        "    print(' Not Eligible for Loan')"
      ],
      "metadata": {
        "colab": {
          "base_uri": "https://localhost:8080/"
        },
        "id": "f2AjOYsFS-7U",
        "outputId": "8603b002-7f38-472c-8acf-4767880a04eb"
      },
      "execution_count": 39,
      "outputs": [
        {
          "output_type": "stream",
          "name": "stdout",
          "text": [
            "Enter your monthly salary: 60000\n",
            "Enter your credit score: 560\n",
            "Enter your age: 24\n",
            " Not Eligible for Loan\n"
          ]
        }
      ]
    }
  ]
}