{
  "nbformat": 4,
  "nbformat_minor": 0,
  "metadata": {
    "colab": {
      "provenance": [],
      "authorship_tag": "ABX9TyM6IPmkKddusqr8XyeoBYk/",
      "include_colab_link": true
    },
    "kernelspec": {
      "name": "python3",
      "display_name": "Python 3"
    },
    "language_info": {
      "name": "python"
    }
  },
  "cells": [
    {
      "cell_type": "markdown",
      "metadata": {
        "id": "view-in-github",
        "colab_type": "text"
      },
      "source": [
        "<a href=\"https://colab.research.google.com/github/thasliya0404/class-activity/blob/main/Untitled9.ipynb\" target=\"_parent\"><img src=\"https://colab.research.google.com/assets/colab-badge.svg\" alt=\"Open In Colab\"/></a>"
      ]
    },
    {
      "cell_type": "markdown",
      "source": [
        "##**python activity**"
      ],
      "metadata": {
        "id": "qKUmRG85qw1j"
      }
    },
    {
      "cell_type": "code",
      "execution_count": 4,
      "metadata": {
        "colab": {
          "base_uri": "https://localhost:8080/"
        },
        "id": "21b0yiGCWiOQ",
        "outputId": "822c7d14-f8e0-4f3b-bddc-19bb8902509c"
      },
      "outputs": [
        {
          "output_type": "stream",
          "name": "stdout",
          "text": [
            "[10 11 12 13 14 15 16 17 18 19 20 21 22 23 24 25 26 27 28 29 30 31 32 33\n",
            " 34 35 36 37 38 39 40 41 42 43 44 45 46 47 48 49]\n",
            "[[10 11 12 13 14 15 16 17 18 19]\n",
            " [20 21 22 23 24 25 26 27 28 29]\n",
            " [30 31 32 33 34 35 36 37 38 39]\n",
            " [40 41 42 43 44 45 46 47 48 49]]\n",
            "[19 29 39 49]\n"
          ]
        }
      ],
      "source": [
        "#1. Create a NumPy array with values from 10 to 49 (inclusive).\n",
        "#● Reshape it into a 4x10 matrix.\n",
        "#● Then extract the last column from the reshaped matrix\n",
        "import numpy as np\n",
        "x=np.arange(10,50)\n",
        "print(x)\n",
        "y=x.reshape(4,10)\n",
        "print(y)\n",
        "last_column=y[:,-1]\n",
        "print(last_column)"
      ]
    },
    {
      "cell_type": "code",
      "source": [
        "#2. Create two 3×3 matrices:\n",
        "#One filled with all 5s , One with values from 1 to 9\n",
        "#● Add the two matrices\n",
        "#● Multiply them element-wise\n",
        "#● Then find the transpose of the result"
      ],
      "metadata": {
        "id": "UAm0UMOUW5Oo"
      },
      "execution_count": null,
      "outputs": []
    },
    {
      "cell_type": "code",
      "source": [
        "mat1=np.ones((3,3))\n",
        "mat2=np.arange(1,10).reshape(3,3)\n",
        "add=mat1+mat2\n",
        "multiplication=mat1*mat2\n",
        "transpose=multiplication.T\n",
        "print(mat1)\n",
        "print(mat2)\n",
        "print(add)\n",
        "print(multiplication)\n",
        "print(transpose)"
      ],
      "metadata": {
        "colab": {
          "base_uri": "https://localhost:8080/"
        },
        "id": "yp-MoZLsXlNI",
        "outputId": "069ab7b7-bdd6-4e23-d43b-e3b6da637394"
      },
      "execution_count": 8,
      "outputs": [
        {
          "output_type": "stream",
          "name": "stdout",
          "text": [
            "[[1. 1. 1.]\n",
            " [1. 1. 1.]\n",
            " [1. 1. 1.]]\n",
            "[[1 2 3]\n",
            " [4 5 6]\n",
            " [7 8 9]]\n",
            "[[ 2.  3.  4.]\n",
            " [ 5.  6.  7.]\n",
            " [ 8.  9. 10.]]\n",
            "[[1. 2. 3.]\n",
            " [4. 5. 6.]\n",
            " [7. 8. 9.]]\n",
            "[[1. 4. 7.]\n",
            " [2. 5. 8.]\n",
            " [3. 6. 9.]]\n"
          ]
        }
      ]
    },
    {
      "cell_type": "code",
      "source": [
        "#3. Create a NumPy array of 15 random integers between 10 and 100.\n",
        "#● Replace all values greater than 50 with -1\n",
        "#● Count how many values were replaced.\n",
        "z=np.random.randint(10,101,15)\n",
        "replaced=z>50\n",
        "z[replaced]=-1\n",
        "count_replaced=np.sum(replaced)\n",
        "print(z)\n",
        "print(replaced)\n",
        "print(count_replaced)"
      ],
      "metadata": {
        "colab": {
          "base_uri": "https://localhost:8080/"
        },
        "id": "HbDyczekZzOs",
        "outputId": "b2248aae-11c2-4b32-ac1a-9291c02f680c"
      },
      "execution_count": 10,
      "outputs": [
        {
          "output_type": "stream",
          "name": "stdout",
          "text": [
            "[-1 -1 -1 41 48 -1 -1 16 27 45 -1 43 47 25 41]\n",
            "[ True  True  True False False  True  True False False False  True False\n",
            " False False False]\n",
            "6\n"
          ]
        }
      ]
    },
    {
      "cell_type": "code",
      "source": [
        "#4. Generate a 5×4 array with random values between 0 and 1 (float).\n",
        "#● Find the row with the maximum sum of values.\n",
        "#● Normalize each row using the formula:x_norm=x-min/max-min\n",
        "arr1=np.random.rand(5,4)\n",
        "row_max_sum=np.argmax(arr1.sum(axis=1))\n",
        "row_min=arr1.min(axis=1,keepdims=True)\n",
        "row_max=arr1.max(axis=1,keepdims=True)\n",
        "normalized=(arr1-row_min)/(row_max-row_min)\n",
        "print(arr1)\n",
        "print(row_max_sum)\n",
        "print(row_max)\n",
        "print(row_min)\n",
        "print(normalized)"
      ],
      "metadata": {
        "colab": {
          "base_uri": "https://localhost:8080/"
        },
        "id": "2BWFK1ICa5Wd",
        "outputId": "6d990b5f-f672-404a-eeca-ba4fe3c32cfa"
      },
      "execution_count": 13,
      "outputs": [
        {
          "output_type": "stream",
          "name": "stdout",
          "text": [
            "[[0.77275312 0.21330339 0.59882681 0.3210624 ]\n",
            " [0.30841745 0.36500835 0.83032613 0.55268872]\n",
            " [0.10603647 0.17277979 0.43851974 0.75722342]\n",
            " [0.63374445 0.47354377 0.49673613 0.61390103]\n",
            " [0.65299921 0.61491732 0.96039216 0.32850608]]\n",
            "4\n",
            "[[0.77275312]\n",
            " [0.83032613]\n",
            " [0.75722342]\n",
            " [0.63374445]\n",
            " [0.96039216]]\n",
            "[[0.21330339]\n",
            " [0.30841745]\n",
            " [0.10603647]\n",
            " [0.47354377]\n",
            " [0.32850608]]\n",
            "[[1.         0.         0.68911182 0.19261607]\n",
            " [0.         0.10843066 1.         0.4680345 ]\n",
            " [0.         0.10249487 0.51058037 1.        ]\n",
            " [1.         0.         0.14477072 0.87613399]\n",
            " [0.51353106 0.45326404 1.         0.        ]]\n"
          ]
        }
      ]
    },
    {
      "cell_type": "code",
      "source": [
        "#5. arr = np.array([1, 3, 5, 3, 7, 9, 1, 5, 5])\n",
        "#● Find all unique elements\n",
        "#● Find the duplicates (elements that appear more than once)\n",
        "arr = np.array([1, 3, 5, 3, 7, 9, 1, 5, 5])\n",
        "unique_elements = np.unique(arr)\n",
        "counts = np.bincount(arr)\n",
        "duplicates = np.where(counts > 1)[0] #elements with counts greater than 1\n",
        "print(unique_elements)\n",
        "print(counts)\n",
        "print(duplicates)"
      ],
      "metadata": {
        "colab": {
          "base_uri": "https://localhost:8080/"
        },
        "id": "-CC0PXDsb88F",
        "outputId": "f57bdfb7-2bf4-4b75-f65d-39c3c0daf1a5"
      },
      "execution_count": 18,
      "outputs": [
        {
          "output_type": "stream",
          "name": "stdout",
          "text": [
            "[1 3 5 7 9]\n",
            "[0 2 0 2 0 3 0 1 0 1]\n",
            "[1 3 5]\n"
          ]
        }
      ]
    },
    {
      "cell_type": "code",
      "source": [
        "#6. Create a 6×6 NumPy array with values from 1 to 36.\n",
        "#● Extract the middle 4×4 submatrix.\n",
        "#● Then extract all even numbers from this submatrix.\n",
        "arr3=np.arange(1,37).reshape(6,6)\n",
        "sub_matrix=arr3[1:5,1:5]\n",
        "even_numbers = sub_matrix[sub_matrix %2 == 0]\n",
        "print(arr3)\n",
        "print(sub_matrix)\n",
        "print(even_numbers)"
      ],
      "metadata": {
        "colab": {
          "base_uri": "https://localhost:8080/"
        },
        "id": "tARZg0shkDue",
        "outputId": "d5c35338-dcad-4548-d442-6c1b825983a7"
      },
      "execution_count": 19,
      "outputs": [
        {
          "output_type": "stream",
          "name": "stdout",
          "text": [
            "[[ 1  2  3  4  5  6]\n",
            " [ 7  8  9 10 11 12]\n",
            " [13 14 15 16 17 18]\n",
            " [19 20 21 22 23 24]\n",
            " [25 26 27 28 29 30]\n",
            " [31 32 33 34 35 36]]\n",
            "[[ 8  9 10 11]\n",
            " [14 15 16 17]\n",
            " [20 21 22 23]\n",
            " [26 27 28 29]]\n",
            "[ 8 10 14 16 20 22 26 28]\n"
          ]
        }
      ]
    },
    {
      "cell_type": "code",
      "source": [
        "#7. Generate an array of shape (3, 4) with values from 0 to 11.\n",
        "#● Reshape it to (2, 6)\n",
        "#● Then flatten it into a 1D array\n",
        "#● Convert the 1D array back to shape (4, 3).\n",
        "arr4 = np.arange(12).reshape(3, 4)\n",
        "reshaped_2x6 = arr4.reshape(2, 6)\n",
        "flattened = arr4.flatten()\n",
        "reshaped_4x3 = arr4.reshape(4,3)\n",
        "print(arr4)\n",
        "print(reshaped_2x6)\n",
        "print(flattened)\n",
        "print(reshaped_4x3)"
      ],
      "metadata": {
        "colab": {
          "base_uri": "https://localhost:8080/"
        },
        "id": "KTz0F24Tm2sm",
        "outputId": "9b24cd1d-7388-4303-80e1-1c03c27fd912"
      },
      "execution_count": 24,
      "outputs": [
        {
          "output_type": "stream",
          "name": "stdout",
          "text": [
            "[[ 0  1  2  3]\n",
            " [ 4  5  6  7]\n",
            " [ 8  9 10 11]]\n",
            "[[ 0  1  2  3  4  5]\n",
            " [ 6  7  8  9 10 11]]\n",
            "[ 0  1  2  3  4  5  6  7  8  9 10 11]\n",
            "[[ 0  1  2]\n",
            " [ 3  4  5]\n",
            " [ 6  7  8]\n",
            " [ 9 10 11]]\n"
          ]
        }
      ]
    },
    {
      "cell_type": "code",
      "source": [
        "#8 . Create an array: a = np.array([[1, 2], [3, 4]])\n",
        "#● Append a new row [5, 6]\n",
        "#● Then append a new column [7, 8, 9]\n",
        "a = np.array([[1, 2], [3, 4]])\n",
        "a_row = np.vstack([a, [5, 6]])\n",
        "a_col = np.column_stack([a_row, [7, 8, 9]])\n",
        "print(a_row)\n",
        "print(a_col)"
      ],
      "metadata": {
        "colab": {
          "base_uri": "https://localhost:8080/"
        },
        "id": "pqOO5GoCoW2F",
        "outputId": "1d65f3fa-f8cf-497e-b6d4-cc44f8c14038"
      },
      "execution_count": 25,
      "outputs": [
        {
          "output_type": "stream",
          "name": "stdout",
          "text": [
            "[[1 2]\n",
            " [3 4]\n",
            " [5 6]]\n",
            "[[1 2 7]\n",
            " [3 4 8]\n",
            " [5 6 9]]\n"
          ]
        }
      ]
    },
    {
      "cell_type": "code",
      "source": [
        "#9.a = np.array([1, 2, 3])\n",
        "#b = np.array([4, 5, 6])\n",
        "#c = np.array([7, 8, 9])\n",
        "#● Join them into a single array\n",
        "#● Reshape the result into a 3×3 matrix\n",
        "#● Extract the diagonal elements\n",
        "a = np.array([1, 2, 3])\n",
        "b = np.array([4, 5, 6])\n",
        "c = np.array([7, 8, 9])\n",
        "joined = np.concatenate([a, b, c])\n",
        "matrix = joined.reshape(3, 3)\n",
        "diagonal_elements = np.diag(matrix)\n",
        "print(joined)\n",
        "print(matrix)\n",
        "print(diagonal_elements)"
      ],
      "metadata": {
        "colab": {
          "base_uri": "https://localhost:8080/"
        },
        "id": "LcOPBbWHpArO",
        "outputId": "a1251042-458c-4c64-f37f-7b6faf1695a2"
      },
      "execution_count": 26,
      "outputs": [
        {
          "output_type": "stream",
          "name": "stdout",
          "text": [
            "[1 2 3 4 5 6 7 8 9]\n",
            "[[1 2 3]\n",
            " [4 5 6]\n",
            " [7 8 9]]\n",
            "[1 5 9]\n"
          ]
        }
      ]
    },
    {
      "cell_type": "code",
      "source": [
        "#10. Create a NumPy array of integers from 1 to 20.\n",
        "#● Extract all values that are divisible by 3 or 5.\n",
        "#● Count how many such values exist.\n",
        "arr5 = np.arange(1, 21)\n",
        "divisible = arr5[(arr5 % 3 == 0) | (arr5 % 5 == 0)]\n",
        "count_divisible = len(divisible)\n",
        "print(arr5)\n",
        "print(divisible)\n",
        "print(count_divisible)"
      ],
      "metadata": {
        "colab": {
          "base_uri": "https://localhost:8080/"
        },
        "id": "rISPCRAyptVR",
        "outputId": "515bfb47-f5c2-4c81-eabf-37404f4e5367"
      },
      "execution_count": 30,
      "outputs": [
        {
          "output_type": "stream",
          "name": "stdout",
          "text": [
            "[ 1  2  3  4  5  6  7  8  9 10 11 12 13 14 15 16 17 18 19 20]\n",
            "[ 3  5  6  9 10 12 15 18 20]\n",
            "9\n"
          ]
        }
      ]
    },
    {
      "cell_type": "markdown",
      "source": [
        "##**pandas activity**"
      ],
      "metadata": {
        "id": "V97s-yadqli3"
      }
    },
    {
      "cell_type": "code",
      "source": [
        "#1. Load the Titanic dataset and display the first 10 rows.\n",
        "import pandas as pd\n",
        "import seaborn as sns\n",
        "data=sns.load_dataset('titanic')\n",
        "print(data.head(10))"
      ],
      "metadata": {
        "colab": {
          "base_uri": "https://localhost:8080/"
        },
        "id": "Qt0UocqEqtYf",
        "outputId": "86a88975-7230-4f5d-f8aa-f37f6079d5b5"
      },
      "execution_count": 36,
      "outputs": [
        {
          "output_type": "stream",
          "name": "stdout",
          "text": [
            "   survived  pclass     sex   age  sibsp  parch     fare embarked   class  \\\n",
            "0         0       3    male  22.0      1      0   7.2500        S   Third   \n",
            "1         1       1  female  38.0      1      0  71.2833        C   First   \n",
            "2         1       3  female  26.0      0      0   7.9250        S   Third   \n",
            "3         1       1  female  35.0      1      0  53.1000        S   First   \n",
            "4         0       3    male  35.0      0      0   8.0500        S   Third   \n",
            "5         0       3    male   NaN      0      0   8.4583        Q   Third   \n",
            "6         0       1    male  54.0      0      0  51.8625        S   First   \n",
            "7         0       3    male   2.0      3      1  21.0750        S   Third   \n",
            "8         1       3  female  27.0      0      2  11.1333        S   Third   \n",
            "9         1       2  female  14.0      1      0  30.0708        C  Second   \n",
            "\n",
            "     who  adult_male deck  embark_town alive  alone  \n",
            "0    man        True  NaN  Southampton    no  False  \n",
            "1  woman       False    C    Cherbourg   yes  False  \n",
            "2  woman       False  NaN  Southampton   yes   True  \n",
            "3  woman       False    C  Southampton   yes  False  \n",
            "4    man        True  NaN  Southampton    no   True  \n",
            "5    man        True  NaN   Queenstown    no   True  \n",
            "6    man        True    E  Southampton    no   True  \n",
            "7  child       False  NaN  Southampton    no  False  \n",
            "8  woman       False  NaN  Southampton   yes  False  \n",
            "9  child       False  NaN    Cherbourg   yes  False  \n"
          ]
        }
      ]
    },
    {
      "cell_type": "code",
      "source": [
        "#2. Find the number of missing values in each column.\n",
        "print(data.isnull().sum())"
      ],
      "metadata": {
        "colab": {
          "base_uri": "https://localhost:8080/"
        },
        "id": "TaQvwI0GrqY7",
        "outputId": "ea274462-1912-48ab-94d3-32db1b311c08"
      },
      "execution_count": 37,
      "outputs": [
        {
          "output_type": "stream",
          "name": "stdout",
          "text": [
            "survived         0\n",
            "pclass           0\n",
            "sex              0\n",
            "age            177\n",
            "sibsp            0\n",
            "parch            0\n",
            "fare             0\n",
            "embarked         2\n",
            "class            0\n",
            "who              0\n",
            "adult_male       0\n",
            "deck           688\n",
            "embark_town      2\n",
            "alive            0\n",
            "alone            0\n",
            "dtype: int64\n"
          ]
        }
      ]
    },
    {
      "cell_type": "code",
      "source": [
        "#3. Find the percentage of passengers who survived, grouped by gender\n",
        "print(data.groupby(\"sex\")[\"survived\"].mean() * 100)"
      ],
      "metadata": {
        "colab": {
          "base_uri": "https://localhost:8080/"
        },
        "id": "hAM2n8Iqs0r3",
        "outputId": "ccbe67e2-2ad4-4118-83be-b012c027a4d8"
      },
      "execution_count": 38,
      "outputs": [
        {
          "output_type": "stream",
          "name": "stdout",
          "text": [
            "sex\n",
            "female    74.203822\n",
            "male      18.890815\n",
            "Name: survived, dtype: float64\n"
          ]
        }
      ]
    },
    {
      "cell_type": "code",
      "source": [
        "#4. Find the average, median, and standard deviation of passenger ages\n",
        "print(\"Average age:\", data[\"age\"].mean())\n",
        "print(\"Median age:\", data[\"age\"].median())\n",
        "print(\"Std Dev age:\", data[\"age\"].std())"
      ],
      "metadata": {
        "colab": {
          "base_uri": "https://localhost:8080/"
        },
        "id": "B3FeBI-JtEcQ",
        "outputId": "4e005844-078d-4ef6-e198-904e0bdefe2a"
      },
      "execution_count": 39,
      "outputs": [
        {
          "output_type": "stream",
          "name": "stdout",
          "text": [
            "Average age: 29.69911764705882\n",
            "Median age: 28.0\n",
            "Std Dev age: 14.526497332334044\n"
          ]
        }
      ]
    },
    {
      "cell_type": "code",
      "source": [
        "#5. Count how many passengers were in each class (pclass).\n",
        "print(data[\"pclass\"].value_counts())"
      ],
      "metadata": {
        "colab": {
          "base_uri": "https://localhost:8080/"
        },
        "id": "jYeRSerftYxb",
        "outputId": "14ac92b7-e4cf-40d0-dfbf-184285274fdb"
      },
      "execution_count": 40,
      "outputs": [
        {
          "output_type": "stream",
          "name": "stdout",
          "text": [
            "pclass\n",
            "3    491\n",
            "1    216\n",
            "2    184\n",
            "Name: count, dtype: int64\n"
          ]
        }
      ]
    },
    {
      "cell_type": "code",
      "source": [
        "#6. Show all passengers who were female, under age 18, and survived.\n",
        "print(data[(data[\"sex\"] == \"female\") & (data[\"age\"] < 18) & (data[\"survived\"] == 1)])"
      ],
      "metadata": {
        "colab": {
          "base_uri": "https://localhost:8080/"
        },
        "id": "84f2IFxotsv2",
        "outputId": "8ce3829e-0ecf-4a63-bef3-a68b9ccbcc57"
      },
      "execution_count": 41,
      "outputs": [
        {
          "output_type": "stream",
          "name": "stdout",
          "text": [
            "     survived  pclass     sex    age  sibsp  parch      fare embarked   class  \\\n",
            "9           1       2  female  14.00      1      0   30.0708        C  Second   \n",
            "10          1       3  female   4.00      1      1   16.7000        S   Third   \n",
            "22          1       3  female  15.00      0      0    8.0292        Q   Third   \n",
            "39          1       3  female  14.00      1      0   11.2417        C   Third   \n",
            "43          1       2  female   3.00      1      2   41.5792        C  Second   \n",
            "58          1       2  female   5.00      1      2   27.7500        S  Second   \n",
            "68          1       3  female  17.00      4      2    7.9250        S   Third   \n",
            "84          1       2  female  17.00      0      0   10.5000        S  Second   \n",
            "156         1       3  female  16.00      0      0    7.7333        Q   Third   \n",
            "172         1       3  female   1.00      1      1   11.1333        S   Third   \n",
            "184         1       3  female   4.00      0      2   22.0250        S   Third   \n",
            "208         1       3  female  16.00      0      0    7.7500        Q   Third   \n",
            "233         1       3  female   5.00      4      2   31.3875        S   Third   \n",
            "237         1       2  female   8.00      0      2   26.2500        S  Second   \n",
            "307         1       1  female  17.00      1      0  108.9000        C   First   \n",
            "329         1       1  female  16.00      0      1   57.9792        C   First   \n",
            "381         1       3  female   1.00      0      2   15.7417        C   Third   \n",
            "389         1       2  female  17.00      0      0   12.0000        C  Second   \n",
            "435         1       1  female  14.00      1      2  120.0000        S   First   \n",
            "446         1       2  female  13.00      0      1   19.5000        S  Second   \n",
            "448         1       3  female   5.00      2      1   19.2583        C   Third   \n",
            "469         1       3  female   0.75      2      1   19.2583        C   Third   \n",
            "479         1       3  female   2.00      0      1   12.2875        S   Third   \n",
            "504         1       1  female  16.00      0      0   86.5000        S   First   \n",
            "530         1       2  female   2.00      1      1   26.0000        S  Second   \n",
            "535         1       2  female   7.00      0      2   26.2500        S  Second   \n",
            "618         1       2  female   4.00      2      1   39.0000        S  Second   \n",
            "644         1       3  female   0.75      2      1   19.2583        C   Third   \n",
            "689         1       1  female  15.00      0      1  211.3375        S   First   \n",
            "691         1       3  female   4.00      0      1   13.4167        C   Third   \n",
            "720         1       2  female   6.00      0      1   33.0000        S  Second   \n",
            "750         1       2  female   4.00      1      1   23.0000        S  Second   \n",
            "777         1       3  female   5.00      0      0   12.4750        S   Third   \n",
            "780         1       3  female  13.00      0      0    7.2292        C   Third   \n",
            "781         1       1  female  17.00      1      0   57.0000        S   First   \n",
            "830         1       3  female  15.00      1      0   14.4542        C   Third   \n",
            "853         1       1  female  16.00      0      1   39.4000        S   First   \n",
            "875         1       3  female  15.00      0      0    7.2250        C   Third   \n",
            "\n",
            "       who  adult_male deck  embark_town alive  alone  \n",
            "9    child       False  NaN    Cherbourg   yes  False  \n",
            "10   child       False    G  Southampton   yes  False  \n",
            "22   child       False  NaN   Queenstown   yes   True  \n",
            "39   child       False  NaN    Cherbourg   yes  False  \n",
            "43   child       False  NaN    Cherbourg   yes  False  \n",
            "58   child       False  NaN  Southampton   yes  False  \n",
            "68   woman       False  NaN  Southampton   yes  False  \n",
            "84   woman       False  NaN  Southampton   yes   True  \n",
            "156  woman       False  NaN   Queenstown   yes   True  \n",
            "172  child       False  NaN  Southampton   yes  False  \n",
            "184  child       False  NaN  Southampton   yes  False  \n",
            "208  woman       False  NaN   Queenstown   yes   True  \n",
            "233  child       False  NaN  Southampton   yes  False  \n",
            "237  child       False  NaN  Southampton   yes  False  \n",
            "307  woman       False    C    Cherbourg   yes  False  \n",
            "329  woman       False    B    Cherbourg   yes  False  \n",
            "381  child       False  NaN    Cherbourg   yes  False  \n",
            "389  woman       False  NaN    Cherbourg   yes   True  \n",
            "435  child       False    B  Southampton   yes  False  \n",
            "446  child       False  NaN  Southampton   yes  False  \n",
            "448  child       False  NaN    Cherbourg   yes  False  \n",
            "469  child       False  NaN    Cherbourg   yes  False  \n",
            "479  child       False  NaN  Southampton   yes  False  \n",
            "504  woman       False    B  Southampton   yes   True  \n",
            "530  child       False  NaN  Southampton   yes  False  \n",
            "535  child       False  NaN  Southampton   yes  False  \n",
            "618  child       False    F  Southampton   yes  False  \n",
            "644  child       False  NaN    Cherbourg   yes  False  \n",
            "689  child       False    B  Southampton   yes  False  \n",
            "691  child       False  NaN    Cherbourg   yes  False  \n",
            "720  child       False  NaN  Southampton   yes  False  \n",
            "750  child       False  NaN  Southampton   yes  False  \n",
            "777  child       False  NaN  Southampton   yes   True  \n",
            "780  child       False  NaN    Cherbourg   yes   True  \n",
            "781  woman       False    B  Southampton   yes  False  \n",
            "830  child       False  NaN    Cherbourg   yes  False  \n",
            "853  woman       False    D  Southampton   yes  False  \n",
            "875  child       False  NaN    Cherbourg   yes   True  \n"
          ]
        }
      ]
    },
    {
      "cell_type": "code",
      "source": [
        "#7. Replace missing age values with the median age.\n",
        "import numpy as np\n",
        "data[\"age\"] = data[\"age\"].fillna(data[\"age\"].median(),inplace=True)\n",
        "print(data[\"age\"] )"
      ],
      "metadata": {
        "colab": {
          "base_uri": "https://localhost:8080/"
        },
        "id": "tu0WuOKtuHmP",
        "outputId": "95ff6aa5-dd40-42bb-ca5c-0db0c034bd0f"
      },
      "execution_count": 65,
      "outputs": [
        {
          "output_type": "stream",
          "name": "stdout",
          "text": [
            "0      None\n",
            "1      None\n",
            "2      None\n",
            "3      None\n",
            "4      None\n",
            "       ... \n",
            "886    None\n",
            "887    None\n",
            "888    None\n",
            "889    None\n",
            "890    None\n",
            "Name: age, Length: 891, dtype: object\n"
          ]
        },
        {
          "output_type": "stream",
          "name": "stderr",
          "text": [
            "/usr/local/lib/python3.12/dist-packages/numpy/lib/_nanfunctions_impl.py:1231: RuntimeWarning: Mean of empty slice\n",
            "  return np.nanmean(a, axis, out=out, keepdims=keepdims)\n",
            "/tmp/ipython-input-60902457.py:3: FutureWarning: A value is trying to be set on a copy of a DataFrame or Series through chained assignment using an inplace method.\n",
            "The behavior will change in pandas 3.0. This inplace method will never work because the intermediate object on which we are setting values always behaves as a copy.\n",
            "\n",
            "For example, when doing 'df[col].method(value, inplace=True)', try using 'df.method({col: value}, inplace=True)' or df[col] = df[col].method(value) instead, to perform the operation inplace on the original object.\n",
            "\n",
            "\n",
            "  data[\"age\"] = data[\"age\"].fillna(data[\"age\"].median(),inplace=True)\n",
            "/tmp/ipython-input-60902457.py:3: FutureWarning: Downcasting object dtype arrays on .fillna, .ffill, .bfill is deprecated and will change in a future version. Call result.infer_objects(copy=False) instead. To opt-in to the future behavior, set `pd.set_option('future.no_silent_downcasting', True)`\n",
            "  data[\"age\"] = data[\"age\"].fillna(data[\"age\"].median(),inplace=True)\n"
          ]
        }
      ]
    },
    {
      "cell_type": "code",
      "source": [
        "# 8. Create age_group column\n",
        "data[\"age_group\"] = pd.cut(\n",
        "    data[\"age\"],\n",
        "    bins=[0, 18, 60, 120],\n",
        "    labels=[\"Child\", \"Adult\", \"Senior\"],\n",
        "    right=False)\n",
        "print(data[\"age_group\"])"
      ],
      "metadata": {
        "colab": {
          "base_uri": "https://localhost:8080/"
        },
        "id": "1toJOqrBuHCX",
        "outputId": "ef7091d9-44b6-49fc-f265-fe1bf37bdf5d"
      },
      "execution_count": 46,
      "outputs": [
        {
          "output_type": "stream",
          "name": "stdout",
          "text": [
            "0      Adult\n",
            "1      Adult\n",
            "2      Adult\n",
            "3      Adult\n",
            "4      Adult\n",
            "       ...  \n",
            "886    Adult\n",
            "887    Adult\n",
            "888    Adult\n",
            "889    Adult\n",
            "890    Adult\n",
            "Name: age_group, Length: 891, dtype: category\n",
            "Categories (3, object): ['Child' < 'Adult' < 'Senior']\n"
          ]
        }
      ]
    },
    {
      "cell_type": "code",
      "source": [
        "#d. Use: apply() or np.where() or custom function\n",
        "data[\"age_group\"] = np.where(data[\"age\"] < 18, \"Child\",\n",
        "np.where(data[\"age\"] <= 60, \"Adult\", \"Senior\"))\n",
        "print(data[\"age_group\"])"
      ],
      "metadata": {
        "colab": {
          "base_uri": "https://localhost:8080/"
        },
        "id": "mh8NJbRzuG_A",
        "outputId": "84150651-ad70-4b8a-83ef-4cb6d1e840d9"
      },
      "execution_count": 47,
      "outputs": [
        {
          "output_type": "stream",
          "name": "stdout",
          "text": [
            "0      Adult\n",
            "1      Adult\n",
            "2      Adult\n",
            "3      Adult\n",
            "4      Adult\n",
            "       ...  \n",
            "886    Adult\n",
            "887    Adult\n",
            "888    Adult\n",
            "889    Adult\n",
            "890    Adult\n",
            "Name: age_group, Length: 891, dtype: object\n"
          ]
        }
      ]
    },
    {
      "cell_type": "code",
      "source": [
        "#9. Display the top 5 passengers who paid the highest fare.\n",
        "print(data.nlargest(5, \"fare\"))"
      ],
      "metadata": {
        "colab": {
          "base_uri": "https://localhost:8080/"
        },
        "id": "yh3mW7JYwctW",
        "outputId": "a4a3928e-ac15-4e29-d489-658653fedc40"
      },
      "execution_count": 48,
      "outputs": [
        {
          "output_type": "stream",
          "name": "stdout",
          "text": [
            "     survived  pclass     sex   age  sibsp  parch      fare embarked  class  \\\n",
            "258         1       1  female  35.0      0      0  512.3292        C  First   \n",
            "679         1       1    male  36.0      0      1  512.3292        C  First   \n",
            "737         1       1    male  35.0      0      0  512.3292        C  First   \n",
            "27          0       1    male  19.0      3      2  263.0000        S  First   \n",
            "88          1       1  female  23.0      3      2  263.0000        S  First   \n",
            "\n",
            "       who  adult_male deck  embark_town alive  alone age_group  \n",
            "258  woman       False  NaN    Cherbourg   yes   True     Adult  \n",
            "679    man        True    B    Cherbourg   yes  False     Adult  \n",
            "737    man        True    B    Cherbourg   yes   True     Adult  \n",
            "27     man        True    C  Southampton    no  False     Adult  \n",
            "88   woman       False    C  Southampton   yes  False     Adult  \n"
          ]
        }
      ]
    },
    {
      "cell_type": "code",
      "source": [
        "# 10. Average fare paid, grouped by both pclass and sex\n",
        "print(data.groupby([\"pclass\", \"sex\"])[\"fare\"].mean())"
      ],
      "metadata": {
        "colab": {
          "base_uri": "https://localhost:8080/"
        },
        "id": "99Uu3XT2wlh_",
        "outputId": "16e5bb55-1b06-4591-d3d4-a61595bc3796"
      },
      "execution_count": 49,
      "outputs": [
        {
          "output_type": "stream",
          "name": "stdout",
          "text": [
            "pclass  sex   \n",
            "1       female    106.125798\n",
            "        male       67.226127\n",
            "2       female     21.970121\n",
            "        male       19.741782\n",
            "3       female     16.118810\n",
            "        male       12.661633\n",
            "Name: fare, dtype: float64\n"
          ]
        }
      ]
    },
    {
      "cell_type": "code",
      "source": [
        "#11. Rename the following columns:\n",
        "#a. 'sex' → 'gender'\n",
        "#b. 'fare' → 'ticket_fare'\n",
        "data.rename(columns={\"sex\": \"gender\", \"fare\": \"ticket_fare\"}, inplace=True)\n",
        "print(data.head())"
      ],
      "metadata": {
        "colab": {
          "base_uri": "https://localhost:8080/"
        },
        "id": "87UdRyyXwslL",
        "outputId": "01461fc0-3742-4d8a-9a36-9e68d2d32998"
      },
      "execution_count": 50,
      "outputs": [
        {
          "output_type": "stream",
          "name": "stdout",
          "text": [
            "   survived  pclass  gender   age  sibsp  parch  ticket_fare embarked  class  \\\n",
            "0         0       3    male  22.0      1      0       7.2500        S  Third   \n",
            "1         1       1  female  38.0      1      0      71.2833        C  First   \n",
            "2         1       3  female  26.0      0      0       7.9250        S  Third   \n",
            "3         1       1  female  35.0      1      0      53.1000        S  First   \n",
            "4         0       3    male  35.0      0      0       8.0500        S  Third   \n",
            "\n",
            "     who  adult_male deck  embark_town alive  alone age_group  \n",
            "0    man        True  NaN  Southampton    no  False     Adult  \n",
            "1  woman       False    C    Cherbourg   yes  False     Adult  \n",
            "2  woman       False  NaN  Southampton   yes   True     Adult  \n",
            "3  woman       False    C  Southampton   yes  False     Adult  \n",
            "4    man        True  NaN  Southampton    no   True     Adult  \n"
          ]
        }
      ]
    },
    {
      "cell_type": "code",
      "source": [
        "# 12. Count passengers survived vs not survived, grouped by class\n",
        "print(data.groupby(\"class\")[\"survived\"].value_counts())"
      ],
      "metadata": {
        "colab": {
          "base_uri": "https://localhost:8080/"
        },
        "id": "4qUWUNa_w-uO",
        "outputId": "d68146fe-68fc-446b-b6c2-1d6ae7820314"
      },
      "execution_count": 56,
      "outputs": [
        {
          "output_type": "stream",
          "name": "stdout",
          "text": [
            "class   survived\n",
            "First   1           136\n",
            "        0            80\n",
            "Second  0            97\n",
            "        1            87\n",
            "Third   0           372\n",
            "        1           119\n",
            "Name: count, dtype: int64\n"
          ]
        },
        {
          "output_type": "stream",
          "name": "stderr",
          "text": [
            "/tmp/ipython-input-3051222897.py:2: FutureWarning: The default of observed=False is deprecated and will be changed to True in a future version of pandas. Pass observed=False to retain current behavior or observed=True to adopt the future default and silence this warning.\n",
            "  print(data.groupby(\"class\")[\"survived\"].value_counts())\n"
          ]
        }
      ]
    },
    {
      "cell_type": "code",
      "source": [
        "#13. Find the average age of passengers grouped by both class and gender\n",
        "print(data.groupby([\"class\", \"gender\"])[\"age\"].mean())"
      ],
      "metadata": {
        "colab": {
          "base_uri": "https://localhost:8080/"
        },
        "id": "fqqwqn88xFAx",
        "outputId": "882579ad-974e-4e5d-fb99-ef92cb6c1d81"
      },
      "execution_count": 53,
      "outputs": [
        {
          "output_type": "stream",
          "name": "stdout",
          "text": [
            "class   gender\n",
            "First   female    33.978723\n",
            "        male      38.995246\n",
            "Second  female    28.703947\n",
            "        male      30.512315\n",
            "Third   female    23.572917\n",
            "        male      26.911873\n",
            "Name: age, dtype: float64\n"
          ]
        },
        {
          "output_type": "stream",
          "name": "stderr",
          "text": [
            "/tmp/ipython-input-2343620695.py:2: FutureWarning: The default of observed=False is deprecated and will be changed to True in a future version of pandas. Pass observed=False to retain current behavior or observed=True to adopt the future default and silence this warning.\n",
            "  print(data.groupby([\"class\", \"gender\"])[\"age\"].mean())\n"
          ]
        }
      ]
    }
  ]
}