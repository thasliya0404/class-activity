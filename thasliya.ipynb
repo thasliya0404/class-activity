{
  "nbformat": 4,
  "nbformat_minor": 0,
  "metadata": {
    "colab": {
      "provenance": [],
      "include_colab_link": true
    },
    "kernelspec": {
      "name": "python3",
      "display_name": "Python 3"
    },
    "language_info": {
      "name": "python"
    }
  },
  "cells": [
    {
      "cell_type": "markdown",
      "metadata": {
        "id": "view-in-github",
        "colab_type": "text"
      },
      "source": [
        "<a href=\"https://colab.research.google.com/github/thasliya0404/class-activity/blob/main/thasliya.ipynb\" target=\"_parent\"><img src=\"https://colab.research.google.com/assets/colab-badge.svg\" alt=\"Open In Colab\"/></a>"
      ]
    },
    {
      "cell_type": "code",
      "execution_count": null,
      "metadata": {
        "colab": {
          "base_uri": "https://localhost:8080/"
        },
        "id": "i-3sntaQYyUb",
        "outputId": "53ed06a5-8483-49b3-c6e8-3c1713b3d70b"
      },
      "outputs": [
        {
          "output_type": "stream",
          "name": "stdout",
          "text": [
            "enter the number56\n",
            "positive\n"
          ]
        }
      ],
      "source": [
        "#pstv,ngtv,zero\n",
        "a=int(input('enter the number'))\n",
        "if a>0:\n",
        "  print('positive')\n",
        "elif a<0:\n",
        "  print('negative')\n",
        "else:\n",
        "  print('zero')"
      ]
    },
    {
      "cell_type": "code",
      "source": [
        "#odd or even\n",
        "a=int(input('enter the number'))\n",
        "if a%2==0:\n",
        "  print('even')\n",
        "else:\n",
        "  print('odd')"
      ],
      "metadata": {
        "colab": {
          "base_uri": "https://localhost:8080/"
        },
        "id": "IU0lgqN4aOCb",
        "outputId": "06eee936-9f73-4b12-b281-73d8f83546e4"
      },
      "execution_count": null,
      "outputs": [
        {
          "output_type": "stream",
          "name": "stdout",
          "text": [
            "enter the number67\n",
            "odd\n"
          ]
        }
      ]
    },
    {
      "cell_type": "code",
      "source": [
        "#grade calculations\n",
        "marks=int(input('enter the marks'))\n",
        "if marks>=90 and marks<100:\n",
        "  print('grade A')\n",
        "elif marks>=80 and marks<89:\n",
        "  print('grade B')\n",
        "elif marks>=70 and marks<79:\n",
        "  print('grade C')\n",
        "elif marks>=60 and marks<69:\n",
        "  print('grade D')\n",
        "else:\n",
        "  print('fail')"
      ],
      "metadata": {
        "colab": {
          "base_uri": "https://localhost:8080/"
        },
        "id": "BmIYgUWVbV99",
        "outputId": "3bc9ed33-cab5-4c95-fbe7-15596b6995a2"
      },
      "execution_count": null,
      "outputs": [
        {
          "output_type": "stream",
          "name": "stdout",
          "text": [
            "enter the marks67\n",
            "grade D\n"
          ]
        }
      ]
    },
    {
      "cell_type": "code",
      "source": [
        "#leap yr checker\n",
        "year=int(input('enter the year'))\n",
        "if year%4==0:\n",
        "  print('leap year')\n",
        "else:\n",
        "  print('not leap year')"
      ],
      "metadata": {
        "colab": {
          "base_uri": "https://localhost:8080/"
        },
        "id": "3nxL_yflaN_K",
        "outputId": "3d56a609-9051-4b48-9752-6e02ec1273a2"
      },
      "execution_count": null,
      "outputs": [
        {
          "output_type": "stream",
          "name": "stdout",
          "text": [
            "enter the year2045\n",
            "not leap year\n"
          ]
        }
      ]
    },
    {
      "cell_type": "code",
      "source": [
        "#print nos 1 to n\n",
        "n=int(input('enter number '))\n",
        "for i in range(1,n+1):\n",
        "  print(i)"
      ],
      "metadata": {
        "colab": {
          "base_uri": "https://localhost:8080/"
        },
        "id": "KMSybNMmaN8S",
        "outputId": "26212cb9-e838-4f68-923f-a39c18eebb5e"
      },
      "execution_count": null,
      "outputs": [
        {
          "output_type": "stream",
          "name": "stdout",
          "text": [
            "enter number n150\n",
            "1\n",
            "2\n",
            "3\n",
            "4\n",
            "5\n",
            "6\n",
            "7\n",
            "8\n",
            "9\n",
            "10\n",
            "11\n",
            "12\n",
            "13\n",
            "14\n",
            "15\n",
            "16\n",
            "17\n",
            "18\n",
            "19\n",
            "20\n",
            "21\n",
            "22\n",
            "23\n",
            "24\n",
            "25\n",
            "26\n",
            "27\n",
            "28\n",
            "29\n",
            "30\n",
            "31\n",
            "32\n",
            "33\n",
            "34\n",
            "35\n",
            "36\n",
            "37\n",
            "38\n",
            "39\n",
            "40\n",
            "41\n",
            "42\n",
            "43\n",
            "44\n",
            "45\n",
            "46\n",
            "47\n",
            "48\n",
            "49\n",
            "50\n",
            "51\n",
            "52\n",
            "53\n",
            "54\n",
            "55\n",
            "56\n",
            "57\n",
            "58\n",
            "59\n",
            "60\n",
            "61\n",
            "62\n",
            "63\n",
            "64\n",
            "65\n",
            "66\n",
            "67\n",
            "68\n",
            "69\n",
            "70\n",
            "71\n",
            "72\n",
            "73\n",
            "74\n",
            "75\n",
            "76\n",
            "77\n",
            "78\n",
            "79\n",
            "80\n",
            "81\n",
            "82\n",
            "83\n",
            "84\n",
            "85\n",
            "86\n",
            "87\n",
            "88\n",
            "89\n",
            "90\n",
            "91\n",
            "92\n",
            "93\n",
            "94\n",
            "95\n",
            "96\n",
            "97\n",
            "98\n",
            "99\n",
            "100\n",
            "101\n",
            "102\n",
            "103\n",
            "104\n",
            "105\n",
            "106\n",
            "107\n",
            "108\n",
            "109\n",
            "110\n",
            "111\n",
            "112\n",
            "113\n",
            "114\n",
            "115\n",
            "116\n",
            "117\n",
            "118\n",
            "119\n",
            "120\n",
            "121\n",
            "122\n",
            "123\n",
            "124\n",
            "125\n",
            "126\n",
            "127\n",
            "128\n",
            "129\n",
            "130\n",
            "131\n",
            "132\n",
            "133\n",
            "134\n",
            "135\n",
            "136\n",
            "137\n",
            "138\n",
            "139\n",
            "140\n",
            "141\n",
            "142\n",
            "143\n",
            "144\n",
            "145\n",
            "146\n",
            "147\n",
            "148\n",
            "149\n",
            "150\n"
          ]
        }
      ]
    },
    {
      "cell_type": "code",
      "source": [
        "#sum of 1st n natural nos\n",
        "n=int(input('enter number'))\n",
        "sum=0\n",
        "for i in range(1,n+1):\n",
        "  sum=sum+i\n",
        "  print(sum)\n"
      ],
      "metadata": {
        "colab": {
          "base_uri": "https://localhost:8080/"
        },
        "id": "zIDh86_WeYij",
        "outputId": "2e4384fc-7269-4098-e194-192240c35a3b"
      },
      "execution_count": null,
      "outputs": [
        {
          "output_type": "stream",
          "name": "stdout",
          "text": [
            "enter number10\n",
            "1\n",
            "3\n",
            "6\n",
            "10\n",
            "15\n",
            "21\n",
            "28\n",
            "36\n",
            "45\n",
            "55\n"
          ]
        }
      ]
    },
    {
      "cell_type": "code",
      "source": [
        "#multiplication table\n",
        "num=int(input('enter number'))\n",
        "for i in range(1,11):\n",
        "  print(f'{num}*{i}={num*i}')"
      ],
      "metadata": {
        "colab": {
          "base_uri": "https://localhost:8080/"
        },
        "id": "Mqh2AUlieYU0",
        "outputId": "c0a77877-f035-4aea-fa1b-043997b40530"
      },
      "execution_count": null,
      "outputs": [
        {
          "output_type": "stream",
          "name": "stdout",
          "text": [
            "enter number11\n",
            "11*1=11\n",
            "11*2=22\n",
            "11*3=33\n",
            "11*4=44\n",
            "11*5=55\n",
            "11*6=66\n",
            "11*7=77\n",
            "11*8=88\n",
            "11*9=99\n",
            "11*10=110\n"
          ]
        }
      ]
    },
    {
      "cell_type": "code",
      "source": [
        "#factorial calculation\n",
        "n=int(input('enter n'))\n",
        "fact=1\n",
        "for i in range(1,n+1):\n",
        "  fact *=i\n",
        "  print(fact)"
      ],
      "metadata": {
        "id": "p0nM-cnMeX6F",
        "colab": {
          "base_uri": "https://localhost:8080/"
        },
        "outputId": "2f54d8bb-798a-4f04-8acb-5582e9538cad"
      },
      "execution_count": null,
      "outputs": [
        {
          "output_type": "stream",
          "name": "stdout",
          "text": [
            "enter n5\n",
            "1\n",
            "2\n",
            "6\n",
            "24\n",
            "120\n"
          ]
        }
      ]
    },
    {
      "cell_type": "code",
      "source": [
        "#reversing a number\n",
        "num=int(input('enter number'))\n",
        "rev=int(str(num)[::-1])\n",
        "print(rev)"
      ],
      "metadata": {
        "id": "bPl0ZO3fgrEn",
        "colab": {
          "base_uri": "https://localhost:8080/"
        },
        "outputId": "4a32d53f-62d2-4ea4-ff7d-37cc450f7764"
      },
      "execution_count": null,
      "outputs": [
        {
          "output_type": "stream",
          "name": "stdout",
          "text": [
            "enter number4567892\n",
            "2987654\n"
          ]
        }
      ]
    },
    {
      "cell_type": "code",
      "source": [
        "#count digits in a number\n",
        "num=int(input('enter number'))\n",
        "print(len(str(num)))"
      ],
      "metadata": {
        "id": "dT8Hmgu0gq4o",
        "colab": {
          "base_uri": "https://localhost:8080/"
        },
        "outputId": "604ca4e4-de8c-44ad-c150-01c09f1b699c"
      },
      "execution_count": null,
      "outputs": [
        {
          "output_type": "stream",
          "name": "stdout",
          "text": [
            "enter number5678\n",
            "4\n"
          ]
        }
      ]
    },
    {
      "cell_type": "code",
      "source": [
        "#right angled triangled triangle pattern\n",
        "n=int(input('enter n'))\n",
        "for i in range(1,n+1):\n",
        "  print('*'*i)"
      ],
      "metadata": {
        "id": "KSJMmbbvgqrd",
        "colab": {
          "base_uri": "https://localhost:8080/"
        },
        "outputId": "b8ac6d44-0cdf-4b86-f038-aaa03fc884b3"
      },
      "execution_count": null,
      "outputs": [
        {
          "output_type": "stream",
          "name": "stdout",
          "text": [
            "enter n8\n",
            "*\n",
            "**\n",
            "***\n",
            "****\n",
            "*****\n",
            "******\n",
            "*******\n",
            "********\n"
          ]
        }
      ]
    },
    {
      "cell_type": "code",
      "source": [
        "#number pyramid pattern\n",
        "n=int(input('enter n'))\n",
        "for i in range(1,n+1):\n",
        "  left=''.join(str(j) for j in range(1,i+1))\n",
        "  right=''.join(str(j) for j in range(i-1,0,-1))\n",
        "  print(left+right)\n"
      ],
      "metadata": {
        "colab": {
          "base_uri": "https://localhost:8080/"
        },
        "id": "5QI9zJ1utsTf",
        "outputId": "4243b668-0f59-42bb-95e8-2b04b75c4178"
      },
      "execution_count": null,
      "outputs": [
        {
          "output_type": "stream",
          "name": "stdout",
          "text": [
            "enter n5\n",
            "1\n",
            "121\n",
            "12321\n",
            "1234321\n",
            "123454321\n"
          ]
        }
      ]
    },
    {
      "cell_type": "code",
      "source": [
        "#1st 5 odd nos using break\n",
        "count=0\n",
        "num=1\n",
        "while True:\n",
        "  if num%2 !=0:\n",
        "    print(num)\n",
        "    count +=1\n",
        "    if count==5:\n",
        "      break\n",
        "  num +=1\n",
        "\n"
      ],
      "metadata": {
        "colab": {
          "base_uri": "https://localhost:8080/"
        },
        "id": "IgX2c5mstsKc",
        "outputId": "e1fd22a3-9ff8-473c-b56f-4480ef7851c1"
      },
      "execution_count": null,
      "outputs": [
        {
          "output_type": "stream",
          "name": "stdout",
          "text": [
            "1\n",
            "3\n",
            "5\n",
            "7\n",
            "9\n"
          ]
        }
      ]
    },
    {
      "cell_type": "code",
      "source": [
        "#skip multiples of 3\n",
        "for i in range(1,21):\n",
        "  if i % 3==0:\n",
        "    continue\n",
        "  print(i)"
      ],
      "metadata": {
        "colab": {
          "base_uri": "https://localhost:8080/"
        },
        "id": "vu5vrKnJtr9v",
        "outputId": "900eec10-01fb-484c-983b-be047889be6a"
      },
      "execution_count": null,
      "outputs": [
        {
          "output_type": "stream",
          "name": "stdout",
          "text": [
            "1\n",
            "2\n",
            "4\n",
            "5\n",
            "7\n",
            "8\n",
            "10\n",
            "11\n",
            "13\n",
            "14\n",
            "16\n",
            "17\n",
            "19\n",
            "20\n"
          ]
        }
      ]
    },
    {
      "cell_type": "code",
      "source": [
        "#pass statement example\n",
        "for i in range(1,6):\n",
        "  if i==3:\n",
        "    pass\n",
        "  print(i)"
      ],
      "metadata": {
        "colab": {
          "base_uri": "https://localhost:8080/"
        },
        "id": "UCfTD50QzXQF",
        "outputId": "fceea5f4-3427-455b-9a5d-de793268ae06"
      },
      "execution_count": null,
      "outputs": [
        {
          "output_type": "stream",
          "name": "stdout",
          "text": [
            "1\n",
            "2\n",
            "3\n",
            "4\n",
            "5\n"
          ]
        }
      ]
    },
    {
      "cell_type": "code",
      "source": [
        "#fibonacci series\n",
        "n=int(input('enter n'))\n",
        "a,b=0,1\n",
        "print(a,b,end='')\n",
        "for i in range(n-2):\n",
        "  a,b=b,a+b\n",
        "  print(b,end='')\n"
      ],
      "metadata": {
        "colab": {
          "base_uri": "https://localhost:8080/"
        },
        "id": "9jcdvCc_z8H0",
        "outputId": "477cdea4-d0a3-4b97-df07-e61c181f3ad9"
      },
      "execution_count": null,
      "outputs": [
        {
          "output_type": "stream",
          "name": "stdout",
          "text": [
            "enter n8\n",
            "0 11235813"
          ]
        }
      ]
    },
    {
      "cell_type": "code",
      "source": [
        "#check for prime nos\n",
        "n=int(input('enter n'))\n",
        "for i in range(2,n):\n",
        "  if n%2==0:\n",
        "    print('not prime')\n",
        "    break\n",
        "  else:\n",
        "    print('prime')"
      ],
      "metadata": {
        "colab": {
          "base_uri": "https://localhost:8080/"
        },
        "id": "1CouvHMnz9Jo",
        "outputId": "5796bce3-5269-4278-9181-5917833f54d8"
      },
      "execution_count": null,
      "outputs": [
        {
          "output_type": "stream",
          "name": "stdout",
          "text": [
            "enter n6\n",
            "not prime\n"
          ]
        }
      ]
    },
    {
      "cell_type": "code",
      "source": [
        "#sum of digits\n",
        "n=int(input('enter n'))\n",
        "sum=0\n",
        "for i in str(n):\n",
        "  sum +=int(i)\n",
        "  print(sum)\n"
      ],
      "metadata": {
        "colab": {
          "base_uri": "https://localhost:8080/"
        },
        "id": "gW3P78-Xz822",
        "outputId": "ede49f96-c798-4849-b193-dc6a0c2e4f56"
      },
      "execution_count": null,
      "outputs": [
        {
          "output_type": "stream",
          "name": "stdout",
          "text": [
            "enter n12345\n",
            "1\n",
            "3\n",
            "6\n",
            "10\n",
            "15\n"
          ]
        }
      ]
    },
    {
      "cell_type": "code",
      "source": [
        "from string import digits\n",
        "#amstrong check\n",
        "n=int(input('enter n'))\n",
        "power=len(str(n))\n",
        "sum=0\n",
        "temp=n\n",
        "while temp>0:\n",
        "  digit=temp%10\n",
        "  sum +=digit**power\n",
        "  temp //=10\n",
        "if n==sum:\n",
        "  print('amstrong')\n",
        "else:\n",
        "  print('not amstrong')"
      ],
      "metadata": {
        "colab": {
          "base_uri": "https://localhost:8080/"
        },
        "id": "HZZXJw5dGuwg",
        "outputId": "dd4c3e90-bac5-445a-e613-6c929869fec2"
      },
      "execution_count": null,
      "outputs": [
        {
          "output_type": "stream",
          "name": "stdout",
          "text": [
            "enter n123\n",
            "not amstrong\n"
          ]
        }
      ]
    },
    {
      "cell_type": "code",
      "source": [
        "#reverse string using loops\n",
        "s=input('enter string')\n",
        "rev=''\n",
        "for i in s:\n",
        "  rev=i+rev\n",
        "  print(rev)\n"
      ],
      "metadata": {
        "colab": {
          "base_uri": "https://localhost:8080/"
        },
        "id": "6csWLsIiGutT",
        "outputId": "4167f847-6f6f-4379-f307-139530adfde3"
      },
      "execution_count": null,
      "outputs": [
        {
          "output_type": "stream",
          "name": "stdout",
          "text": [
            "enter stringhello\n",
            "h\n",
            "eh\n",
            "leh\n",
            "lleh\n",
            "olleh\n"
          ]
        }
      ]
    },
    {
      "cell_type": "code",
      "source": [
        "#welcome message\n",
        "name=input('enter name')\n",
        "print(f'welcome to DSA, {name} !')"
      ],
      "metadata": {
        "colab": {
          "base_uri": "https://localhost:8080/"
        },
        "id": "sP6iL1r2Guq5",
        "outputId": "9c318577-9096-433f-ad08-aa38417e7cbb"
      },
      "execution_count": null,
      "outputs": [
        {
          "output_type": "stream",
          "name": "stdout",
          "text": [
            "enter namethasliya\n",
            "welcome to DSA, thasliya !\n"
          ]
        }
      ]
    },
    {
      "cell_type": "code",
      "source": [
        "#fav snack\n",
        "fav_snack=input('enter fav snack')\n",
        "print(f'I love munching on {fav_snack} during meetings !')"
      ],
      "metadata": {
        "colab": {
          "base_uri": "https://localhost:8080/"
        },
        "id": "_yHlvvUIGuoZ",
        "outputId": "b1469111-806b-4e52-973a-7debbf1f14e9"
      },
      "execution_count": null,
      "outputs": [
        {
          "output_type": "stream",
          "name": "stdout",
          "text": [
            "enter fav snackmunch\n",
            "I love munching on munch during meetings !\n"
          ]
        }
      ]
    },
    {
      "cell_type": "code",
      "source": [
        "#team productivity\n",
        "task_completed=15\n",
        "exp_task=task_completed*2\n",
        "print('expected task next week:',exp_task)"
      ],
      "metadata": {
        "colab": {
          "base_uri": "https://localhost:8080/"
        },
        "id": "NOvk_spmGul0",
        "outputId": "3d7aae2d-cf05-44d5-86e5-3b1a448429dc"
      },
      "execution_count": null,
      "outputs": [
        {
          "output_type": "stream",
          "name": "stdout",
          "text": [
            "expected task next week: 30\n"
          ]
        }
      ]
    },
    {
      "cell_type": "code",
      "source": [
        "#movie nyt\n",
        "frnds=10\n",
        "popcorn_per_frnds=2\n",
        "total_popcorn=frnds*popcorn_per_frnds\n",
        "print('total popcorn:',total_popcorn)"
      ],
      "metadata": {
        "colab": {
          "base_uri": "https://localhost:8080/"
        },
        "id": "E_plQ12LM05K",
        "outputId": "1b36a075-5f1b-4ab2-aa9a-97be69fbf05d"
      },
      "execution_count": null,
      "outputs": [
        {
          "output_type": "stream",
          "name": "stdout",
          "text": [
            "total popcorn: 20\n"
          ]
        }
      ]
    },
    {
      "cell_type": "code",
      "source": [
        "#monthly budget\n",
        "income=5000\n",
        "expense=3000\n",
        "savings=income-expense\n",
        "print('savings:',savings)"
      ],
      "metadata": {
        "colab": {
          "base_uri": "https://localhost:8080/"
        },
        "id": "98IPEG1zM1A6",
        "outputId": "ea16a04c-34a6-48bc-a882-d89a111f4407"
      },
      "execution_count": null,
      "outputs": [
        {
          "output_type": "stream",
          "name": "stdout",
          "text": [
            "savings: 2000\n"
          ]
        }
      ]
    },
    {
      "cell_type": "code",
      "source": [
        "#product review\n",
        "rating=int(input('enter product rating 1-5 :'))\n",
        "if rating>3:\n",
        "  print('above average')\n",
        "else:\n",
        "  print('below average')"
      ],
      "metadata": {
        "colab": {
          "base_uri": "https://localhost:8080/"
        },
        "id": "zsFPVXK6M1KB",
        "outputId": "0e9761d6-93fb-4d9e-f134-2112e6644fe5"
      },
      "execution_count": null,
      "outputs": [
        {
          "output_type": "stream",
          "name": "stdout",
          "text": [
            "enter product rating 1-5 :3\n",
            "below average\n"
          ]
        }
      ]
    },
    {
      "cell_type": "code",
      "source": [
        "#calculate avg sales\n",
        "sales=[50,75,100]\n",
        "total_sales = 0\n",
        "for i in sales:\n",
        "    total_sales += i\n",
        "avg_sales = total_sales / len(sales)\n",
        "print('average sales:',avg_sales)"
      ],
      "metadata": {
        "colab": {
          "base_uri": "https://localhost:8080/"
        },
        "id": "eE9szST_M1SS",
        "outputId": "c61ee3b1-00a1-46ab-d0e5-af9b611e2512"
      },
      "execution_count": null,
      "outputs": [
        {
          "output_type": "stream",
          "name": "stdout",
          "text": [
            "average sales: 75.0\n"
          ]
        }
      ]
    },
    {
      "cell_type": "code",
      "source": [
        "#simple investment return\n",
        "principal=500\n",
        "rate=4\n",
        "time=3\n",
        "simple_interest=(principal*rate*time)/100\n",
        "tot_amount=principal+simple_interest\n",
        "print('total amount after 3 yrs:',tot_amount)"
      ],
      "metadata": {
        "colab": {
          "base_uri": "https://localhost:8080/"
        },
        "id": "iDaueJVDQuvR",
        "outputId": "55f8ea85-84db-4231-86dd-3f51ce6d23d6"
      },
      "execution_count": null,
      "outputs": [
        {
          "output_type": "stream",
          "name": "stdout",
          "text": [
            "total amount after 3 yrs: 560.0\n"
          ]
        }
      ]
    },
    {
      "cell_type": "code",
      "source": [
        "#party planning\n",
        "guests=10\n",
        "slices_per_guest=1\n",
        "slices_per_cake=8\n",
        "cakes_needed=guests*slices_per_guest+slices_per_cake -1 // slices_per_cake\n",
        "print('cakes needed:',cakes_needed)"
      ],
      "metadata": {
        "colab": {
          "base_uri": "https://localhost:8080/"
        },
        "id": "yzBufOxMQwQr",
        "outputId": "06155ae0-0ec9-4c9f-f166-b59fc0cad4b7"
      },
      "execution_count": null,
      "outputs": [
        {
          "output_type": "stream",
          "name": "stdout",
          "text": [
            "cakes needed: 18\n"
          ]
        }
      ]
    },
    {
      "cell_type": "code",
      "source": [
        "#best selling product\n",
        "product_A_sales=250\n",
        "product_B_sales=300\n",
        "if product_A_sales>product_B_sales:\n",
        "  print('product A is sold more')\n",
        "else:\n",
        "  print('product B is sold more')"
      ],
      "metadata": {
        "colab": {
          "base_uri": "https://localhost:8080/"
        },
        "id": "AqLlQD5XQwJt",
        "outputId": "62c3f72e-feb7-40b5-c88a-37e6de7bae71"
      },
      "execution_count": null,
      "outputs": [
        {
          "output_type": "stream",
          "name": "stdout",
          "text": [
            "product B is sold more\n"
          ]
        }
      ]
    },
    {
      "cell_type": "code",
      "source": [
        "#text analysis\n",
        "text='data is power'\n",
        "if len(text)>10:\n",
        "  print('long slogan')\n",
        "else:\n",
        "  print('short nd sweet')"
      ],
      "metadata": {
        "colab": {
          "base_uri": "https://localhost:8080/"
        },
        "id": "4m54H5ztQwGS",
        "outputId": "c6055473-1ffc-4d57-b126-23def85d7493"
      },
      "execution_count": null,
      "outputs": [
        {
          "output_type": "stream",
          "name": "stdout",
          "text": [
            "long slogan\n"
          ]
        }
      ]
    },
    {
      "cell_type": "code",
      "source": [
        "#scholarship %\n",
        "scholarship=750\n",
        "total=1000\n",
        "Percentage=(scholarship/total)*100\n",
        "print(f'scolarship percentage:{Percentage}% congratulations !')"
      ],
      "metadata": {
        "colab": {
          "base_uri": "https://localhost:8080/"
        },
        "id": "xGm9WW6eQwAs",
        "outputId": "1584eab7-5d56-41d1-bca8-a371690c7b51"
      },
      "execution_count": null,
      "outputs": [
        {
          "output_type": "stream",
          "name": "stdout",
          "text": [
            "scolarship percentage:75.0% congratulations !\n"
          ]
        }
      ]
    },
    {
      "cell_type": "code",
      "source": [
        "#variable assignment\n",
        "fav_color='red'\n",
        "print('my favorite color is', fav_color)"
      ],
      "metadata": {
        "colab": {
          "base_uri": "https://localhost:8080/"
        },
        "id": "kFAgUeLtQvyO",
        "outputId": "5b966e7c-825a-4bdb-fad2-951a632a2441"
      },
      "execution_count": null,
      "outputs": [
        {
          "output_type": "stream",
          "name": "stdout",
          "text": [
            "my favorite color is red\n"
          ]
        }
      ]
    },
    {
      "cell_type": "code",
      "source": [
        "#basic arithmetic\n",
        "a=10\n",
        "b=20\n",
        "print(a+b)"
      ],
      "metadata": {
        "colab": {
          "base_uri": "https://localhost:8080/"
        },
        "id": "sLUEFgGcxwHB",
        "outputId": "0bfbd441-9465-46c7-e110-c3d7db43032f"
      },
      "execution_count": null,
      "outputs": [
        {
          "output_type": "stream",
          "name": "stdout",
          "text": [
            "30\n"
          ]
        }
      ]
    },
    {
      "cell_type": "code",
      "source": [
        "#area of ractangle\n",
        "length=10\n",
        "width=5\n",
        "area=length*width\n",
        "print('area of rectangle:',area)"
      ],
      "metadata": {
        "colab": {
          "base_uri": "https://localhost:8080/"
        },
        "id": "oiKGQX5lxv_c",
        "outputId": "6ca9cb0a-995d-47b7-91e4-4a7fdf6caa31"
      },
      "execution_count": null,
      "outputs": [
        {
          "output_type": "stream",
          "name": "stdout",
          "text": [
            "area of rectangle: 50\n"
          ]
        }
      ]
    },
    {
      "cell_type": "code",
      "source": [
        "#even or odd\n",
        "n=15\n",
        "print('even' if n%2==0 else 'odd')"
      ],
      "metadata": {
        "colab": {
          "base_uri": "https://localhost:8080/"
        },
        "id": "BE2U-Ht1xvyK",
        "outputId": "0c9546ed-433b-4bd6-bc2b-5e291523f149"
      },
      "execution_count": null,
      "outputs": [
        {
          "output_type": "stream",
          "name": "stdout",
          "text": [
            "odd\n"
          ]
        }
      ]
    },
    {
      "cell_type": "code",
      "source": [
        "#calculate avg\n",
        "numbers=[10,20,30]\n",
        "avg=sum(numbers)/len(numbers)\n",
        "print('average:',avg)"
      ],
      "metadata": {
        "colab": {
          "base_uri": "https://localhost:8080/"
        },
        "id": "IpA0rjNDypdq",
        "outputId": "61bcab2b-db54-4b25-e595-2388d8027f34"
      },
      "execution_count": null,
      "outputs": [
        {
          "output_type": "stream",
          "name": "stdout",
          "text": [
            "average: 20.0\n"
          ]
        }
      ]
    },
    {
      "cell_type": "code",
      "source": [
        "#area of circle\n",
        "radius=7\n",
        "area=3.14 * radius**2\n",
        "print('area of circle:',area)"
      ],
      "metadata": {
        "colab": {
          "base_uri": "https://localhost:8080/"
        },
        "id": "Hq5bRZD3ypaS",
        "outputId": "21502848-4fa4-4ac0-9d57-55704f899724"
      },
      "execution_count": null,
      "outputs": [
        {
          "output_type": "stream",
          "name": "stdout",
          "text": [
            "area of circle: 153.86\n"
          ]
        }
      ]
    },
    {
      "cell_type": "code",
      "source": [
        "#check string length\n",
        "text='python'\n",
        "if len(text)>6:\n",
        "  print('more than 6 characters')\n",
        "else:\n",
        "  print('less than 6 characters')"
      ],
      "metadata": {
        "colab": {
          "base_uri": "https://localhost:8080/"
        },
        "id": "sNSg2KrsypW6",
        "outputId": "d618ffd2-93ce-4936-fae2-0e403efe7c83"
      },
      "execution_count": null,
      "outputs": [
        {
          "output_type": "stream",
          "name": "stdout",
          "text": [
            "less than 6 characters\n"
          ]
        }
      ]
    },
    {
      "cell_type": "code",
      "source": [
        "#find max of 2 nos\n",
        "num1=15\n",
        "num2=25\n",
        "print('maximum',max(num1,num2))"
      ],
      "metadata": {
        "colab": {
          "base_uri": "https://localhost:8080/"
        },
        "id": "NNfDv7B_yo46",
        "outputId": "369c1595-9466-46cf-abee-2380a5cca5ef"
      },
      "execution_count": null,
      "outputs": [
        {
          "output_type": "stream",
          "name": "stdout",
          "text": [
            "maximum 25\n"
          ]
        }
      ]
    },
    {
      "cell_type": "code",
      "source": [
        "#calculate %\n",
        "total_marks=500\n",
        "obtained_marks=400\n",
        "percentage=(obtained_marks/total_marks)*100\n",
        "print('percentage:',percentage)"
      ],
      "metadata": {
        "colab": {
          "base_uri": "https://localhost:8080/"
        },
        "id": "xlpvIi940VPP",
        "outputId": "997406d7-2942-4993-af09-07a771e38e23"
      },
      "execution_count": null,
      "outputs": [
        {
          "output_type": "stream",
          "name": "stdout",
          "text": [
            "percentage: 80.0\n"
          ]
        }
      ]
    },
    {
      "cell_type": "code",
      "source": [
        "#area of the circle\n",
        "radius=float(input('enter radius'))\n",
        "area=3.14*radius**2\n",
        "print('area of circle:',area)"
      ],
      "metadata": {
        "colab": {
          "base_uri": "https://localhost:8080/"
        },
        "id": "JTRCJhmb1Ewr",
        "outputId": "62029680-4fe6-414b-f822-b74c6f4f3858"
      },
      "execution_count": null,
      "outputs": [
        {
          "output_type": "stream",
          "name": "stdout",
          "text": [
            "enter radius3\n",
            "area of circle: 28.26\n"
          ]
        }
      ]
    },
    {
      "cell_type": "code",
      "source": [
        "name=input('enter name')\n",
        "roll_no=input('enter roll no')\n",
        "mark=input('enter mark')\n",
        "print(f'name:{name}')\n",
        "print(f'roll no:{roll_no}')\n",
        "print(f'mark:{mark}')"
      ],
      "metadata": {
        "colab": {
          "base_uri": "https://localhost:8080/"
        },
        "id": "-PSCxta41Et4",
        "outputId": "ee55744e-7fc1-459e-f0b9-0ecb14d38046"
      },
      "execution_count": null,
      "outputs": [
        {
          "output_type": "stream",
          "name": "stdout",
          "text": [
            "enter namethasli\n",
            "enter roll no25\n",
            "enter mark88\n",
            "name:thasli\n",
            "roll no:25\n",
            "mark:88\n"
          ]
        }
      ]
    },
    {
      "cell_type": "code",
      "source": [
        "#largest no in a list\n",
        "numbers=[12,3,47,10]\n",
        "largest=max(numbers)\n",
        "print('largest no:',largest)"
      ],
      "metadata": {
        "colab": {
          "base_uri": "https://localhost:8080/"
        },
        "id": "2uh5WUdq1Eqy",
        "outputId": "b51db93a-ebfb-4e52-abf3-4c6fa0dc7d4b"
      },
      "execution_count": null,
      "outputs": [
        {
          "output_type": "stream",
          "name": "stdout",
          "text": [
            "largest no: 47\n"
          ]
        }
      ]
    },
    {
      "cell_type": "code",
      "source": [
        "#sum of current and previous nos\n",
        "start=1\n",
        "end=10\n",
        "previous=0\n",
        "for current in range(start,end+1):\n",
        "   sum=previous+current\n",
        "   print(f'current:{current} previous:{previous} sum:{sum}')\n",
        "   previous=current\n"
      ],
      "metadata": {
        "colab": {
          "base_uri": "https://localhost:8080/"
        },
        "id": "wCSD44c41EoA",
        "outputId": "1dfe18b6-127b-4c80-c7cd-20a99e9668ba"
      },
      "execution_count": null,
      "outputs": [
        {
          "output_type": "stream",
          "name": "stdout",
          "text": [
            "current:1 previous:0 sum:1\n",
            "current:2 previous:1 sum:3\n",
            "current:3 previous:2 sum:5\n",
            "current:4 previous:3 sum:7\n",
            "current:5 previous:4 sum:9\n",
            "current:6 previous:5 sum:11\n",
            "current:7 previous:6 sum:13\n",
            "current:8 previous:7 sum:15\n",
            "current:9 previous:8 sum:17\n",
            "current:10 previous:9 sum:19\n"
          ]
        }
      ]
    },
    {
      "cell_type": "code",
      "source": [
        "#nos divisible by 5\n",
        "numbers=[10,20,33,46,55]\n",
        "for i in numbers:\n",
        "  if i%5==0:\n",
        "    print(i)"
      ],
      "metadata": {
        "colab": {
          "base_uri": "https://localhost:8080/"
        },
        "id": "fftz0UNM1Ej3",
        "outputId": "f56fa3aa-f489-4772-eed4-7325bbc66c55"
      },
      "execution_count": null,
      "outputs": [
        {
          "output_type": "stream",
          "name": "stdout",
          "text": [
            "10\n",
            "20\n",
            "55\n"
          ]
        }
      ]
    },
    {
      "cell_type": "code",
      "source": [
        "#prime no check\n",
        "n=int(input('enter n'))\n",
        "if n<2:\n",
        "  print('not prime')\n",
        "else:\n",
        "  for i in range(2,n):\n",
        "    if n%i==0:\n",
        "      print('not prime')\n",
        "    else:\n",
        "      print('prime')"
      ],
      "metadata": {
        "colab": {
          "base_uri": "https://localhost:8080/"
        },
        "id": "mWiZe1Ih1Eg1",
        "outputId": "7c4d565e-f17a-4e1c-8fae-a30b42c71507"
      },
      "execution_count": null,
      "outputs": [
        {
          "output_type": "stream",
          "name": "stdout",
          "text": [
            "enter n3\n",
            "prime\n"
          ]
        }
      ]
    },
    {
      "cell_type": "code",
      "source": [
        "#revrse using loop\n",
        "list=[10,40,30,70]\n",
        "reversed_list=[]\n",
        "for i in range(len(list)-1,-1,-1):\n",
        "  reversed_list.append(list[i])\n",
        "print(reversed_list)"
      ],
      "metadata": {
        "colab": {
          "base_uri": "https://localhost:8080/"
        },
        "id": "Iqn7vZN743dy",
        "outputId": "fcfdbb0f-7a91-45d4-db15-fedb34707d6f"
      },
      "execution_count": null,
      "outputs": [
        {
          "output_type": "stream",
          "name": "stdout",
          "text": [
            "[70, 30, 40, 10]\n"
          ]
        }
      ]
    },
    {
      "cell_type": "code",
      "source": [
        "#simple star pattern\n",
        "for i in range(1,5):\n",
        "  print('*'*i)"
      ],
      "metadata": {
        "colab": {
          "base_uri": "https://localhost:8080/"
        },
        "id": "51RkGuBR8Ucu",
        "outputId": "ebda82fb-3d52-49a3-f8c2-dc26d9aeba36"
      },
      "execution_count": null,
      "outputs": [
        {
          "output_type": "stream",
          "name": "stdout",
          "text": [
            "*\n",
            "**\n",
            "***\n",
            "****\n"
          ]
        }
      ]
    },
    {
      "cell_type": "code",
      "source": [
        "#max of 3 nos\n",
        "a=34\n",
        "b=12\n",
        "c=7\n",
        "print('maximum',max(a,b,c))"
      ],
      "metadata": {
        "colab": {
          "base_uri": "https://localhost:8080/"
        },
        "id": "eCE5PjrA8rN_",
        "outputId": "78b21e50-0316-4fae-a5a3-1389d346b6d8"
      },
      "execution_count": null,
      "outputs": [
        {
          "output_type": "stream",
          "name": "stdout",
          "text": [
            "maximum 34\n"
          ]
        }
      ]
    },
    {
      "cell_type": "code",
      "source": [
        "#diamond-like pattern\n",
        "n=5\n",
        "for i in range(1,n+1):\n",
        "  print('*'*i)\n",
        "for i in range(n-1,0,-1):\n",
        "  print('*'*i)"
      ],
      "metadata": {
        "colab": {
          "base_uri": "https://localhost:8080/"
        },
        "id": "zZbfgT0N8986",
        "outputId": "12b92009-6e9b-4d9f-866b-8a22e13c8dfa"
      },
      "execution_count": null,
      "outputs": [
        {
          "output_type": "stream",
          "name": "stdout",
          "text": [
            "*\n",
            "**\n",
            "***\n",
            "****\n",
            "*****\n",
            "****\n",
            "***\n",
            "**\n",
            "*\n"
          ]
        }
      ]
    }
  ]
}