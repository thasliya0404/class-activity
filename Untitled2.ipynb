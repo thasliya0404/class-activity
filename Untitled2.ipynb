{
  "nbformat": 4,
  "nbformat_minor": 0,
  "metadata": {
    "colab": {
      "provenance": [],
      "authorship_tag": "ABX9TyPreG+LDFeMEgbJfc+rdRVX",
      "include_colab_link": true
    },
    "kernelspec": {
      "name": "python3",
      "display_name": "Python 3"
    },
    "language_info": {
      "name": "python"
    }
  },
  "cells": [
    {
      "cell_type": "markdown",
      "metadata": {
        "id": "view-in-github",
        "colab_type": "text"
      },
      "source": [
        "<a href=\"https://colab.research.google.com/github/thasliya0404/class-activity/blob/main/Untitled2.ipynb\" target=\"_parent\"><img src=\"https://colab.research.google.com/assets/colab-badge.svg\" alt=\"Open In Colab\"/></a>"
      ]
    },
    {
      "cell_type": "code",
      "execution_count": 1,
      "metadata": {
        "colab": {
          "base_uri": "https://localhost:8080/"
        },
        "id": "nHEzBxjdlV_O",
        "outputId": "6fd112f7-ccf4-41fe-f803-d717c062bb72"
      },
      "outputs": [
        {
          "output_type": "stream",
          "name": "stdout",
          "text": [
            "0\n",
            "1\n",
            "2\n",
            "3\n",
            "4\n",
            "5\n",
            "6\n",
            "7\n"
          ]
        }
      ],
      "source": [
        "for i in range(8):\n",
        "  print(i)"
      ]
    },
    {
      "cell_type": "code",
      "source": [
        "for num in range(100,140,2):\n",
        "    print(num)"
      ],
      "metadata": {
        "colab": {
          "base_uri": "https://localhost:8080/"
        },
        "id": "WUHrtt5DlfZR",
        "outputId": "860bb266-a6d5-4772-9f5c-059b06d22f5e"
      },
      "execution_count": 3,
      "outputs": [
        {
          "output_type": "stream",
          "name": "stdout",
          "text": [
            "100\n",
            "102\n",
            "104\n",
            "106\n",
            "108\n",
            "110\n",
            "112\n",
            "114\n",
            "116\n",
            "118\n",
            "120\n",
            "122\n",
            "124\n",
            "126\n",
            "128\n",
            "130\n",
            "132\n",
            "134\n",
            "136\n",
            "138\n"
          ]
        }
      ]
    },
    {
      "cell_type": "code",
      "source": [
        "word='remote internship'\n",
        "for char in word:\n",
        "  print(char)"
      ],
      "metadata": {
        "colab": {
          "base_uri": "https://localhost:8080/"
        },
        "id": "VIrBeXnpluDd",
        "outputId": "6afe55dc-01db-4f2d-9ae8-37b8e92d045e"
      },
      "execution_count": 5,
      "outputs": [
        {
          "output_type": "stream",
          "name": "stdout",
          "text": [
            "r\n",
            "e\n",
            "m\n",
            "o\n",
            "t\n",
            "e\n",
            " \n",
            "i\n",
            "n\n",
            "t\n",
            "e\n",
            "r\n",
            "n\n",
            "s\n",
            "h\n",
            "i\n",
            "p\n"
          ]
        }
      ]
    },
    {
      "cell_type": "code",
      "source": [
        "my_list=['anc','xyz','abc','dfg','rft','fgh','jkl']\n",
        "for item in my_list:\n",
        "  print(item)\n"
      ],
      "metadata": {
        "colab": {
          "base_uri": "https://localhost:8080/"
        },
        "id": "2lXaQxQ_l-9G",
        "outputId": "bf1f9764-1675-4eb2-cfee-2a5bb876d666"
      },
      "execution_count": 6,
      "outputs": [
        {
          "output_type": "stream",
          "name": "stdout",
          "text": [
            "anc\n",
            "xyz\n",
            "abc\n",
            "dfg\n",
            "rft\n",
            "fgh\n",
            "jkl\n"
          ]
        }
      ]
    },
    {
      "cell_type": "code",
      "source": [
        "for i in range(len(my_list)):\n",
        "  print(my_list[i])"
      ],
      "metadata": {
        "colab": {
          "base_uri": "https://localhost:8080/"
        },
        "id": "Wj_AT6NLmclk",
        "outputId": "5b220a24-5080-4045-d470-0a70be18d79e"
      },
      "execution_count": 9,
      "outputs": [
        {
          "output_type": "stream",
          "name": "stdout",
          "text": [
            "anc\n",
            "xyz\n",
            "abc\n",
            "dfg\n",
            "rft\n",
            "fgh\n",
            "jkl\n"
          ]
        }
      ]
    },
    {
      "cell_type": "code",
      "source": [
        "for item in my_list:\n",
        "  if item=='dfg':\n",
        "    print('I found dfg')\n",
        "else:\n",
        "  print(item)"
      ],
      "metadata": {
        "colab": {
          "base_uri": "https://localhost:8080/"
        },
        "id": "DZjsLEJhm7c5",
        "outputId": "9d7ff2de-ec9f-4511-8992-da04641485a6"
      },
      "execution_count": 13,
      "outputs": [
        {
          "output_type": "stream",
          "name": "stdout",
          "text": [
            "I found dfg\n",
            "jkl\n"
          ]
        }
      ]
    },
    {
      "cell_type": "code",
      "source": [
        "my_dic={'name':'thasli','age':24,'course':'DSA','place':'TVM','food':'biriyani','game':'cricket','place':'goa'}\n",
        "my_dic.keys()"
      ],
      "metadata": {
        "colab": {
          "base_uri": "https://localhost:8080/"
        },
        "id": "aSOUsqy7olBb",
        "outputId": "275a721b-d722-47bd-dfac-07ace3cd1724"
      },
      "execution_count": 14,
      "outputs": [
        {
          "output_type": "execute_result",
          "data": {
            "text/plain": [
              "dict_keys(['name', 'age', 'course', 'place', 'food', 'game'])"
            ]
          },
          "metadata": {},
          "execution_count": 14
        }
      ]
    },
    {
      "cell_type": "code",
      "source": [
        "my_dic.items()"
      ],
      "metadata": {
        "colab": {
          "base_uri": "https://localhost:8080/"
        },
        "id": "7u7aPZa5qcxQ",
        "outputId": "11c81773-578f-4dff-8d27-fdb0969158a5"
      },
      "execution_count": 15,
      "outputs": [
        {
          "output_type": "execute_result",
          "data": {
            "text/plain": [
              "dict_items([('name', 'thasli'), ('age', 24), ('course', 'DSA'), ('place', 'goa'), ('food', 'biriyani'), ('game', 'cricket')])"
            ]
          },
          "metadata": {},
          "execution_count": 15
        }
      ]
    },
    {
      "cell_type": "code",
      "source": [
        "for k,v in my_dic.items():\n",
        "  print(f'my {k} is {v}')"
      ],
      "metadata": {
        "colab": {
          "base_uri": "https://localhost:8080/"
        },
        "id": "XorfMQiQqlvU",
        "outputId": "bc3cfae4-ac2c-436b-9fba-464ee2842a96"
      },
      "execution_count": 18,
      "outputs": [
        {
          "output_type": "stream",
          "name": "stdout",
          "text": [
            "my name is thasli\n",
            "my age is 24\n",
            "my course is DSA\n",
            "my place is goa\n",
            "my food is biriyani\n",
            "my game is cricket\n"
          ]
        }
      ]
    },
    {
      "cell_type": "code",
      "source": [
        "my_groc={'tomato':10,'carrot':40,'banana':30,'curd':20,'milk':25,'rice':50,'wheat':55}\n",
        "my_budget = 150\n",
        "my_list=[]\n",
        "tot_price=0\n",
        "\n",
        "for a,b in my_groc.items():\n",
        "  if b < my_budget and tot_price+b <= my_budget:\n",
        "    my_list.append(a)\n",
        "    tot_price=tot_price+b\n",
        "print(my_list)\n",
        "print(tot_price)"
      ],
      "metadata": {
        "colab": {
          "base_uri": "https://localhost:8080/"
        },
        "id": "r19BNmGIrWQA",
        "outputId": "d2e72f1c-aa23-4200-b6e6-59730352f854"
      },
      "execution_count": 29,
      "outputs": [
        {
          "output_type": "stream",
          "name": "stdout",
          "text": [
            "['tomato', 'carrot', 'banana', 'curd', 'milk']\n",
            "125\n"
          ]
        }
      ]
    },
    {
      "cell_type": "code",
      "source": [
        "for x in range(1,100):\n",
        "  print(f'{x} is divisible by 3 or 5: {x % 3 == 0 or x % 5 == 0}')"
      ],
      "metadata": {
        "colab": {
          "base_uri": "https://localhost:8080/"
        },
        "id": "gFpnsCyeywei",
        "outputId": "c77a496f-c657-4751-c116-84bd3b366c2f"
      },
      "execution_count": 32,
      "outputs": [
        {
          "output_type": "stream",
          "name": "stdout",
          "text": [
            "1 is divisible by 3 or 5: False\n",
            "2 is divisible by 3 or 5: False\n",
            "3 is divisible by 3 or 5: True\n",
            "4 is divisible by 3 or 5: False\n",
            "5 is divisible by 3 or 5: True\n",
            "6 is divisible by 3 or 5: True\n",
            "7 is divisible by 3 or 5: False\n",
            "8 is divisible by 3 or 5: False\n",
            "9 is divisible by 3 or 5: True\n",
            "10 is divisible by 3 or 5: True\n",
            "11 is divisible by 3 or 5: False\n",
            "12 is divisible by 3 or 5: True\n",
            "13 is divisible by 3 or 5: False\n",
            "14 is divisible by 3 or 5: False\n",
            "15 is divisible by 3 or 5: True\n",
            "16 is divisible by 3 or 5: False\n",
            "17 is divisible by 3 or 5: False\n",
            "18 is divisible by 3 or 5: True\n",
            "19 is divisible by 3 or 5: False\n",
            "20 is divisible by 3 or 5: True\n",
            "21 is divisible by 3 or 5: True\n",
            "22 is divisible by 3 or 5: False\n",
            "23 is divisible by 3 or 5: False\n",
            "24 is divisible by 3 or 5: True\n",
            "25 is divisible by 3 or 5: True\n",
            "26 is divisible by 3 or 5: False\n",
            "27 is divisible by 3 or 5: True\n",
            "28 is divisible by 3 or 5: False\n",
            "29 is divisible by 3 or 5: False\n",
            "30 is divisible by 3 or 5: True\n",
            "31 is divisible by 3 or 5: False\n",
            "32 is divisible by 3 or 5: False\n",
            "33 is divisible by 3 or 5: True\n",
            "34 is divisible by 3 or 5: False\n",
            "35 is divisible by 3 or 5: True\n",
            "36 is divisible by 3 or 5: True\n",
            "37 is divisible by 3 or 5: False\n",
            "38 is divisible by 3 or 5: False\n",
            "39 is divisible by 3 or 5: True\n",
            "40 is divisible by 3 or 5: True\n",
            "41 is divisible by 3 or 5: False\n",
            "42 is divisible by 3 or 5: True\n",
            "43 is divisible by 3 or 5: False\n",
            "44 is divisible by 3 or 5: False\n",
            "45 is divisible by 3 or 5: True\n",
            "46 is divisible by 3 or 5: False\n",
            "47 is divisible by 3 or 5: False\n",
            "48 is divisible by 3 or 5: True\n",
            "49 is divisible by 3 or 5: False\n",
            "50 is divisible by 3 or 5: True\n",
            "51 is divisible by 3 or 5: True\n",
            "52 is divisible by 3 or 5: False\n",
            "53 is divisible by 3 or 5: False\n",
            "54 is divisible by 3 or 5: True\n",
            "55 is divisible by 3 or 5: True\n",
            "56 is divisible by 3 or 5: False\n",
            "57 is divisible by 3 or 5: True\n",
            "58 is divisible by 3 or 5: False\n",
            "59 is divisible by 3 or 5: False\n",
            "60 is divisible by 3 or 5: True\n",
            "61 is divisible by 3 or 5: False\n",
            "62 is divisible by 3 or 5: False\n",
            "63 is divisible by 3 or 5: True\n",
            "64 is divisible by 3 or 5: False\n",
            "65 is divisible by 3 or 5: True\n",
            "66 is divisible by 3 or 5: True\n",
            "67 is divisible by 3 or 5: False\n",
            "68 is divisible by 3 or 5: False\n",
            "69 is divisible by 3 or 5: True\n",
            "70 is divisible by 3 or 5: True\n",
            "71 is divisible by 3 or 5: False\n",
            "72 is divisible by 3 or 5: True\n",
            "73 is divisible by 3 or 5: False\n",
            "74 is divisible by 3 or 5: False\n",
            "75 is divisible by 3 or 5: True\n",
            "76 is divisible by 3 or 5: False\n",
            "77 is divisible by 3 or 5: False\n",
            "78 is divisible by 3 or 5: True\n",
            "79 is divisible by 3 or 5: False\n",
            "80 is divisible by 3 or 5: True\n",
            "81 is divisible by 3 or 5: True\n",
            "82 is divisible by 3 or 5: False\n",
            "83 is divisible by 3 or 5: False\n",
            "84 is divisible by 3 or 5: True\n",
            "85 is divisible by 3 or 5: True\n",
            "86 is divisible by 3 or 5: False\n",
            "87 is divisible by 3 or 5: True\n",
            "88 is divisible by 3 or 5: False\n",
            "89 is divisible by 3 or 5: False\n",
            "90 is divisible by 3 or 5: True\n",
            "91 is divisible by 3 or 5: False\n",
            "92 is divisible by 3 or 5: False\n",
            "93 is divisible by 3 or 5: True\n",
            "94 is divisible by 3 or 5: False\n",
            "95 is divisible by 3 or 5: True\n",
            "96 is divisible by 3 or 5: True\n",
            "97 is divisible by 3 or 5: False\n",
            "98 is divisible by 3 or 5: False\n",
            "99 is divisible by 3 or 5: True\n"
          ]
        }
      ]
    },
    {
      "cell_type": "code",
      "source": [
        "for x in range(1,100):\n",
        " if x%5==0 and x%3==0:\n",
        "  print(x)"
      ],
      "metadata": {
        "colab": {
          "base_uri": "https://localhost:8080/"
        },
        "id": "u4vedlC-3QeN",
        "outputId": "17cdaa0a-5493-40d1-a9c0-3aaf0cd1fd67"
      },
      "execution_count": 37,
      "outputs": [
        {
          "output_type": "stream",
          "name": "stdout",
          "text": [
            "15\n",
            "30\n",
            "45\n",
            "60\n",
            "75\n",
            "90\n"
          ]
        }
      ]
    },
    {
      "cell_type": "code",
      "source": [
        "A=1\n",
        "while A <10:\n",
        "  print(A)\n",
        "  A=A+2\n",
        "else:\n",
        "  print('you crossed the limit')"
      ],
      "metadata": {
        "colab": {
          "base_uri": "https://localhost:8080/"
        },
        "id": "Ol66ggnc_Y-_",
        "outputId": "42f64eae-cf71-40bf-a5a5-53c1a7d2a49e"
      },
      "execution_count": 39,
      "outputs": [
        {
          "output_type": "stream",
          "name": "stdout",
          "text": [
            "1\n",
            "3\n",
            "5\n",
            "7\n",
            "9\n",
            "you crossed the limit\n"
          ]
        }
      ]
    },
    {
      "cell_type": "code",
      "source": [
        "B=100\n",
        "while B>0:\n",
        "  B=B-20\n",
        "  print(\"you can purchase\")\n",
        "\n",
        "else:\n",
        "  print(\"you can't purchase\")"
      ],
      "metadata": {
        "colab": {
          "base_uri": "https://localhost:8080/"
        },
        "id": "TpBoNN1E_ZNw",
        "outputId": "999e333d-f149-41da-d1d7-bab4b28a3dfd"
      },
      "execution_count": 42,
      "outputs": [
        {
          "output_type": "stream",
          "name": "stdout",
          "text": [
            "you can purchase\n",
            "you can purchase\n",
            "you can purchase\n",
            "you can purchase\n",
            "you can purchase\n",
            "you can't purchase\n"
          ]
        }
      ]
    },
    {
      "cell_type": "code",
      "source": [
        "secret_no=26\n",
        "your_no=int(input('you can guess my secret no'))\n",
        "\n",
        "while secret_no !=your_no:\n",
        "  print('wrong,try again')\n",
        "  your_no=int(input('you can guess my secret no'))\n",
        "else:\n",
        "  print('correct,you win')"
      ],
      "metadata": {
        "colab": {
          "base_uri": "https://localhost:8080/"
        },
        "id": "efm87FKEGbzG",
        "outputId": "1bf30831-1798-4e29-d66e-29b563ffab15"
      },
      "execution_count": 2,
      "outputs": [
        {
          "output_type": "stream",
          "name": "stdout",
          "text": [
            "you can guess my secret no34\n",
            "wrong,try again\n",
            "you can guess my secret no567\n",
            "wrong,try again\n",
            "you can guess my secret no23\n",
            "wrong,try again\n",
            "you can guess my secret no26\n",
            "correct,you win\n"
          ]
        }
      ]
    },
    {
      "cell_type": "code",
      "source": [
        "import random\n",
        "secret_no=15\n",
        "guess_no= random.randint(10,20)\n",
        "\n",
        "while secret_no !=guess_no:\n",
        "  print('wrong,try again')\n",
        "  guess_no= random.randint(10,20)\n",
        "else:\n",
        "  print('correct,you win')"
      ],
      "metadata": {
        "colab": {
          "base_uri": "https://localhost:8080/"
        },
        "id": "ovQ13Ao6HJNN",
        "outputId": "8d63e057-d3a7-47c2-a27c-aee88e75e7df"
      },
      "execution_count": 6,
      "outputs": [
        {
          "output_type": "stream",
          "name": "stdout",
          "text": [
            "wrong,try again\n",
            "wrong,try again\n",
            "wrong,try again\n",
            "wrong,try again\n",
            "wrong,try again\n",
            "wrong,try again\n",
            "wrong,try again\n",
            "wrong,try again\n",
            "wrong,try again\n",
            "wrong,try again\n",
            "wrong,try again\n",
            "wrong,try again\n",
            "wrong,try again\n",
            "correct,you win\n"
          ]
        }
      ]
    },
    {
      "cell_type": "code",
      "source": [
        "password=7576\n",
        "user_attempt=int(input('enter the password'))\n",
        "count=1\n",
        "while password!=user_attempt:\n",
        "  count=count+1\n",
        "  user_attempt=int(input('enter the password'))\n",
        "  if count==3:\n",
        "   print('attempt exceed')\n",
        "   break\n",
        "else:\n",
        "   print('successfully login')\n"
      ],
      "metadata": {
        "colab": {
          "base_uri": "https://localhost:8080/"
        },
        "id": "1qpR-6fWK0l5",
        "outputId": "bb1a152f-2e02-4ab2-a5eb-e9a527c45f44"
      },
      "execution_count": 48,
      "outputs": [
        {
          "output_type": "stream",
          "name": "stdout",
          "text": [
            "enter the password1234\n",
            "enter the password2345\n",
            "enter the password7576\n",
            "attempt exceed\n"
          ]
        }
      ]
    },
    {
      "cell_type": "code",
      "source": [
        "password=1234\n",
        "attempts=3\n",
        "while attempts >0:\n",
        "  userpass=int(input('enter ur password'))\n",
        "  if userpass==password:\n",
        "    print('login successfull')\n",
        "    break\n",
        "  else:\n",
        "    attempts -=1\n",
        "    print(f'{attempts} attempts left')\n",
        "else:\n",
        "  print('login failed')"
      ],
      "metadata": {
        "colab": {
          "base_uri": "https://localhost:8080/"
        },
        "id": "RxXYx9JbR0pf",
        "outputId": "4b5323bf-2a55-493b-ef18-4d211ad1283a"
      },
      "execution_count": 47,
      "outputs": [
        {
          "output_type": "stream",
          "name": "stdout",
          "text": [
            "enter ur password123445\n",
            "2 attempts left\n",
            "enter ur password4567\n",
            "1 attempts left\n",
            "enter ur password1234\n",
            "login successfull\n"
          ]
        }
      ]
    },
    {
      "cell_type": "code",
      "source": [
        "movies={'cid moosa':8,'adujeevitham':9,'thudarum':7,'bhramayugam':6,'sumathivalavu':5,'meesamadavan':4}\n",
        "print('all movies and ratings')\n",
        "for movie, rating in movies.items():\n",
        "  print(f'{movie}:{rating}')"
      ],
      "metadata": {
        "colab": {
          "base_uri": "https://localhost:8080/"
        },
        "id": "2flv8DQmVYP1",
        "outputId": "1b6e0d92-ab7b-4a0a-d6ae-2038b663a9a2"
      },
      "execution_count": 31,
      "outputs": [
        {
          "output_type": "stream",
          "name": "stdout",
          "text": [
            "all movies and ratings\n",
            "cid moosa:8\n",
            "adujeevitham:9\n",
            "thudarum:7\n",
            "bhramayugam:6\n",
            "sumathivalavu:5\n",
            "meesamadavan:4\n"
          ]
        }
      ]
    },
    {
      "cell_type": "code",
      "source": [
        "#update movie rating from 8 to 5 or 5 to 9\n",
        "for movie in movies:\n",
        "  if movies[movie]==8:\n",
        "    movies[movie]=5\n",
        "    if movies[movie]==5:\n",
        "      movies[movie]=9\n",
        "print('\\nAfter updating ratings:')\n",
        "for movie,rating in movies.items():\n",
        "  print(f'{movie}:{rating}')\n",
        "\n",
        "\n"
      ],
      "metadata": {
        "colab": {
          "base_uri": "https://localhost:8080/"
        },
        "id": "rLT_dRfjB9t4",
        "outputId": "3d09813e-7c3f-48c2-c05f-ec87b8c86ba9"
      },
      "execution_count": 32,
      "outputs": [
        {
          "output_type": "stream",
          "name": "stdout",
          "text": [
            "\n",
            "After updating ratings:\n",
            "cid moosa:9\n",
            "adujeevitham:9\n",
            "thudarum:7\n",
            "bhramayugam:6\n",
            "sumathivalavu:5\n",
            "meesamadavan:4\n"
          ]
        }
      ]
    },
    {
      "cell_type": "code",
      "source": [
        "#add 2 new movies and their ratings to dictionary\n",
        "movies['kgf']=9\n",
        "movies['leo']=8\n",
        "print('\\nAfter updating ratings:')\n",
        "for movie,rating in movies.items():\n",
        "  print(f'{movie}:{rating}')"
      ],
      "metadata": {
        "colab": {
          "base_uri": "https://localhost:8080/"
        },
        "id": "Qr-jN2mXFShG",
        "outputId": "7bb499bd-1b0c-4fee-8f96-802cadf7ef4c"
      },
      "execution_count": 33,
      "outputs": [
        {
          "output_type": "stream",
          "name": "stdout",
          "text": [
            "\n",
            "After updating ratings:\n",
            "cid moosa:9\n",
            "adujeevitham:9\n",
            "thudarum:7\n",
            "bhramayugam:6\n",
            "sumathivalavu:5\n",
            "meesamadavan:4\n",
            "kgf:9\n",
            "leo:8\n"
          ]
        }
      ]
    },
    {
      "cell_type": "code",
      "source": [
        "#find the highest rated movies from the dict\n",
        "max_rating=max(movies.values())\n",
        "highest_rated=[movies for movie,rating in movies.items() if rating==max_rating]\n",
        "print('\\nHighest rated movies')\n",
        "for movie in highest_rated:\n",
        "  print(f'{movie}:{max_rating}')"
      ],
      "metadata": {
        "colab": {
          "base_uri": "https://localhost:8080/"
        },
        "id": "Rt9qmuvwGLPG",
        "outputId": "0c611647-7a6e-487f-f07c-dd75036d8843"
      },
      "execution_count": 34,
      "outputs": [
        {
          "output_type": "stream",
          "name": "stdout",
          "text": [
            "\n",
            "Highest rated movies\n",
            "{'cid moosa': 9, 'adujeevitham': 9, 'thudarum': 7, 'bhramayugam': 6, 'sumathivalavu': 5, 'meesamadavan': 4, 'kgf': 9, 'leo': 8}:9\n",
            "{'cid moosa': 9, 'adujeevitham': 9, 'thudarum': 7, 'bhramayugam': 6, 'sumathivalavu': 5, 'meesamadavan': 4, 'kgf': 9, 'leo': 8}:9\n",
            "{'cid moosa': 9, 'adujeevitham': 9, 'thudarum': 7, 'bhramayugam': 6, 'sumathivalavu': 5, 'meesamadavan': 4, 'kgf': 9, 'leo': 8}:9\n"
          ]
        }
      ]
    },
    {
      "cell_type": "code",
      "source": [
        "#remove movies with rating below 5\n",
        "movies={movie:rating for movie,rating in movies.items()if rating>=5}\n",
        "print('\\nAfter removing movies with rating below 5')\n",
        "for movie, rating in movies.items():\n",
        "  print(f'{movie}:{rating}')"
      ],
      "metadata": {
        "colab": {
          "base_uri": "https://localhost:8080/"
        },
        "id": "BT9c3I0AHzjo",
        "outputId": "f5cf702b-269e-43fb-a04c-b5b1de9aabc9"
      },
      "execution_count": 35,
      "outputs": [
        {
          "output_type": "stream",
          "name": "stdout",
          "text": [
            "\n",
            "After removing movies with rating below 5\n",
            "cid moosa:9\n",
            "adujeevitham:9\n",
            "thudarum:7\n",
            "bhramayugam:6\n",
            "sumathivalavu:5\n",
            "kgf:9\n",
            "leo:8\n"
          ]
        }
      ]
    },
    {
      "cell_type": "code",
      "source": [
        "def greet():\n",
        "  print('hellow,welcome to kerala')\n",
        "\n"
      ],
      "metadata": {
        "id": "Tu2zVBsuvFKO"
      },
      "execution_count": 51,
      "outputs": []
    },
    {
      "cell_type": "code",
      "source": [
        "def greet():\n",
        " pass # pass meaning is skip\n",
        "#greet()"
      ],
      "metadata": {
        "id": "IcRoD23wIXG0"
      },
      "execution_count": 13,
      "outputs": []
    },
    {
      "cell_type": "code",
      "source": [
        "\n",
        "def greet(name):\n",
        "  print(f'hello {name}, welcome to the program')\n",
        "greet('thasli')"
      ],
      "metadata": {
        "colab": {
          "base_uri": "https://localhost:8080/"
        },
        "id": "Eyl1bLduvZci",
        "outputId": "0d2e1ade-98c4-4863-c259-0d2fd9d8c5de"
      },
      "execution_count": 10,
      "outputs": [
        {
          "output_type": "stream",
          "name": "stdout",
          "text": [
            "hello thasli, welcome to the program\n"
          ]
        }
      ]
    },
    {
      "cell_type": "code",
      "source": [
        "def greet(name):\n",
        "  print(f'hello {name}, welcome to the program')\n",
        "greet('thasli')\n",
        "greet('juby')\n",
        "greet('merin')\n",
        "greet('shaliha')"
      ],
      "metadata": {
        "colab": {
          "base_uri": "https://localhost:8080/"
        },
        "id": "nhvXJSspvp0q",
        "outputId": "24067df6-ca02-421e-8cfc-b62d0ac34a5d"
      },
      "execution_count": 11,
      "outputs": [
        {
          "output_type": "stream",
          "name": "stdout",
          "text": [
            "hello thasli, welcome to the program\n",
            "hello juby, welcome to the program\n",
            "hello merin, welcome to the program\n",
            "hello shaliha, welcome to the program\n"
          ]
        }
      ]
    },
    {
      "cell_type": "code",
      "source": [
        "def greet(name,time):\n",
        "  print(f'hello {name}, welcome to the program')\n",
        "  print(f'your sesssion start at {time}')\n",
        "greet('anandhu','3 pm')\n",
        "greet('thasli','1 pm')\n",
        "greet('thanzi','12 pm')"
      ],
      "metadata": {
        "colab": {
          "base_uri": "https://localhost:8080/"
        },
        "id": "J85xXC2nwXj9",
        "outputId": "0afb6fd3-93d2-451f-b375-a325cdb2aa01"
      },
      "execution_count": 14,
      "outputs": [
        {
          "output_type": "stream",
          "name": "stdout",
          "text": [
            "hello anandhu, welcome to the program\n",
            "your sesssion start at 3 pm\n",
            "hello thasli, welcome to the program\n",
            "your sesssion start at 1 pm\n",
            "hello thanzi, welcome to the program\n",
            "your sesssion start at 12 pm\n"
          ]
        }
      ]
    },
    {
      "cell_type": "code",
      "source": [
        "def greet(name,time='11 am'):#defult value function(argument )\n",
        "  print(f'hello {name}, welcome to the program')\n",
        "  print(f'your sesssion start at {time}')\n",
        "greet('anandhu','3 pm')\n",
        "greet('thasli','1 pm')\n",
        "greet('thanzi','12 pm')\n",
        "greet('iza')\n",
        "greet('yasdhan')"
      ],
      "metadata": {
        "colab": {
          "base_uri": "https://localhost:8080/"
        },
        "id": "JHg-QSsXwjIw",
        "outputId": "18238e84-e3b3-4f1f-b40f-87275a104c5d"
      },
      "execution_count": 17,
      "outputs": [
        {
          "output_type": "stream",
          "name": "stdout",
          "text": [
            "hello anandhu, welcome to the program\n",
            "your sesssion start at 3 pm\n",
            "hello thasli, welcome to the program\n",
            "your sesssion start at 1 pm\n",
            "hello thanzi, welcome to the program\n",
            "your sesssion start at 12 pm\n",
            "hello iza, welcome to the program\n",
            "your sesssion start at 11 am\n",
            "hello yasdhan, welcome to the program\n",
            "your sesssion start at 11 am\n"
          ]
        }
      ]
    },
    {
      "cell_type": "code",
      "source": [
        "a=int(input('enter the no'))\n",
        "b=int(input('enter the no'))\n",
        "print(int(a*b))"
      ],
      "metadata": {
        "colab": {
          "base_uri": "https://localhost:8080/"
        },
        "id": "-4gGacZex51U",
        "outputId": "6a1ab18f-f930-46d5-f5c6-ea6477747b7e"
      },
      "execution_count": 19,
      "outputs": [
        {
          "output_type": "stream",
          "name": "stdout",
          "text": [
            "enter the no12\n",
            "enter the no10\n",
            "120\n"
          ]
        }
      ]
    },
    {
      "cell_type": "code",
      "source": [
        "\n",
        "def product(a,b):\n",
        " a=int(input('enter the no'))\n",
        " b=int(input('enter the no'))\n",
        " print(int(a*b))\n",
        "product(a,b)"
      ],
      "metadata": {
        "colab": {
          "base_uri": "https://localhost:8080/"
        },
        "id": "vNOqRuQMx54A",
        "outputId": "dc6a5812-0678-4aef-8153-e81ddc9c2f8a"
      },
      "execution_count": 22,
      "outputs": [
        {
          "output_type": "stream",
          "name": "stdout",
          "text": [
            "enter the no12\n",
            "enter the no10\n",
            "120\n"
          ]
        }
      ]
    },
    {
      "cell_type": "code",
      "source": [
        "def product(a,b):\n",
        "  a=int(input('enter a no'))\n",
        "  b=int(input('enter 2nd no'))\n",
        "  print(f'the product,{a}*{b}={a*b}')\n",
        "product(a,b)"
      ],
      "metadata": {
        "colab": {
          "base_uri": "https://localhost:8080/"
        },
        "id": "bV1nbfbMx57b",
        "outputId": "c367447e-9101-416a-f03d-85ab17fb7d7a"
      },
      "execution_count": 26,
      "outputs": [
        {
          "output_type": "stream",
          "name": "stdout",
          "text": [
            "enter a no5\n",
            "enter 2nd no9\n",
            "the product,5*9=45\n"
          ]
        }
      ]
    },
    {
      "cell_type": "code",
      "source": [
        "def multiply(a,b):\n",
        "  product=a*b\n",
        "  print(product)\n",
        "\n",
        "num1=int(input('enter a no'))\n",
        "num2=int(input('enter 2nd no'))\n",
        "multiply(num1,num2)"
      ],
      "metadata": {
        "colab": {
          "base_uri": "https://localhost:8080/"
        },
        "id": "B5b3QiXp1DPs",
        "outputId": "8d42aaa6-0ea2-4bb4-e378-b11f89f72997"
      },
      "execution_count": 27,
      "outputs": [
        {
          "output_type": "stream",
          "name": "stdout",
          "text": [
            "enter a no12\n",
            "enter 2nd no5\n",
            "60\n"
          ]
        }
      ]
    },
    {
      "cell_type": "code",
      "source": [
        "def bill(total):\n",
        "  total_amount=total+0.1*total\n",
        "  print(f'the amount to be paid is {total_amount}')\n",
        "total=int(input('enter the amount'))\n",
        "bill(total)\n",
        "\n"
      ],
      "metadata": {
        "colab": {
          "base_uri": "https://localhost:8080/"
        },
        "id": "IL46eWs71yQz",
        "outputId": "bd7f70e2-cd6e-44d4-eed5-5af1fc3367eb"
      },
      "execution_count": 28,
      "outputs": [
        {
          "output_type": "stream",
          "name": "stdout",
          "text": [
            "enter the amount400\n",
            "the amount to be paid is 440.0\n"
          ]
        }
      ]
    },
    {
      "cell_type": "code",
      "source": [
        "def bill(total):\n",
        "  if total<500:\n",
        "    a=total+0.1*total\n",
        "    print(f'the amount to be paid is {a}')\n",
        "  elif total>500 and total<1000:\n",
        "    a=total+0.2*total\n",
        "    print(f'the amount to be is {a}')\n",
        "  else:\n",
        "    a=total+0.3*total\n",
        "    print(f'the amount to be paid is {a}')\n",
        "total=int(input('enter the amount'))\n",
        "bill(total)\n"
      ],
      "metadata": {
        "colab": {
          "base_uri": "https://localhost:8080/"
        },
        "id": "sbDwlh4M3rsT",
        "outputId": "a41f461a-d4c1-443c-b68a-289166f33ebd"
      },
      "execution_count": 29,
      "outputs": [
        {
          "output_type": "stream",
          "name": "stdout",
          "text": [
            "enter the amount699\n",
            "the amount to be is 838.8\n"
          ]
        }
      ]
    },
    {
      "cell_type": "code",
      "source": [
        "num_list=[12,5,7,23,13,19,21,44,8]\n",
        "def average_even(numberlist):\n",
        "  even_list=[]\n",
        "  odd_list=[]\n",
        "  for num in numberlist:\n",
        "    if num % 2 ==0:\n",
        "      even_list.append(num)\n",
        "    else:\n",
        "      odd_list.append(num)\n",
        "  averageeven =sum(even_list)/len(even_list)\n",
        "  averageodd=sum(odd_list)/len(odd_list)\n",
        "  print(even_list)\n",
        "  print(averageeven)\n",
        "  print(odd_list)\n",
        "  print(averageodd)\n",
        "average_even(num_list)"
      ],
      "metadata": {
        "colab": {
          "base_uri": "https://localhost:8080/"
        },
        "id": "mLyYu9dr5qDj",
        "outputId": "68536a85-8ffc-4304-b1d7-12525d47f7d0"
      },
      "execution_count": 43,
      "outputs": [
        {
          "output_type": "stream",
          "name": "stdout",
          "text": [
            "[12, 44, 8]\n",
            "21.333333333333332\n",
            "[5, 7, 23, 13, 19, 21]\n",
            "14.666666666666666\n"
          ]
        }
      ]
    },
    {
      "cell_type": "code",
      "source": [
        "# single * = tuple format , double ** = dict format"
      ],
      "metadata": {
        "id": "AJB4985i_Wzl"
      },
      "execution_count": 47,
      "outputs": []
    },
    {
      "cell_type": "code",
      "source": [
        "def sum_numbers(*args):  #arbitrary word argument\n",
        "  print(type(args))\n",
        "  total=0\n",
        "  for i in args:\n",
        "    total +=i\n",
        "  print(total)\n",
        "sum_numbers(7,8,9,6,5)"
      ],
      "metadata": {
        "colab": {
          "base_uri": "https://localhost:8080/"
        },
        "id": "IzroEeWX9PH4",
        "outputId": "094eb325-b5ab-4d9e-fa2a-3421b94470b4"
      },
      "execution_count": 52,
      "outputs": [
        {
          "output_type": "stream",
          "name": "stdout",
          "text": [
            "<class 'tuple'>\n",
            "35\n"
          ]
        }
      ]
    },
    {
      "cell_type": "code",
      "source": [
        "def print_info(**args):   #key word argument\n",
        "  for item,val in args.items():\n",
        "    print(type(args))\n",
        "    print(f'{item} is {val}')\n",
        "print_info(name='thasli',place='tvm',score=7)\n",
        "print_info(name='thasli',place='tvm',batch='dsa')\n"
      ],
      "metadata": {
        "colab": {
          "base_uri": "https://localhost:8080/"
        },
        "id": "kiy6TGbH-_wZ",
        "outputId": "27ec0fc0-527c-4ea8-bc77-292c8868ffac"
      },
      "execution_count": 53,
      "outputs": [
        {
          "output_type": "stream",
          "name": "stdout",
          "text": [
            "<class 'dict'>\n",
            "name is thasli\n",
            "<class 'dict'>\n",
            "place is tvm\n",
            "<class 'dict'>\n",
            "score is 7\n",
            "<class 'dict'>\n",
            "name is thasli\n",
            "<class 'dict'>\n",
            "place is tvm\n",
            "<class 'dict'>\n",
            "batch is dsa\n"
          ]
        }
      ]
    },
    {
      "cell_type": "code",
      "source": [
        "def squareofnum(x):\n",
        "  y=x*x\n",
        "  print(y)\n",
        "squareofnum(10)"
      ],
      "metadata": {
        "colab": {
          "base_uri": "https://localhost:8080/"
        },
        "id": "jDn_nwxS-_kC",
        "outputId": "258f9b9c-6dff-47ec-972e-d945767ddb77"
      },
      "execution_count": 54,
      "outputs": [
        {
          "output_type": "stream",
          "name": "stdout",
          "text": [
            "100\n"
          ]
        }
      ]
    },
    {
      "cell_type": "code",
      "source": [
        "square=lambda x : x*x\n",
        "square(5)"
      ],
      "metadata": {
        "colab": {
          "base_uri": "https://localhost:8080/"
        },
        "id": "vz3oIF2b-_gl",
        "outputId": "d54d397d-9466-4b4b-d2d1-28dc65b413ce"
      },
      "execution_count": 55,
      "outputs": [
        {
          "output_type": "execute_result",
          "data": {
            "text/plain": [
              "25"
            ]
          },
          "metadata": {},
          "execution_count": 55
        }
      ]
    },
    {
      "cell_type": "code",
      "source": [
        "add = lambda x,y : x+y\n",
        "add(3,5)"
      ],
      "metadata": {
        "colab": {
          "base_uri": "https://localhost:8080/"
        },
        "id": "D7_Br_HS-_d9",
        "outputId": "b0c59d48-26f7-487c-db06-8bf54d07e0fb"
      },
      "execution_count": 56,
      "outputs": [
        {
          "output_type": "execute_result",
          "data": {
            "text/plain": [
              "8"
            ]
          },
          "metadata": {},
          "execution_count": 56
        }
      ]
    },
    {
      "cell_type": "code",
      "source": [
        "def totalmark(marks):\n",
        "  print(sum(marks))\n",
        "  return(sum(marks))\n",
        "finalscore=totalmark([10,20,30,40,50])\n",
        "if finalscore>=90:\n",
        "  print('grade A')\n",
        "elif finalscore<89 and finalscore>=79:\n",
        "  print('grade B')\n",
        "else:\n",
        "  print('grade F')"
      ],
      "metadata": {
        "colab": {
          "base_uri": "https://localhost:8080/"
        },
        "id": "OoIhYAfOMeW8",
        "outputId": "4429ddc4-e0c9-4ffb-83eb-c7d9b76c0177"
      },
      "execution_count": 63,
      "outputs": [
        {
          "output_type": "stream",
          "name": "stdout",
          "text": [
            "150\n",
            "grade A\n"
          ]
        }
      ]
    },
    {
      "cell_type": "code",
      "source": [
        "#oop (objected oriented programing)-security is higher\n",
        "#basic term = 1 class-blueprint structure(set of code, it contains atributes=variables and methods=functions)\n",
        "#2 object/Instance - to access the codes\n",
        "#3 inheritance-\n",
        "#4 polymorphism\n",
        "#5 encapsulation\n",
        "#6 abstaction\n"
      ],
      "metadata": {
        "id": "ccjOrROVMgOr"
      },
      "execution_count": 69,
      "outputs": []
    },
    {
      "cell_type": "markdown",
      "source": [
        "#oop (objected oriented programing)-security is higher\n",
        "#basic term = 1 class-blueprint structure(set of code, it contains atributes=variables and methods=functions)\n",
        "#2 object/Instance - to access the codes\n",
        "#3 inheritance-\n",
        "#4 polymorphism\n",
        "#5 encapsulation\n",
        "#6 abstaction"
      ],
      "metadata": {
        "id": "kptwwcDvRalz"
      }
    },
    {
      "cell_type": "code",
      "source": [
        "class Animal:\n",
        "  animal_type='dog'\n",
        "  num_legs=4\n",
        "  mammals='yes'\n",
        "  def sound(self):   #self is a key,distinguish users\n",
        "    print('animal barks')\n",
        "obj1=Animal()   #instance/object\n",
        "obj1.sound()\n",
        "print(obj1.animal_type)\n",
        "obj2=Animal()\n",
        "obj2.sound()\n",
        "print(obj2.animal_type)"
      ],
      "metadata": {
        "colab": {
          "base_uri": "https://localhost:8080/"
        },
        "id": "LCn_5ZmWOfZB",
        "outputId": "3fc49e59-5ff3-4565-cbc2-28a18f7974c6"
      },
      "execution_count": 80,
      "outputs": [
        {
          "output_type": "stream",
          "name": "stdout",
          "text": [
            "animal barks\n",
            "dog\n",
            "animal barks\n",
            "dog\n"
          ]
        }
      ]
    },
    {
      "cell_type": "code",
      "source": [
        "class person:\n",
        "  place='tvm'\n",
        "  def __init__(self,name,age):\n",
        "    self.name=name\n",
        "    self.age=age\n",
        "  def greet(self):\n",
        "    return f'Hi myself {self.name} and my age is {self.age} and iam from {self.place}'\n",
        "obj1=person('thasliya',24)\n",
        "obj1.greet()\n",
        "\n",
        "#obj2=person('twinkle',23)\n",
        "#obj2.greet()"
      ],
      "metadata": {
        "colab": {
          "base_uri": "https://localhost:8080/",
          "height": 36
        },
        "id": "xfmFoPpqOfL_",
        "outputId": "d9d25677-e163-4e2e-822c-e4ab9c4a86a3"
      },
      "execution_count": 86,
      "outputs": [
        {
          "output_type": "execute_result",
          "data": {
            "text/plain": [
              "'Hi myself thasliya and my age is 24 and iam from tvm'"
            ],
            "application/vnd.google.colaboratory.intrinsic+json": {
              "type": "string"
            }
          },
          "metadata": {},
          "execution_count": 86
        }
      ]
    },
    {
      "cell_type": "code",
      "source": [
        "class employee:\n",
        "  def __init__(self,name,emp_id,salary):\n",
        "    self.name=name\n",
        "    self.emp_id=emp_id\n",
        "    self.salary=salary\n",
        "  def display_info(self):\n",
        "    print(f'name:{self.name}')\n",
        "    print(f'employee id:{self.emp_id}')\n",
        "    print(f'salary :{self.salary}')\n",
        "class manager(employee):\n",
        "  def __init__(self,name,emp_id,salary,dept,teamsize):\n",
        "    super().__init__(name,emp_id,salary)\n",
        "    self.dept=dept\n",
        "    self.teamsize=teamsize\n",
        "  def display_manager_info(self):\n",
        "    self.display_info()\n",
        "    print(f'department:{self.dept}')\n",
        "    print(f'team size:{self.teamsize}')\n",
        "emp1=employee('iza','12345',100000)\n",
        "emp1.display_info()\n",
        "manager1=manager('liya','75760',300000,'cs',15)\n",
        "manager1.display_manager_info()\n",
        "class teamlead(manager):\n",
        "  def __init__(self,name,emp_id,salary,dept,teamsize,shift):\n",
        "    super().__init__(name,emp_id,salary,dept,teamsize)\n",
        "    self.shift=shift\n",
        "  def display_teamlead_info(self):\n",
        "    self.display_manager_info()\n",
        "    print(f'shift:{self.shift}')\n",
        "emp1=employee('iza','12345',100000)\n",
        "emp1.display_info()\n",
        "manager1=manager('liya','75760',300000,'cs',15)\n",
        "manager1.display_manager_info()\n",
        "teamlead1=teamlead('yasdu','51310',500000,'it',20,'day')\n",
        "teamlead1.display_teamlead_info()"
      ],
      "metadata": {
        "colab": {
          "base_uri": "https://localhost:8080/"
        },
        "id": "Qx1bf9DpXfHH",
        "outputId": "f6fb3c9a-438a-4f08-d6a0-2032e8ce94d8"
      },
      "execution_count": 97,
      "outputs": [
        {
          "output_type": "stream",
          "name": "stdout",
          "text": [
            "name:iza\n",
            "employee id:12345\n",
            "salary :100000\n",
            "name:liya\n",
            "employee id:75760\n",
            "salary :300000\n",
            "department:cs\n",
            "team size:15\n",
            "name:iza\n",
            "employee id:12345\n",
            "salary :100000\n",
            "name:liya\n",
            "employee id:75760\n",
            "salary :300000\n",
            "department:cs\n",
            "team size:15\n",
            "name:yasdu\n",
            "employee id:51310\n",
            "salary :500000\n",
            "department:it\n",
            "team size:20\n",
            "shift:day\n"
          ]
        }
      ]
    },
    {
      "cell_type": "code",
      "source": [],
      "metadata": {
        "id": "Dcox7Abeg6ZZ"
      },
      "execution_count": null,
      "outputs": []
    }
  ]
}