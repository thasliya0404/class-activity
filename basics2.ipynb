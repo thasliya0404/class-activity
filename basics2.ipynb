{
  "nbformat": 4,
  "nbformat_minor": 0,
  "metadata": {
    "colab": {
      "provenance": [],
      "authorship_tag": "ABX9TyP8ITT+R2V8c8sqzaeDoKME",
      "include_colab_link": true
    },
    "kernelspec": {
      "name": "python3",
      "display_name": "Python 3"
    },
    "language_info": {
      "name": "python"
    }
  },
  "cells": [
    {
      "cell_type": "markdown",
      "metadata": {
        "id": "view-in-github",
        "colab_type": "text"
      },
      "source": [
        "<a href=\"https://colab.research.google.com/github/thasliya0404/class-activity/blob/main/basics2.ipynb\" target=\"_parent\"><img src=\"https://colab.research.google.com/assets/colab-badge.svg\" alt=\"Open In Colab\"/></a>"
      ]
    },
    {
      "cell_type": "code",
      "execution_count": null,
      "metadata": {
        "colab": {
          "base_uri": "https://localhost:8080/"
        },
        "id": "okXQ06EsoF3v",
        "outputId": "5531b555-df5f-451c-8ce7-b7964c54b789"
      },
      "outputs": [
        {
          "output_type": "stream",
          "name": "stdout",
          "text": [
            "1000\n"
          ]
        }
      ],
      "source": [
        "#exponent\n",
        "a = 10\n",
        "b = 3\n",
        "c = a**b\n",
        "print(c)"
      ]
    },
    {
      "cell_type": "code",
      "source": [
        "#floor division\n",
        "num = 9\n",
        "den = 2\n",
        "result = num/den\n",
        "print(result)"
      ],
      "metadata": {
        "colab": {
          "base_uri": "https://localhost:8080/"
        },
        "id": "r6aXk2ozoc-p",
        "outputId": "b94421c0-fe6c-4bfc-a1ba-feee7de22832"
      },
      "execution_count": null,
      "outputs": [
        {
          "output_type": "stream",
          "name": "stdout",
          "text": [
            "4.5\n"
          ]
        }
      ]
    },
    {
      "cell_type": "code",
      "source": [
        "#modulus\n",
        "modulus = num%den\n",
        "print(modulus)"
      ],
      "metadata": {
        "colab": {
          "base_uri": "https://localhost:8080/"
        },
        "id": "SsTkU3ebou7j",
        "outputId": "82eca0c9-9c75-48b6-86ff-f50c6ae77f1a"
      },
      "execution_count": null,
      "outputs": [
        {
          "output_type": "stream",
          "name": "stdout",
          "text": [
            "1\n"
          ]
        }
      ]
    },
    {
      "cell_type": "markdown",
      "source": [
        "here modulus is remainder"
      ],
      "metadata": {
        "id": "zXiFOr0mpJkc"
      }
    },
    {
      "cell_type": "code",
      "source": [],
      "metadata": {
        "id": "-Ajzye6eouog"
      },
      "execution_count": null,
      "outputs": []
    },
    {
      "cell_type": "markdown",
      "source": [],
      "metadata": {
        "id": "ge4lFv9XpVae"
      }
    },
    {
      "cell_type": "markdown",
      "source": [
        "logical operators are and, or, not"
      ],
      "metadata": {
        "id": "Odl9XbEpqXjD"
      }
    },
    {
      "cell_type": "code",
      "source": [
        "#AND\n",
        "print(True and False)"
      ],
      "metadata": {
        "id": "T21cBISmoum0"
      },
      "execution_count": null,
      "outputs": []
    },
    {
      "cell_type": "code",
      "source": [
        "#OR\n",
        "print(True or False)"
      ],
      "metadata": {
        "id": "4woUXXhKouh-"
      },
      "execution_count": null,
      "outputs": []
    },
    {
      "cell_type": "code",
      "source": [
        "#NOT\n",
        "print(not True)"
      ],
      "metadata": {
        "id": "Z1kv-w6kp5bu"
      },
      "execution_count": null,
      "outputs": []
    },
    {
      "cell_type": "markdown",
      "source": [],
      "metadata": {
        "id": "7r-6xt8rqVid"
      }
    },
    {
      "cell_type": "markdown",
      "source": [
        "membership operators are in, not in"
      ],
      "metadata": {
        "id": "6rB-hkrqqjov"
      }
    },
    {
      "cell_type": "code",
      "source": [
        "#IN\n",
        "print(1 in(1,2,3))"
      ],
      "metadata": {
        "id": "wVp0PJIKqAE4"
      },
      "execution_count": null,
      "outputs": []
    },
    {
      "cell_type": "code",
      "source": [
        "#notin\n",
        "print(1 not in(1,2,3))"
      ],
      "metadata": {
        "colab": {
          "base_uri": "https://localhost:8080/"
        },
        "id": "FPrb-T-_qADA",
        "outputId": "c37cf8fb-d037-4545-e865-4646a7911b62"
      },
      "execution_count": null,
      "outputs": [
        {
          "output_type": "stream",
          "name": "stdout",
          "text": [
            "False\n"
          ]
        }
      ]
    },
    {
      "cell_type": "code",
      "source": [
        "'x' in 'malayalam'"
      ],
      "metadata": {
        "colab": {
          "base_uri": "https://localhost:8080/"
        },
        "id": "R--I9mJop_9v",
        "outputId": "dda2bfc4-8c22-4294-dbc7-7224e36ff1f8"
      },
      "execution_count": null,
      "outputs": [
        {
          "output_type": "execute_result",
          "data": {
            "text/plain": [
              "False"
            ]
          },
          "metadata": {},
          "execution_count": 73
        }
      ]
    },
    {
      "cell_type": "markdown",
      "source": [
        "identity operators are is , is not"
      ],
      "metadata": {
        "id": "jEtHsM5QrTYs"
      }
    },
    {
      "cell_type": "code",
      "source": [
        "#IS\n",
        "a = 10\n",
        "b = 10\n",
        "print(a is b)\n",
        "a = 12\n",
        "b = 10\n",
        "print(a is b)"
      ],
      "metadata": {
        "colab": {
          "base_uri": "https://localhost:8080/"
        },
        "id": "dT-dyVoRp_lX",
        "outputId": "abb04c65-2d06-4f3b-f823-1fca576cb5a7"
      },
      "execution_count": null,
      "outputs": [
        {
          "output_type": "stream",
          "name": "stdout",
          "text": [
            "True\n",
            "False\n"
          ]
        }
      ]
    },
    {
      "cell_type": "code",
      "source": [
        "#ISNOT\n",
        "a = 10\n",
        "b = 10\n",
        "print(a is not a)\n",
        "a = 12\n",
        "b = 10\n",
        "print(a is not b)"
      ],
      "metadata": {
        "colab": {
          "base_uri": "https://localhost:8080/"
        },
        "id": "ZatZtVsirLt8",
        "outputId": "bea3b995-978b-4d91-fbcb-93caee2f3a47"
      },
      "execution_count": null,
      "outputs": [
        {
          "output_type": "stream",
          "name": "stdout",
          "text": [
            "False\n",
            "True\n"
          ]
        }
      ]
    },
    {
      "cell_type": "code",
      "source": [
        "'hello'*4"
      ],
      "metadata": {
        "colab": {
          "base_uri": "https://localhost:8080/",
          "height": 36
        },
        "id": "Ti-tvemusaK4",
        "outputId": "79a6a91c-33a9-4952-8522-95318016da0d"
      },
      "execution_count": null,
      "outputs": [
        {
          "output_type": "execute_result",
          "data": {
            "text/plain": [
              "'hellohellohellohello'"
            ],
            "application/vnd.google.colaboratory.intrinsic+json": {
              "type": "string"
            }
          },
          "metadata": {},
          "execution_count": 76
        }
      ]
    },
    {
      "cell_type": "code",
      "source": [
        "'welcome'*5"
      ],
      "metadata": {
        "colab": {
          "base_uri": "https://localhost:8080/",
          "height": 36
        },
        "id": "FSdpV9_Hsoz0",
        "outputId": "8c256ddc-d7d4-450f-90ea-e0fca62ab287"
      },
      "execution_count": null,
      "outputs": [
        {
          "output_type": "execute_result",
          "data": {
            "text/plain": [
              "'welcomewelcomewelcomewelcomewelcome'"
            ],
            "application/vnd.google.colaboratory.intrinsic+json": {
              "type": "string"
            }
          },
          "metadata": {},
          "execution_count": 77
        }
      ]
    },
    {
      "cell_type": "code",
      "source": [
        "print('hellow\\n'*5)"
      ],
      "metadata": {
        "colab": {
          "base_uri": "https://localhost:8080/"
        },
        "id": "VvmytUS2tFqD",
        "outputId": "a8b699a5-5dec-45b3-9fe7-73b6122ad8af"
      },
      "execution_count": null,
      "outputs": [
        {
          "output_type": "stream",
          "name": "stdout",
          "text": [
            "hellow\n",
            "hellow\n",
            "hellow\n",
            "hellow\n",
            "hellow\n",
            "\n"
          ]
        }
      ]
    },
    {
      "cell_type": "markdown",
      "source": [
        "control flow if\n",
        "this checks a condition, and if its true,the intented code block under it will executed.\n",
        "\n"
      ],
      "metadata": {
        "id": "CpcVXgRKR0iH"
      }
    },
    {
      "cell_type": "code",
      "source": [],
      "metadata": {
        "id": "3Uyv04-rToRw"
      },
      "execution_count": null,
      "outputs": []
    },
    {
      "cell_type": "code",
      "source": [
        "#if True\n",
        "#print('inside if block')"
      ],
      "metadata": {
        "id": "Lf0Ka2C_R48u"
      },
      "execution_count": null,
      "outputs": []
    },
    {
      "cell_type": "code",
      "source": [
        "year=int(input('enter your birth year:'))\n",
        "age=2025-year\n",
        "if age>=18:\n",
        "  print('eligible to vote')\n",
        "else:\n",
        "  print('not eligible to birth')"
      ],
      "metadata": {
        "colab": {
          "base_uri": "https://localhost:8080/"
        },
        "id": "XTKS4RmGTqBe",
        "outputId": "b1b18b64-4ab3-46bb-97ee-63223a3e3913"
      },
      "execution_count": null,
      "outputs": [
        {
          "output_type": "stream",
          "name": "stdout",
          "text": [
            "enter your birth year:2001\n",
            "eligible to vote\n"
          ]
        }
      ]
    },
    {
      "cell_type": "markdown",
      "source": [
        "if-elif"
      ],
      "metadata": {
        "id": "c6uRxfs1Uujc"
      }
    },
    {
      "cell_type": "code",
      "source": [
        "year=int(input('enter your birth year:'))\n",
        "age=2025-year\n",
        "if age>18:\n",
        "  print('eligible to vote')\n",
        "elif age==18:\n",
        "  print(' eligible to vote')\n",
        "elif age<18:\n",
        "  print('not eligible to vote')"
      ],
      "metadata": {
        "colab": {
          "base_uri": "https://localhost:8080/"
        },
        "id": "Wk3P8e0aU6PQ",
        "outputId": "15ad803b-6ebd-4728-f270-09cb870a68e9"
      },
      "execution_count": null,
      "outputs": [
        {
          "output_type": "stream",
          "name": "stdout",
          "text": [
            "enter your birth year:2001\n",
            "eligible to vote\n"
          ]
        }
      ]
    },
    {
      "cell_type": "markdown",
      "source": [
        "if-elif-else"
      ],
      "metadata": {
        "id": "dy3a2AU5VtCl"
      }
    },
    {
      "cell_type": "code",
      "source": [
        "year=int(input('enter your birth year:'))\n",
        "age=2025-year\n",
        "if age>18:\n",
        "  print('eligible to vote')\n",
        "elif age==18:\n",
        "  print(' eligible to vote')\n",
        "else:\n",
        "  print('not eligible to vote')"
      ],
      "metadata": {
        "colab": {
          "base_uri": "https://localhost:8080/"
        },
        "id": "vIzJmUMYVslI",
        "outputId": "770fe0f5-e986-40dc-c5a1-820e15242d2f"
      },
      "execution_count": null,
      "outputs": [
        {
          "output_type": "stream",
          "name": "stdout",
          "text": [
            "enter your birth year:2001\n",
            "eligible to vote\n"
          ]
        }
      ]
    },
    {
      "cell_type": "code",
      "source": [
        "age=int(input('enter the age'))\n",
        "if age<=12:\n",
        "  print('child')\n",
        "elif 13<=age<=19:\n",
        "  print('teenage')\n",
        "elif 20<=age<=59:\n",
        "  print('adult')\n",
        "else:\n",
        "  print('senior citizen')\n"
      ],
      "metadata": {
        "colab": {
          "base_uri": "https://localhost:8080/"
        },
        "id": "4ei2rlLiWGbr",
        "outputId": "7ed3d4bb-8805-4d88-ca87-1d9e2a273f3f"
      },
      "execution_count": null,
      "outputs": [
        {
          "output_type": "stream",
          "name": "stdout",
          "text": [
            "enter the age2001\n",
            "senior citizen\n"
          ]
        }
      ]
    },
    {
      "cell_type": "code",
      "source": [
        "#Nestedif\n",
        "x=20\n",
        "if x>10:\n",
        "  print('greater than x')\n",
        "if x>30:\n",
        "  print('greaterthan x')\n",
        "else:\n",
        "  print('not greaterthan x')\n"
      ],
      "metadata": {
        "colab": {
          "base_uri": "https://localhost:8080/"
        },
        "id": "dLNy26PEWGYP",
        "outputId": "288d2f34-ad42-401f-e797-242fd14aa43f"
      },
      "execution_count": null,
      "outputs": [
        {
          "output_type": "stream",
          "name": "stdout",
          "text": [
            "greater than x\n",
            "not greaterthan x\n"
          ]
        }
      ]
    },
    {
      "cell_type": "code",
      "source": [
        "#write code to check if your name is lengthy(more than 10 characters)\n",
        "x=input('enter the name')\n",
        "y=len(x)\n",
        "if y>10:\n",
        "  print('name is lengthy')\n",
        "else:\n",
        "  print('name is not lengthy')"
      ],
      "metadata": {
        "colab": {
          "base_uri": "https://localhost:8080/"
        },
        "id": "8Envfi1HWGS6",
        "outputId": "792b8057-728f-4a64-e3c3-9013283c4325"
      },
      "execution_count": null,
      "outputs": [
        {
          "output_type": "stream",
          "name": "stdout",
          "text": [
            "enter the namethasliya\n",
            "name is not lengthy\n"
          ]
        }
      ]
    },
    {
      "cell_type": "code",
      "source": [
        "x=input('railway time:')\n",
        "z=x.split(':')\n",
        "y=int(z[0])\n",
        "if y<=12:\n",
        "  print(x,'am')\n",
        "else:\n",
        "  print(y-12,':',z[1],'pm')\n",
        "\n"
      ],
      "metadata": {
        "colab": {
          "base_uri": "https://localhost:8080/"
        },
        "id": "F8PW89GKVkIy",
        "outputId": "495502c1-4447-4d95-b18a-8161e4e24dd5"
      },
      "execution_count": null,
      "outputs": [
        {
          "output_type": "stream",
          "name": "stdout",
          "text": [
            "railway time:18:31\n",
            "6 : 31 pm\n"
          ]
        }
      ]
    },
    {
      "cell_type": "code",
      "source": [
        "#write code to print a given string is palindrome or not\n",
        "x=input('write a word')\n",
        "y=x[::-1]\n",
        "if x==y:\n",
        "  print('palindrome')\n",
        "else:\n",
        "  print('not palindrome')"
      ],
      "metadata": {
        "colab": {
          "base_uri": "https://localhost:8080/"
        },
        "id": "djgiUkrQfKlX",
        "outputId": "9bba8d40-18c4-4302-8f9b-ee6dda6cb85c"
      },
      "execution_count": null,
      "outputs": [
        {
          "output_type": "stream",
          "name": "stdout",
          "text": [
            "write a wordmalayalam\n",
            "palindrome\n"
          ]
        }
      ]
    },
    {
      "cell_type": "code",
      "source": [
        "#write code to check your favorite color is primary color(R/G/B)or not\n",
        "x=input('write a favorite color')\n",
        "y=['red','blue','green']\n",
        "if x in y:\n",
        "  print('favorite color is primary color')\n",
        "else:\n",
        "  print('favorite color is not primary color')"
      ],
      "metadata": {
        "colab": {
          "base_uri": "https://localhost:8080/"
        },
        "id": "I9nwme8YfKYd",
        "outputId": "f11ec58f-f5e3-4f61-d692-e059706d7340"
      },
      "execution_count": null,
      "outputs": [
        {
          "output_type": "stream",
          "name": "stdout",
          "text": [
            "write a favorite coloryellow\n",
            "favorite color is not primary color\n"
          ]
        }
      ]
    },
    {
      "cell_type": "code",
      "source": [
        "#write code to check whether a product has expired (6 months shelf life) or not based on MFD provided by the user in dd/mm/yyyy format\n",
        "from datetime import datetime\n",
        "from dateutil.relativedelta import relativedelta\n",
        "\n",
        "mfd_str = input('Enter MFD (dd/mm/yyyy): ')\n",
        "mfd = datetime.strptime(mfd_str, '%d/%m/%Y')\n",
        "\n",
        "expiry_date = mfd + relativedelta(months=+6)\n",
        "current_date = datetime.now()\n",
        "\n",
        "if current_date > expiry_date:\n",
        "  print('Product has expired')\n",
        "else:\n",
        "  print('Product has not expired')"
      ],
      "metadata": {
        "colab": {
          "base_uri": "https://localhost:8080/"
        },
        "id": "q-jVUfwVivMq",
        "outputId": "be24dc36-030c-4573-e1e4-a17344d10945"
      },
      "execution_count": null,
      "outputs": [
        {
          "output_type": "stream",
          "name": "stdout",
          "text": [
            "Enter MFD (dd/mm/yyyy): 12/10/2024\n",
            "Product has expired\n"
          ]
        }
      ]
    },
    {
      "cell_type": "code",
      "source": [
        "x=int(input('mfd:'))\n",
        "y=int(input('current date:'))\n",
        "epd=x+6\n",
        "if y>epd:\n",
        "  print('product expired')\n",
        "else:\n",
        "  print('product not expired')"
      ],
      "metadata": {
        "colab": {
          "base_uri": "https://localhost:8080/"
        },
        "id": "Lq26nJ7Oj9JD",
        "outputId": "3f1b3102-add9-4dd1-dcff-7f07ac6d5bf7"
      },
      "execution_count": null,
      "outputs": [
        {
          "output_type": "stream",
          "name": "stdout",
          "text": [
            "mfd:2\n",
            "current date:12\n",
            "product expired\n"
          ]
        }
      ]
    },
    {
      "cell_type": "code",
      "source": [
        "x=input('mfd:').split('/')\n",
        "y=input('current date:').split('/')\n",
        "epd=int(x[1])+6\n",
        "if int(y[1])>epd:\n",
        "  print('product expired')\n",
        "else:\n",
        "  print('product not expired')"
      ],
      "metadata": {
        "colab": {
          "base_uri": "https://localhost:8080/"
        },
        "id": "FNv4dhX6qGgW",
        "outputId": "5f415080-1ed9-4e34-e3f7-d5db25e9fb98"
      },
      "execution_count": null,
      "outputs": [
        {
          "output_type": "stream",
          "name": "stdout",
          "text": [
            "mfd:01/01/2024\n",
            "current date:05/08/2025\n",
            "product expired\n"
          ]
        }
      ]
    },
    {
      "cell_type": "code",
      "source": [
        "#write code to print the greatest among three numbers given by user\n",
        "x=int(input('enter a number'))\n",
        "y=int(input('enter a number'))\n",
        "z=int(input('enter a number'))\n",
        "if x > y and x > z:\n",
        "  print(x, 'is greatest')\n",
        "elif y > x and y > z:\n",
        "  print(y,' is greatest')\n",
        "else:\n",
        "  print(z,'is greatest')"
      ],
      "metadata": {
        "colab": {
          "base_uri": "https://localhost:8080/"
        },
        "id": "ROpG9316s3xh",
        "outputId": "27406e9d-a63f-4775-a3a6-3118e5b2009f"
      },
      "execution_count": null,
      "outputs": [
        {
          "output_type": "stream",
          "name": "stdout",
          "text": [
            "enter a number3\n",
            "enter a number12\n",
            "enter a number8\n",
            "12  is greatest\n"
          ]
        }
      ]
    },
    {
      "cell_type": "code",
      "source": [
        "#write code to print a day is holiday(sunday nd satuday)\n",
        "day=['mon','tue','wed','thu','fri']\n",
        "holiday=['sun','sat']\n",
        "x=input('enter a day')\n",
        "if x in holiday:\n",
        "  print('holiday')\n",
        "else:\n",
        "  print('not holiday')\n"
      ],
      "metadata": {
        "colab": {
          "base_uri": "https://localhost:8080/"
        },
        "id": "_f2RCg6Due3B",
        "outputId": "1e32ee23-32d3-485d-985c-9fbcb178cec3"
      },
      "execution_count": null,
      "outputs": [
        {
          "output_type": "stream",
          "name": "stdout",
          "text": [
            "enter a daymon\n",
            "not holiday\n"
          ]
        }
      ]
    },
    {
      "cell_type": "code",
      "source": [
        "#place order\n",
        "a=2\n",
        "b=3.14519\n",
        "print('a contains {}'.format(a))\n",
        "print('a contains {} and b contains {}'.format(a,b))\n",
        "print('a contains {1} and b contains {0}'.format(b,a))\n",
        "print(f'a contains {a} and b contains {b}')\n",
        "print(f'b contains {b:.3f}')"
      ],
      "metadata": {
        "colab": {
          "base_uri": "https://localhost:8080/"
        },
        "id": "V0ryldXKzPlj",
        "outputId": "68b83b1a-a43f-4a0c-9e0e-29926dcfc211"
      },
      "execution_count": null,
      "outputs": [
        {
          "output_type": "stream",
          "name": "stdout",
          "text": [
            "a contains 2\n",
            "a contains 2 and b contains 3.14519\n",
            "a contains 2 and b contains 3.14519\n",
            "a contains 2 and b contains 3.14519\n",
            "b contains 3.145\n"
          ]
        }
      ]
    },
    {
      "cell_type": "code",
      "source": [
        "\n",
        "#multivariable assignment\n",
        "name,age,location = 'guest',22,'cochin'\n",
        "print(name)\n",
        "print(age)\n",
        "print(location)"
      ],
      "metadata": {
        "colab": {
          "base_uri": "https://localhost:8080/"
        },
        "id": "eVDjsdaP2qd4",
        "outputId": "d830bae2-224a-4f8c-f693-a72e489b4d0c"
      },
      "execution_count": null,
      "outputs": [
        {
          "output_type": "stream",
          "name": "stdout",
          "text": [
            "guest\n",
            "22\n",
            "cochin\n"
          ]
        }
      ]
    },
    {
      "cell_type": "code",
      "source": [
        "a=10\n",
        "b=20\n",
        "print(a,b)\n",
        "print(a,b,sep='_')\n",
        "print('a contains',a,'and b contains',b)\n"
      ],
      "metadata": {
        "colab": {
          "base_uri": "https://localhost:8080/"
        },
        "id": "eS9rYGhr3WWa",
        "outputId": "a9c88675-9e49-459d-c219-661cb6fcc92c"
      },
      "execution_count": null,
      "outputs": [
        {
          "output_type": "stream",
          "name": "stdout",
          "text": [
            "10 20\n",
            "10_20\n",
            "a contains 10 and b contains 20\n"
          ]
        }
      ]
    },
    {
      "cell_type": "code",
      "source": [
        "print('hello')\n",
        "print('hi',end='_')\n",
        "print('welcome')"
      ],
      "metadata": {
        "colab": {
          "base_uri": "https://localhost:8080/"
        },
        "id": "La-GTexI4jPG",
        "outputId": "cd6b5ece-892c-4925-f0cb-7efd8769be1d"
      },
      "execution_count": null,
      "outputs": [
        {
          "output_type": "stream",
          "name": "stdout",
          "text": [
            "hello\n",
            "hi_welcome\n"
          ]
        }
      ]
    },
    {
      "cell_type": "code",
      "source": [
        "'hello ' + 'how are you'"
      ],
      "metadata": {
        "colab": {
          "base_uri": "https://localhost:8080/",
          "height": 36
        },
        "id": "fUcnI4lH572c",
        "outputId": "3c0788c0-b036-4daf-abb0-42b377895e73"
      },
      "execution_count": null,
      "outputs": [
        {
          "output_type": "execute_result",
          "data": {
            "text/plain": [
              "'hello how are you'"
            ],
            "application/vnd.google.colaboratory.intrinsic+json": {
              "type": "string"
            }
          },
          "metadata": {},
          "execution_count": 98
        }
      ]
    },
    {
      "cell_type": "code",
      "source": [
        "#type conversion and casting\n",
        "#integer to string\n",
        "a=5\n",
        "b=str(a)\n",
        "print(b,type(b))\n",
        "\n",
        "#string to integer\n",
        "a='5'\n",
        "b=int(a)\n",
        "print(b,type(b))\n",
        "\n",
        "#integer to float\n",
        "a=5\n",
        "b=float(a)\n",
        "print(b,type(b))"
      ],
      "metadata": {
        "colab": {
          "base_uri": "https://localhost:8080/"
        },
        "id": "-jPVQn8Y6lm0",
        "outputId": "dbbbf96e-b4fe-480f-fd5c-5d296a0a9c51"
      },
      "execution_count": null,
      "outputs": [
        {
          "output_type": "stream",
          "name": "stdout",
          "text": [
            "5 <class 'str'>\n",
            "5 <class 'int'>\n",
            "5.0 <class 'float'>\n"
          ]
        }
      ]
    },
    {
      "cell_type": "code",
      "source": [
        "a=5\n",
        "b=str(a)\n",
        "print(b,type(b))"
      ],
      "metadata": {
        "colab": {
          "base_uri": "https://localhost:8080/"
        },
        "id": "ZuPoYtrr8box",
        "outputId": "001d345c-6c81-43b5-918c-cf3c594750e3"
      },
      "execution_count": null,
      "outputs": [
        {
          "output_type": "stream",
          "name": "stdout",
          "text": [
            "5 <class 'str'>\n"
          ]
        }
      ]
    },
    {
      "cell_type": "code",
      "source": [
        "a=5\n",
        "b=float(a)\n",
        "print(b,type(b))"
      ],
      "metadata": {
        "colab": {
          "base_uri": "https://localhost:8080/"
        },
        "id": "m4zQCo8u80gJ",
        "outputId": "0c93ddc9-82bc-44fe-edde-79947dc7bf98"
      },
      "execution_count": null,
      "outputs": [
        {
          "output_type": "stream",
          "name": "stdout",
          "text": [
            "5.0 <class 'float'>\n"
          ]
        }
      ]
    },
    {
      "cell_type": "code",
      "source": [
        "a='5'\n",
        "b=int(a)\n",
        "print(b,type(b))"
      ],
      "metadata": {
        "colab": {
          "base_uri": "https://localhost:8080/"
        },
        "id": "T6yUJABe8-rd",
        "outputId": "2d411f22-1ac7-47ac-cdc4-610ffcc67945"
      },
      "execution_count": null,
      "outputs": [
        {
          "output_type": "stream",
          "name": "stdout",
          "text": [
            "5 <class 'int'>\n"
          ]
        }
      ]
    },
    {
      "cell_type": "code",
      "source": [
        "a='5'\n",
        "b=float(a)\n",
        "print(b,type(b))"
      ],
      "metadata": {
        "colab": {
          "base_uri": "https://localhost:8080/"
        },
        "id": "8ejLLUy49N2b",
        "outputId": "e5ef9895-e498-42d9-c1c0-5926ec504bb9"
      },
      "execution_count": null,
      "outputs": [
        {
          "output_type": "stream",
          "name": "stdout",
          "text": [
            "5.0 <class 'float'>\n"
          ]
        }
      ]
    },
    {
      "cell_type": "code",
      "source": [
        "a=['x','y','z']\n",
        "b=tuple(a)\n",
        "print(b,type(b))"
      ],
      "metadata": {
        "colab": {
          "base_uri": "https://localhost:8080/"
        },
        "id": "f-BcSqo69bJh",
        "outputId": "b2f0c9fb-7200-44e7-8b60-2ae8f90e9cfa"
      },
      "execution_count": null,
      "outputs": [
        {
          "output_type": "stream",
          "name": "stdout",
          "text": [
            "('x', 'y', 'z') <class 'tuple'>\n"
          ]
        }
      ]
    },
    {
      "cell_type": "code",
      "source": [
        "a=('x','y','z')\n",
        "b=list(a)\n",
        "print(b,type(b))"
      ],
      "metadata": {
        "colab": {
          "base_uri": "https://localhost:8080/"
        },
        "id": "LrEsdyS6952Q",
        "outputId": "1b778f60-e29c-43b2-dc07-6dba60454403"
      },
      "execution_count": null,
      "outputs": [
        {
          "output_type": "stream",
          "name": "stdout",
          "text": [
            "['x', 'y', 'z'] <class 'list'>\n"
          ]
        }
      ]
    },
    {
      "cell_type": "code",
      "source": [
        "int(3.14)"
      ],
      "metadata": {
        "colab": {
          "base_uri": "https://localhost:8080/"
        },
        "id": "RSvMYfi5-fHl",
        "outputId": "dd5de0d1-b829-475a-9426-67cb9a30c988"
      },
      "execution_count": null,
      "outputs": [
        {
          "output_type": "execute_result",
          "data": {
            "text/plain": [
              "3"
            ]
          },
          "metadata": {},
          "execution_count": 106
        }
      ]
    },
    {
      "cell_type": "code",
      "source": [
        "int('3')"
      ],
      "metadata": {
        "colab": {
          "base_uri": "https://localhost:8080/"
        },
        "id": "taDHpztm-m4P",
        "outputId": "dfbff272-d5d2-4ae7-a559-d87e6a352f80"
      },
      "execution_count": null,
      "outputs": [
        {
          "output_type": "execute_result",
          "data": {
            "text/plain": [
              "3"
            ]
          },
          "metadata": {},
          "execution_count": 107
        }
      ]
    },
    {
      "cell_type": "code",
      "source": [
        "#key words in python\n",
        "import keyword\n",
        "print(keyword.kwlist)"
      ],
      "metadata": {
        "colab": {
          "base_uri": "https://localhost:8080/"
        },
        "id": "N7_VXgPe-xaq",
        "outputId": "d7d60edd-c094-4e7d-a5fd-7cc575fbbbf7"
      },
      "execution_count": null,
      "outputs": [
        {
          "output_type": "stream",
          "name": "stdout",
          "text": [
            "['False', 'None', 'True', 'and', 'as', 'assert', 'async', 'await', 'break', 'class', 'continue', 'def', 'del', 'elif', 'else', 'except', 'finally', 'for', 'from', 'global', 'if', 'import', 'in', 'is', 'lambda', 'nonlocal', 'not', 'or', 'pass', 'raise', 'return', 'try', 'while', 'with', 'yield']\n"
          ]
        }
      ]
    },
    {
      "cell_type": "code",
      "source": [
        "#string indexing and slicing\n"
      ],
      "metadata": {
        "id": "ECjI-5m-_NSZ"
      },
      "execution_count": null,
      "outputs": []
    },
    {
      "cell_type": "code",
      "source": [
        "#string join\n",
        "domain = ['data','science']\n",
        "'_'.join(domain)"
      ],
      "metadata": {
        "colab": {
          "base_uri": "https://localhost:8080/",
          "height": 36
        },
        "id": "iQ3AeNQU_Y3U",
        "outputId": "dcc5f493-523e-4605-8b8a-76c9d0d8f2eb"
      },
      "execution_count": null,
      "outputs": [
        {
          "output_type": "execute_result",
          "data": {
            "text/plain": [
              "'data_science'"
            ],
            "application/vnd.google.colaboratory.intrinsic+json": {
              "type": "string"
            }
          },
          "metadata": {},
          "execution_count": 109
        }
      ]
    },
    {
      "cell_type": "code",
      "source": [
        "#list operations\n",
        "x=[1,2,3]\n",
        "x.append(4)\n",
        "print(x)\n",
        "x.extend([5,6])\n",
        "print(x)\n",
        "x.remove(2)\n",
        "print(x)\n",
        "x.insert(0,10)\n",
        "print(x)\n",
        "x.reverse()\n",
        "print(x)\n",
        "x.sort()\n",
        "print(x)\n",
        "x.pop(0)\n",
        "print(x)\n",
        "e=x.pop(0)\n",
        "print(e,x)\n",
        "x.clear()\n",
        "print(x)"
      ],
      "metadata": {
        "colab": {
          "base_uri": "https://localhost:8080/"
        },
        "id": "Q4SlIA0x_rMO",
        "outputId": "4579b13a-b409-4095-bccd-74325817f887"
      },
      "execution_count": null,
      "outputs": [
        {
          "output_type": "stream",
          "name": "stdout",
          "text": [
            "[1, 2, 3, 4]\n",
            "[1, 2, 3, 4, 5, 6]\n",
            "[1, 3, 4, 5, 6]\n",
            "[10, 1, 3, 4, 5, 6]\n",
            "[6, 5, 4, 3, 1, 10]\n",
            "[1, 3, 4, 5, 6, 10]\n",
            "[3, 4, 5, 6, 10]\n",
            "3 [4, 5, 6, 10]\n",
            "[]\n"
          ]
        }
      ]
    },
    {
      "cell_type": "code",
      "source": [
        "#write code to convert date format from dd/mm/yyyy to mm-dd-yyyy,dd-mm-yyyy,yyyy|dd|mm\n",
        "x=input('enter a date').split('/')\n",
        "print('-'.join(x))\n",
        "print(x[1],'-',x[0],'-',x[2])\n",
        "print(x[2],'|',x[0],'|',x[1])"
      ],
      "metadata": {
        "colab": {
          "base_uri": "https://localhost:8080/"
        },
        "id": "ESwQP9yMCnv7",
        "outputId": "3ae9e4b5-2f9c-4b5b-a3bb-80ed6ca67145"
      },
      "execution_count": null,
      "outputs": [
        {
          "output_type": "stream",
          "name": "stdout",
          "text": [
            "enter a date26/08/2025\n",
            "26-08-2025\n",
            "08 - 26 - 2025\n",
            "2025 | 26 | 08\n"
          ]
        }
      ]
    },
    {
      "cell_type": "code",
      "source": [
        "print"
      ],
      "metadata": {
        "id": "z0QGvuWwCnjH"
      },
      "execution_count": null,
      "outputs": []
    }
  ]
}