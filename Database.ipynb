{
  "nbformat": 4,
  "nbformat_minor": 0,
  "metadata": {
    "colab": {
      "provenance": [],
      "authorship_tag": "ABX9TyNfLs3XYLc8ElOvXTyfUsbd",
      "include_colab_link": true
    },
    "kernelspec": {
      "name": "python3",
      "display_name": "Python 3"
    },
    "language_info": {
      "name": "python"
    }
  },
  "cells": [
    {
      "cell_type": "markdown",
      "metadata": {
        "id": "view-in-github",
        "colab_type": "text"
      },
      "source": [
        "<a href=\"https://colab.research.google.com/github/thasliya0404/class-activity/blob/main/Database.ipynb\" target=\"_parent\"><img src=\"https://colab.research.google.com/assets/colab-badge.svg\" alt=\"Open In Colab\"/></a>"
      ]
    },
    {
      "cell_type": "code",
      "execution_count": null,
      "metadata": {
        "id": "Lxg0T6yvzMFO"
      },
      "outputs": [],
      "source": [
        "import sqlite3\n",
        "\n",
        "conn = sqlite3.connect(\"students.db\")\n",
        "cursor = conn.cursor()"
      ]
    },
    {
      "cell_type": "code",
      "source": [
        "from typing import Text\n",
        "cursor.execute(\"\"\"CREATE TABLE IF NOT EXISTS students(\n",
        "  id INTEGER PRIMARY KEY AUTOINCREMENT,\n",
        "  name TEXT,\n",
        "  age INTEGER,\n",
        "  gender TEXT,\n",
        "  grade TEXT\n",
        "  )\n",
        "\"\"\")"
      ],
      "metadata": {
        "colab": {
          "base_uri": "https://localhost:8080/"
        },
        "id": "wOqGNcn77DIF",
        "outputId": "fcbff3d5-09c9-44e2-95cf-2b5f6039fe35"
      },
      "execution_count": null,
      "outputs": [
        {
          "output_type": "execute_result",
          "data": {
            "text/plain": [
              "<sqlite3.Cursor at 0x7adb68977a40>"
            ]
          },
          "metadata": {},
          "execution_count": 249
        }
      ]
    },
    {
      "cell_type": "code",
      "source": [
        "#insert into tablename (column1, column2, column3, ...)\n",
        "#values(value1, value2, value3, ...)"
      ],
      "metadata": {
        "id": "3Y5YdP5T7DLL"
      },
      "execution_count": null,
      "outputs": []
    },
    {
      "cell_type": "code",
      "source": [
        "cursor.execute(\"insert into students(id, 'name', age, 'gender', 'grade')values (8, 'AAA', 18, 'F', 'A+')\")"
      ],
      "metadata": {
        "colab": {
          "base_uri": "https://localhost:8080/"
        },
        "id": "CQC87Vh_-ro8",
        "outputId": "898e030b-de85-44ce-f00d-fd4de71ff8c5"
      },
      "execution_count": null,
      "outputs": [
        {
          "output_type": "execute_result",
          "data": {
            "text/plain": [
              "<sqlite3.Cursor at 0x7adb68977a40>"
            ]
          },
          "metadata": {},
          "execution_count": 251
        }
      ]
    },
    {
      "cell_type": "code",
      "source": [
        "cursor.execute(\"insert into students values (1, 'AAA', 18, 'F', 'A+')\")"
      ],
      "metadata": {
        "colab": {
          "base_uri": "https://localhost:8080/"
        },
        "id": "tUY3FBYL7DVn",
        "outputId": "143c9799-cbb9-41e0-8940-fce37bd5bef1"
      },
      "execution_count": null,
      "outputs": [
        {
          "output_type": "execute_result",
          "data": {
            "text/plain": [
              "<sqlite3.Cursor at 0x7adb68977a40>"
            ]
          },
          "metadata": {},
          "execution_count": 252
        }
      ]
    },
    {
      "cell_type": "code",
      "source": [
        "cursor.execute(\"insert into students values (2, 'AAAA', 20, 'M', 'A+')\")"
      ],
      "metadata": {
        "colab": {
          "base_uri": "https://localhost:8080/"
        },
        "id": "juz-CFUN9_pA",
        "outputId": "7d506f51-08e4-4df6-aafd-4c62b124b2bd"
      },
      "execution_count": null,
      "outputs": [
        {
          "output_type": "execute_result",
          "data": {
            "text/plain": [
              "<sqlite3.Cursor at 0x7adb68977a40>"
            ]
          },
          "metadata": {},
          "execution_count": 253
        }
      ]
    },
    {
      "cell_type": "code",
      "source": [
        "cursor.execute(\"insert into students values (3, 'Thasli', 24, 'F', 'A+')\")"
      ],
      "metadata": {
        "colab": {
          "base_uri": "https://localhost:8080/"
        },
        "id": "Jd4E9LiL-Fp7",
        "outputId": "750ccd56-16c7-4391-adf1-1cbdaae50fe6"
      },
      "execution_count": null,
      "outputs": [
        {
          "output_type": "execute_result",
          "data": {
            "text/plain": [
              "<sqlite3.Cursor at 0x7adb68977a40>"
            ]
          },
          "metadata": {},
          "execution_count": 254
        }
      ]
    },
    {
      "cell_type": "code",
      "source": [
        "cursor.execute(\"insert into students values (4, 'liya', 20, 'F', 'A')\")"
      ],
      "metadata": {
        "colab": {
          "base_uri": "https://localhost:8080/"
        },
        "id": "wjiNWd-g-Uyr",
        "outputId": "11f205fc-ff98-40e8-ff85-f536af631692"
      },
      "execution_count": null,
      "outputs": [
        {
          "output_type": "execute_result",
          "data": {
            "text/plain": [
              "<sqlite3.Cursor at 0x7adb68977a40>"
            ]
          },
          "metadata": {},
          "execution_count": 255
        }
      ]
    },
    {
      "cell_type": "code",
      "source": [
        "cursor.execute(\"insert into students values (5, 'yasthan', 17, 'M', 'B+')\")"
      ],
      "metadata": {
        "colab": {
          "base_uri": "https://localhost:8080/"
        },
        "id": "HA8JGQ6Z-Uvb",
        "outputId": "c26f19a6-c224-4f49-dd01-16fbbcfb2629"
      },
      "execution_count": null,
      "outputs": [
        {
          "output_type": "execute_result",
          "data": {
            "text/plain": [
              "<sqlite3.Cursor at 0x7adb68977a40>"
            ]
          },
          "metadata": {},
          "execution_count": 256
        }
      ]
    },
    {
      "cell_type": "code",
      "source": [
        "cursor.execute(\"insert into students ('name', age, 'gender', 'grade')values ('iza', 18, 'F', 'A')\")"
      ],
      "metadata": {
        "colab": {
          "base_uri": "https://localhost:8080/"
        },
        "id": "3XMmfhds-9tw",
        "outputId": "e35db59c-5c31-401d-af35-06e0603b8282"
      },
      "execution_count": null,
      "outputs": [
        {
          "output_type": "execute_result",
          "data": {
            "text/plain": [
              "<sqlite3.Cursor at 0x7adb68977a40>"
            ]
          },
          "metadata": {},
          "execution_count": 257
        }
      ]
    },
    {
      "cell_type": "code",
      "source": [
        "cursor.execute(\"insert into students ('name', age, 'gender', 'grade')values ('iza', 18, 'F', 'A'),('emi', 18, 'F', 'A')\")"
      ],
      "metadata": {
        "colab": {
          "base_uri": "https://localhost:8080/"
        },
        "id": "CQNyqz9u__9t",
        "outputId": "b97bba78-9a57-4073-909b-1e610a5f37e0"
      },
      "execution_count": null,
      "outputs": [
        {
          "output_type": "execute_result",
          "data": {
            "text/plain": [
              "<sqlite3.Cursor at 0x7adb68977a40>"
            ]
          },
          "metadata": {},
          "execution_count": 258
        }
      ]
    },
    {
      "cell_type": "code",
      "source": [
        "#select * from tablename"
      ],
      "metadata": {
        "id": "GFKHiVcOB0oM"
      },
      "execution_count": null,
      "outputs": []
    },
    {
      "cell_type": "code",
      "source": [
        "conn.commit()"
      ],
      "metadata": {
        "id": "UGwsgVpMCwYM"
      },
      "execution_count": null,
      "outputs": []
    },
    {
      "cell_type": "code",
      "source": [
        "cursor.execute(\"select * from students\")"
      ],
      "metadata": {
        "colab": {
          "base_uri": "https://localhost:8080/"
        },
        "id": "wys-YdEEChgD",
        "outputId": "99b979bc-a9e6-40ef-a146-74bdcea65393"
      },
      "execution_count": null,
      "outputs": [
        {
          "output_type": "execute_result",
          "data": {
            "text/plain": [
              "<sqlite3.Cursor at 0x7adb68977a40>"
            ]
          },
          "metadata": {},
          "execution_count": 261
        }
      ]
    },
    {
      "cell_type": "code",
      "source": [
        "print(cursor.fetchall())"
      ],
      "metadata": {
        "colab": {
          "base_uri": "https://localhost:8080/"
        },
        "id": "SjTJY30MC33h",
        "outputId": "e8e24165-3271-4ae9-ee78-d6bab6784183"
      },
      "execution_count": null,
      "outputs": [
        {
          "output_type": "stream",
          "name": "stdout",
          "text": [
            "[(1, 'AAA', 18, 'F', 'A+'), (2, 'AAAA', 20, 'M', 'A+'), (3, 'Thasli', 24, 'F', 'A+'), (4, 'liya', 20, 'F', 'A'), (5, 'yasthan', 17, 'M', 'B+'), (8, 'AAA', 18, 'F', 'A+'), (9, 'iza', 18, 'F', 'A'), (10, 'iza', 18, 'F', 'A'), (11, 'emi', 18, 'F', 'A')]\n"
          ]
        }
      ]
    },
    {
      "cell_type": "code",
      "source": [
        "rows=cursor.fetchall()"
      ],
      "metadata": {
        "id": "KEesQVQDDHYj"
      },
      "execution_count": null,
      "outputs": []
    },
    {
      "cell_type": "code",
      "source": [
        "for row in rows:\n",
        "  print(\"id:\",row[0],\"name:\",row[1],\"age:\",row[2],\"gender:\",row[3],\"grade:\",row[4])"
      ],
      "metadata": {
        "id": "o7xJS1_JD5Yd"
      },
      "execution_count": null,
      "outputs": []
    },
    {
      "cell_type": "code",
      "source": [
        "cursor.execute(\"select * from students where grade = 'A+'\")"
      ],
      "metadata": {
        "colab": {
          "base_uri": "https://localhost:8080/"
        },
        "id": "xu9UQ4QNFbKh",
        "outputId": "94613f51-d0e5-4dc8-e6d7-03ef070417d4"
      },
      "execution_count": null,
      "outputs": [
        {
          "output_type": "execute_result",
          "data": {
            "text/plain": [
              "<sqlite3.Cursor at 0x7adb68977a40>"
            ]
          },
          "metadata": {},
          "execution_count": 265
        }
      ]
    },
    {
      "cell_type": "code",
      "source": [
        "print(cursor.fetchall())"
      ],
      "metadata": {
        "colab": {
          "base_uri": "https://localhost:8080/"
        },
        "id": "coDR5vSEGRyS",
        "outputId": "7dfea860-0a68-4723-b8c2-d6e20e223e6a"
      },
      "execution_count": null,
      "outputs": [
        {
          "output_type": "stream",
          "name": "stdout",
          "text": [
            "[(1, 'AAA', 18, 'F', 'A+'), (2, 'AAAA', 20, 'M', 'A+'), (3, 'Thasli', 24, 'F', 'A+'), (8, 'AAA', 18, 'F', 'A+')]\n"
          ]
        }
      ]
    },
    {
      "cell_type": "code",
      "source": [
        "cursor.execute(\"SELECT id,name from students where grade = 'A+'\")"
      ],
      "metadata": {
        "colab": {
          "base_uri": "https://localhost:8080/"
        },
        "id": "-W80FKupGgx0",
        "outputId": "25201b43-1743-46c2-e42c-966c851ebca2"
      },
      "execution_count": null,
      "outputs": [
        {
          "output_type": "execute_result",
          "data": {
            "text/plain": [
              "<sqlite3.Cursor at 0x7adb68977a40>"
            ]
          },
          "metadata": {},
          "execution_count": 267
        }
      ]
    },
    {
      "cell_type": "code",
      "source": [
        "print(cursor.fetchall())"
      ],
      "metadata": {
        "colab": {
          "base_uri": "https://localhost:8080/"
        },
        "id": "n_GyTlH7G4EZ",
        "outputId": "b401782d-8c20-482d-f90b-a282946c85b7"
      },
      "execution_count": null,
      "outputs": [
        {
          "output_type": "stream",
          "name": "stdout",
          "text": [
            "[(1, 'AAA'), (2, 'AAAA'), (3, 'Thasli'), (8, 'AAA')]\n"
          ]
        }
      ]
    },
    {
      "cell_type": "code",
      "source": [
        "cursor.execute(\"SELECT * from students order by age desc\")\n",
        "print(cursor.fetchall())"
      ],
      "metadata": {
        "colab": {
          "base_uri": "https://localhost:8080/"
        },
        "id": "YYxMyg0IHuGe",
        "outputId": "722f5993-7573-4e07-e971-c59a7596d685"
      },
      "execution_count": null,
      "outputs": [
        {
          "output_type": "stream",
          "name": "stdout",
          "text": [
            "[(3, 'Thasli', 24, 'F', 'A+'), (2, 'AAAA', 20, 'M', 'A+'), (4, 'liya', 20, 'F', 'A'), (1, 'AAA', 18, 'F', 'A+'), (8, 'AAA', 18, 'F', 'A+'), (9, 'iza', 18, 'F', 'A'), (10, 'iza', 18, 'F', 'A'), (11, 'emi', 18, 'F', 'A'), (5, 'yasthan', 17, 'M', 'B+')]\n"
          ]
        }
      ]
    },
    {
      "cell_type": "code",
      "source": [
        "cursor.execute(\"SELECT * from students order by grade desc\")\n",
        "print(cursor.fetchall())"
      ],
      "metadata": {
        "colab": {
          "base_uri": "https://localhost:8080/"
        },
        "id": "qhCO2e34IcEt",
        "outputId": "30b1f707-981b-4b81-8e2d-dcac28fedef5"
      },
      "execution_count": null,
      "outputs": [
        {
          "output_type": "stream",
          "name": "stdout",
          "text": [
            "[(5, 'yasthan', 17, 'M', 'B+'), (1, 'AAA', 18, 'F', 'A+'), (2, 'AAAA', 20, 'M', 'A+'), (3, 'Thasli', 24, 'F', 'A+'), (8, 'AAA', 18, 'F', 'A+'), (4, 'liya', 20, 'F', 'A'), (9, 'iza', 18, 'F', 'A'), (10, 'iza', 18, 'F', 'A'), (11, 'emi', 18, 'F', 'A')]\n"
          ]
        }
      ]
    },
    {
      "cell_type": "code",
      "source": [
        "cursor.execute(\"SELECT count(*) from students where grade = 'A+'\")\n",
        "print(cursor.fetchall())"
      ],
      "metadata": {
        "colab": {
          "base_uri": "https://localhost:8080/"
        },
        "id": "fE5xNX4WIqMf",
        "outputId": "165c35a6-e95a-4576-82c5-6f094b586ab1"
      },
      "execution_count": null,
      "outputs": [
        {
          "output_type": "stream",
          "name": "stdout",
          "text": [
            "[(4,)]\n"
          ]
        }
      ]
    },
    {
      "cell_type": "code",
      "source": [
        "cursor.execute(\"SELECT avg(age) from students\")\n",
        "print(cursor.fetchall())"
      ],
      "metadata": {
        "colab": {
          "base_uri": "https://localhost:8080/"
        },
        "id": "xkDjiUPfJQ3C",
        "outputId": "eac38a02-5387-4b5e-d2d3-60815e7d2792"
      },
      "execution_count": null,
      "outputs": [
        {
          "output_type": "stream",
          "name": "stdout",
          "text": [
            "[(19.0,)]\n"
          ]
        }
      ]
    },
    {
      "cell_type": "code",
      "source": [
        "cursor.execute(\"SELECT * from students order by age desc limit 3\")\n",
        "print(cursor.fetchall())"
      ],
      "metadata": {
        "colab": {
          "base_uri": "https://localhost:8080/"
        },
        "id": "fsME0Fj3J0FO",
        "outputId": "d1016540-fc83-4108-d6a8-317d8745889f"
      },
      "execution_count": null,
      "outputs": [
        {
          "output_type": "stream",
          "name": "stdout",
          "text": [
            "[(3, 'Thasli', 24, 'F', 'A+'), (2, 'AAAA', 20, 'M', 'A+'), (4, 'liya', 20, 'F', 'A')]\n"
          ]
        }
      ]
    },
    {
      "cell_type": "code",
      "source": [
        "cursor.execute(\"SELECT age,count(*) from students group by age\")\n",
        "print(cursor.fetchall())"
      ],
      "metadata": {
        "colab": {
          "base_uri": "https://localhost:8080/"
        },
        "id": "DiCpShiNJ0CD",
        "outputId": "08aaa5d4-9ba0-424d-9b92-5730ebfb302a"
      },
      "execution_count": null,
      "outputs": [
        {
          "output_type": "stream",
          "name": "stdout",
          "text": [
            "[(17, 1), (18, 5), (20, 2), (24, 1)]\n"
          ]
        }
      ]
    },
    {
      "cell_type": "code",
      "source": [
        "cursor.execute(\"alter table students add column mark integer\")"
      ],
      "metadata": {
        "colab": {
          "base_uri": "https://localhost:8080/"
        },
        "id": "WZ2aKvnaMbzS",
        "outputId": "55ecaa5b-aa73-466d-b1ee-e389a5cd3320"
      },
      "execution_count": null,
      "outputs": [
        {
          "output_type": "execute_result",
          "data": {
            "text/plain": [
              "<sqlite3.Cursor at 0x7adb68977a40>"
            ]
          },
          "metadata": {},
          "execution_count": 275
        }
      ]
    },
    {
      "cell_type": "code",
      "source": [
        "cursor.execute(\"UPDATE students set mark=90 where id =1\")"
      ],
      "metadata": {
        "colab": {
          "base_uri": "https://localhost:8080/"
        },
        "id": "2DJ75hPnMhiN",
        "outputId": "7c888f31-f8a5-4d1c-96e0-58216f6fd11a"
      },
      "execution_count": null,
      "outputs": [
        {
          "output_type": "execute_result",
          "data": {
            "text/plain": [
              "<sqlite3.Cursor at 0x7adb68977a40>"
            ]
          },
          "metadata": {},
          "execution_count": 276
        }
      ]
    },
    {
      "cell_type": "code",
      "source": [
        "cursor.execute(\"SELECT * from students\")\n",
        "print(cursor.fetchall())"
      ],
      "metadata": {
        "colab": {
          "base_uri": "https://localhost:8080/"
        },
        "id": "VqMdn7ZYNjAj",
        "outputId": "c7a89258-b9e6-4fc0-a8b6-b2520f70803f"
      },
      "execution_count": null,
      "outputs": [
        {
          "output_type": "stream",
          "name": "stdout",
          "text": [
            "[(1, 'AAA', 18, 'F', 'A+', 90), (2, 'AAAA', 20, 'M', 'A+', None), (3, 'Thasli', 24, 'F', 'A+', None), (4, 'liya', 20, 'F', 'A', None), (5, 'yasthan', 17, 'M', 'B+', None), (8, 'AAA', 18, 'F', 'A+', None), (9, 'iza', 18, 'F', 'A', None), (10, 'iza', 18, 'F', 'A', None), (11, 'emi', 18, 'F', 'A', None)]\n"
          ]
        }
      ]
    },
    {
      "cell_type": "code",
      "source": [
        "conn.commit()"
      ],
      "metadata": {
        "id": "L4faEuKyPrTs"
      },
      "execution_count": null,
      "outputs": []
    },
    {
      "cell_type": "code",
      "source": [
        "cursor.execute(\"DELETE from students where id = 1\")"
      ],
      "metadata": {
        "colab": {
          "base_uri": "https://localhost:8080/"
        },
        "id": "1FTv_90dOBp_",
        "outputId": "d3e231b3-dd8f-48a1-debd-10b8c7557bbd"
      },
      "execution_count": null,
      "outputs": [
        {
          "output_type": "execute_result",
          "data": {
            "text/plain": [
              "<sqlite3.Cursor at 0x7adb68977a40>"
            ]
          },
          "metadata": {},
          "execution_count": 279
        }
      ]
    },
    {
      "cell_type": "code",
      "source": [
        "cursor.execute(\"SELECT * from students\")\n",
        "print(cursor.fetchall())"
      ],
      "metadata": {
        "colab": {
          "base_uri": "https://localhost:8080/"
        },
        "id": "BFnyQ8ccPnK2",
        "outputId": "1131480c-0322-46f0-93f6-61de947149d5"
      },
      "execution_count": null,
      "outputs": [
        {
          "output_type": "stream",
          "name": "stdout",
          "text": [
            "[(2, 'AAAA', 20, 'M', 'A+', None), (3, 'Thasli', 24, 'F', 'A+', None), (4, 'liya', 20, 'F', 'A', None), (5, 'yasthan', 17, 'M', 'B+', None), (8, 'AAA', 18, 'F', 'A+', None), (9, 'iza', 18, 'F', 'A', None), (10, 'iza', 18, 'F', 'A', None), (11, 'emi', 18, 'F', 'A', None)]\n"
          ]
        }
      ]
    },
    {
      "cell_type": "code",
      "source": [],
      "metadata": {
        "id": "PzDwTdp2QU7d"
      },
      "execution_count": null,
      "outputs": []
    },
    {
      "cell_type": "code",
      "source": [
        "cursor.execute(\"\"\"CREATE TABLE IF NOT EXISTS library(\n",
        "  id INTEGER PRIMARY KEY AUTOINCREMENT,\n",
        "  book_name TEXT,\n",
        "  author TEXT,\n",
        "  price INTEGER\n",
        "  )\n",
        "\"\"\")"
      ],
      "metadata": {
        "colab": {
          "base_uri": "https://localhost:8080/"
        },
        "id": "G_lI6u5dRr6V",
        "outputId": "0ad6a95b-731a-4f1e-86a3-fcae98fab592"
      },
      "execution_count": null,
      "outputs": [
        {
          "output_type": "execute_result",
          "data": {
            "text/plain": [
              "<sqlite3.Cursor at 0x7adb68977a40>"
            ]
          },
          "metadata": {},
          "execution_count": 281
        }
      ]
    },
    {
      "cell_type": "code",
      "source": [
        "cursor.execute(\"insert into library ('book_name', 'author', 'price')values('topology', 'apostol', 700), ('complex', 'conway', 800), ('merin autobiography', 'merin', 1000)\")"
      ],
      "metadata": {
        "colab": {
          "base_uri": "https://localhost:8080/"
        },
        "id": "y-kspJXtTHBT",
        "outputId": "fdd43208-1934-4f3d-ae65-f13bacf8e9e8"
      },
      "execution_count": null,
      "outputs": [
        {
          "output_type": "execute_result",
          "data": {
            "text/plain": [
              "<sqlite3.Cursor at 0x7adb68977a40>"
            ]
          },
          "metadata": {},
          "execution_count": 283
        }
      ]
    },
    {
      "cell_type": "code",
      "source": [
        "conn.commit()"
      ],
      "metadata": {
        "id": "haktaCuHVd9Y"
      },
      "execution_count": null,
      "outputs": []
    },
    {
      "cell_type": "code",
      "source": [
        "cursor.execute(\"select * from library\")"
      ],
      "metadata": {
        "colab": {
          "base_uri": "https://localhost:8080/"
        },
        "outputId": "9a98674d-7f5e-4103-96b4-dc1c2f2f6334",
        "id": "WhjYcHHkVd9Z"
      },
      "execution_count": null,
      "outputs": [
        {
          "output_type": "execute_result",
          "data": {
            "text/plain": [
              "<sqlite3.Cursor at 0x7adb68977a40>"
            ]
          },
          "metadata": {},
          "execution_count": 292
        }
      ]
    },
    {
      "cell_type": "code",
      "source": [
        "print(cursor.fetchall())"
      ],
      "metadata": {
        "colab": {
          "base_uri": "https://localhost:8080/"
        },
        "outputId": "073da522-6279-4441-f5b5-b840328d90a0",
        "id": "6l1eL9H1Vd9Z"
      },
      "execution_count": null,
      "outputs": [
        {
          "output_type": "stream",
          "name": "stdout",
          "text": [
            "[(1, 'topology', 'apostol', 700), (2, 'complex', 'conway', 800), (3, 'merin autobiography', 'merin', 1000)]\n"
          ]
        }
      ]
    },
    {
      "cell_type": "code",
      "source": [
        "rows=cursor.fetchall()"
      ],
      "metadata": {
        "id": "HF2XvyDpVyTx"
      },
      "execution_count": null,
      "outputs": []
    },
    {
      "cell_type": "code",
      "source": [
        "for row in rows:\n",
        "  print(\"id:\",row[0],\"book_name:\",row[1],\"author:\",row[2],\"price:\",row[3])"
      ],
      "metadata": {
        "colab": {
          "base_uri": "https://localhost:8080/"
        },
        "id": "rSq4ROUKVyTy",
        "outputId": "5d2046e7-a515-4dc4-88de-c58363630333"
      },
      "execution_count": null,
      "outputs": [
        {
          "output_type": "stream",
          "name": "stdout",
          "text": [
            "id: 1 book_name: topology author: apostol price: 700\n",
            "id: 2 book_name: complex author: conway price: 800\n",
            "id: 3 book_name: merin autobiography author: merin price: 1000\n"
          ]
        }
      ]
    },
    {
      "cell_type": "code",
      "source": [
        "cursor.execute(\"alter table library add column year integer\")"
      ],
      "metadata": {
        "colab": {
          "base_uri": "https://localhost:8080/"
        },
        "id": "Ud6LwTihWRHK",
        "outputId": "02ed730e-265c-4970-99ce-4f3a909ef7b6"
      },
      "execution_count": null,
      "outputs": [
        {
          "output_type": "execute_result",
          "data": {
            "text/plain": [
              "<sqlite3.Cursor at 0x7adb68977a40>"
            ]
          },
          "metadata": {},
          "execution_count": 295
        }
      ]
    },
    {
      "cell_type": "code",
      "source": [
        "cursor.execute(\"UPDATE library set year=2005 where id =1\")"
      ],
      "metadata": {
        "colab": {
          "base_uri": "https://localhost:8080/"
        },
        "id": "iDAeT7DwWma6",
        "outputId": "9f48257d-7956-417e-b42b-82b98eacfe65"
      },
      "execution_count": null,
      "outputs": [
        {
          "output_type": "execute_result",
          "data": {
            "text/plain": [
              "<sqlite3.Cursor at 0x7adb68977a40>"
            ]
          },
          "metadata": {},
          "execution_count": 297
        }
      ]
    },
    {
      "cell_type": "code",
      "source": [
        "cursor.execute(\"UPDATE library set year=2001 where id =2\")"
      ],
      "metadata": {
        "colab": {
          "base_uri": "https://localhost:8080/"
        },
        "id": "aYifKJlpWyLa",
        "outputId": "f4be214d-2fc0-413a-932c-3e59edb9c447"
      },
      "execution_count": null,
      "outputs": [
        {
          "output_type": "execute_result",
          "data": {
            "text/plain": [
              "<sqlite3.Cursor at 0x7adb68977a40>"
            ]
          },
          "metadata": {},
          "execution_count": 298
        }
      ]
    },
    {
      "cell_type": "code",
      "source": [
        "cursor.execute(\"UPDATE library set year=2025 where id =3\")"
      ],
      "metadata": {
        "colab": {
          "base_uri": "https://localhost:8080/"
        },
        "id": "dufmH5GMW2eM",
        "outputId": "f43e5229-76c5-4e5f-da40-510ce2f9c48c"
      },
      "execution_count": null,
      "outputs": [
        {
          "output_type": "execute_result",
          "data": {
            "text/plain": [
              "<sqlite3.Cursor at 0x7adb68977a40>"
            ]
          },
          "metadata": {},
          "execution_count": 299
        }
      ]
    },
    {
      "cell_type": "code",
      "source": [
        "cursor.execute(\"SELECT * from library\")\n",
        "print(cursor.fetchall())"
      ],
      "metadata": {
        "colab": {
          "base_uri": "https://localhost:8080/"
        },
        "id": "IicJgUDYW9-R",
        "outputId": "e2e3f88f-8163-45e5-dc46-0022fece975c"
      },
      "execution_count": null,
      "outputs": [
        {
          "output_type": "stream",
          "name": "stdout",
          "text": [
            "[(1, 'topology', 'apostol', 700, 2005), (2, 'complex', 'conway', 800, 2001), (3, 'merin autobiography', 'merin', 1000, 2025)]\n"
          ]
        }
      ]
    },
    {
      "cell_type": "code",
      "source": [
        "cursor.execute(\"SELECT * from library order by year desc\")\n",
        "print(cursor.fetchall())"
      ],
      "metadata": {
        "colab": {
          "base_uri": "https://localhost:8080/"
        },
        "id": "I43V8ls1XOvH",
        "outputId": "54985369-7b9a-4e6d-ec12-59f6070d5386"
      },
      "execution_count": null,
      "outputs": [
        {
          "output_type": "stream",
          "name": "stdout",
          "text": [
            "[(3, 'merin autobiography', 'merin', 1000, 2025), (1, 'topology', 'apostol', 700, 2005), (2, 'complex', 'conway', 800, 2001)]\n"
          ]
        }
      ]
    },
    {
      "cell_type": "code",
      "source": [
        "cursor.execute(\"SELECT * from library order by price desc\")\n",
        "print(cursor.fetchall())"
      ],
      "metadata": {
        "colab": {
          "base_uri": "https://localhost:8080/"
        },
        "id": "3yF_4Nm8XWxj",
        "outputId": "811b8dea-a802-42da-9024-701b5674bcf4"
      },
      "execution_count": null,
      "outputs": [
        {
          "output_type": "stream",
          "name": "stdout",
          "text": [
            "[(3, 'merin autobiography', 'merin', 1000, 2025), (2, 'complex', 'conway', 800, 2001), (1, 'topology', 'apostol', 700, 2005)]\n"
          ]
        }
      ]
    },
    {
      "cell_type": "code",
      "source": [
        "cursor.execute(\"alter table library add row\")"
      ],
      "metadata": {
        "colab": {
          "base_uri": "https://localhost:8080/"
        },
        "id": "hGkRKB63XoBV",
        "outputId": "56b00b9b-4928-4138-e993-733df4f32b26"
      },
      "execution_count": null,
      "outputs": [
        {
          "output_type": "execute_result",
          "data": {
            "text/plain": [
              "<sqlite3.Cursor at 0x7adb68977a40>"
            ]
          },
          "metadata": {},
          "execution_count": 303
        }
      ]
    },
    {
      "cell_type": "code",
      "source": [
        "cursor.execute(\"insert into library ('book_name', 'author', 'price', 'year')values('adujeevitham', 'benyamin', 600, 2010)\")"
      ],
      "metadata": {
        "colab": {
          "base_uri": "https://localhost:8080/"
        },
        "id": "jmK7XEl2X7sv",
        "outputId": "00959795-ad66-49f0-aa78-972951abfd68"
      },
      "execution_count": null,
      "outputs": [
        {
          "output_type": "execute_result",
          "data": {
            "text/plain": [
              "<sqlite3.Cursor at 0x7adb68977a40>"
            ]
          },
          "metadata": {},
          "execution_count": 304
        }
      ]
    },
    {
      "cell_type": "code",
      "source": [
        "cursor.execute(\"SELECT * from library\")\n",
        "print(cursor.fetchall())"
      ],
      "metadata": {
        "colab": {
          "base_uri": "https://localhost:8080/"
        },
        "id": "EsWyfXnAY5XT",
        "outputId": "2fec9364-4e58-493c-f1ec-ad62f35fa509"
      },
      "execution_count": null,
      "outputs": [
        {
          "output_type": "stream",
          "name": "stdout",
          "text": [
            "[(1, 'topology', 'apostol', 700, 2005, None), (2, 'complex', 'conway', 800, 2001, None), (3, 'merin autobiography', 'merin', 1000, 2025, None), (4, 'adujeevitham', 'benyamin', 600, 2010, None)]\n"
          ]
        }
      ]
    },
    {
      "cell_type": "code",
      "source": [
        "#innerjoin An INNER JOIN in SQL is used to combine rows from two or more tables\n",
        "# based on a related column between them.\n",
        "#It returns only the rows that have matching values in both tables involved in the join.\n",
        "\n",
        "#leftjoin (1st priority is table,display matching) A SQL LEFT JOIN,\n",
        "#also known as a LEFT OUTER JOIN, is a type of join operation in SQL\n",
        "#that returns all records from the left table\n",
        "#(the first table specified in the FROM clause)\n",
        "#and the matching records from the right table\n",
        "\n",
        "#A RIGHT JOIN (also known as RIGHT OUTER JOIN) in SQL is a type of\n",
        "#join operation used to combine rows from two tables based on a related column.\n",
        "#It retrieves all records from the right table and\n",
        "#the matching records from the left table.\n",
        "\n"
      ],
      "metadata": {
        "id": "1kh6ctZAuS0j"
      },
      "execution_count": null,
      "outputs": []
    },
    {
      "cell_type": "code",
      "source": [],
      "metadata": {
        "id": "eU4SsFfXw77T"
      },
      "execution_count": null,
      "outputs": []
    }
  ]
}