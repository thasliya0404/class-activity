{
  "nbformat": 4,
  "nbformat_minor": 0,
  "metadata": {
    "colab": {
      "provenance": [],
      "authorship_tag": "ABX9TyP56RzkxfTbKh1U+6ztMiAf",
      "include_colab_link": true
    },
    "kernelspec": {
      "name": "python3",
      "display_name": "Python 3"
    },
    "language_info": {
      "name": "python"
    }
  },
  "cells": [
    {
      "cell_type": "markdown",
      "metadata": {
        "id": "view-in-github",
        "colab_type": "text"
      },
      "source": [
        "<a href=\"https://colab.research.google.com/github/thasliya0404/class-activity/blob/main/python_activities.ipynb\" target=\"_parent\"><img src=\"https://colab.research.google.com/assets/colab-badge.svg\" alt=\"Open In Colab\"/></a>"
      ]
    },
    {
      "cell_type": "code",
      "execution_count": null,
      "metadata": {
        "colab": {
          "base_uri": "https://localhost:8080/"
        },
        "id": "ztQsPIYt7ZSr",
        "outputId": "94c0b890-abb6-4ffa-d7c5-a362fada781c"
      },
      "outputs": [
        {
          "output_type": "stream",
          "name": "stdout",
          "text": [
            "How to make tea\n",
            "1.Boil water in a pot\n",
            "2.Add tea powder\n",
            "3.Let it simmer for a two minutes\n",
            "4.Add sugar if needed\n",
            "5.Add milk if needed\n",
            "6.Stir well\n",
            "7.Pour tea in to a cup\n",
            "8.Serve hot.\n"
          ]
        }
      ],
      "source": [
        "#make tea\n",
        "print('How to make tea')\n",
        "print('1.Boil water in a pot')\n",
        "print('2.Add tea powder')\n",
        "print('3.Let it simmer for a two minutes')\n",
        "print('4.Add sugar if needed')\n",
        "print('5.Add milk if needed')\n",
        "print('6.Stir well')\n",
        "print('7.Pour tea in to a cup')\n",
        "print('8.Serve hot.')"
      ]
    },
    {
      "cell_type": "code",
      "source": [
        "#wear shoes\n",
        "print('How to wear shoes')\n",
        "print('1.Pick the correct pair of shoes')\n",
        "print('2.Sit on a chair')\n",
        "print('3.Hold one shoe in your hand')\n",
        "print('4.Put your foot in to the shoes')\n",
        "print('5.Adjust the heel properly')\n",
        "print('6.Tie the laces or fasten straps')\n",
        "print('7.Repeat for the other foot.')"
      ],
      "metadata": {
        "colab": {
          "base_uri": "https://localhost:8080/"
        },
        "id": "KS1uZv-kJMc1",
        "outputId": "d4200600-c8ed-4f5e-a347-f676f96a6de0"
      },
      "execution_count": null,
      "outputs": [
        {
          "output_type": "stream",
          "name": "stdout",
          "text": [
            "How to wear shoes\n",
            "1.Pick the correct pair of shoes\n",
            "2.Sit on a chair\n",
            "3.Hold one shoe in your hand\n",
            "4.Put your foot in to the shoes\n",
            "5.Adjust the heel properly\n",
            "6.Tie the laces or fasten straps\n",
            "7.Repeat for the other foot.\n"
          ]
        }
      ]
    },
    {
      "cell_type": "code",
      "source": [
        "#send wtzp msg\n",
        "print('How to send a whatsapp message')\n",
        "print('1.Open Whatsapp application')\n",
        "print('2.Select a contact')\n",
        "print('3.Tap on the chat box')\n",
        "print('4.Type your message')\n",
        "print('5.Press the send button.')"
      ],
      "metadata": {
        "colab": {
          "base_uri": "https://localhost:8080/"
        },
        "id": "10TIAuCPKZXd",
        "outputId": "25aa8ecf-04cf-4ef3-cb1c-6027953d6bd4"
      },
      "execution_count": null,
      "outputs": [
        {
          "output_type": "stream",
          "name": "stdout",
          "text": [
            "How to send a whatsapp message\n",
            "1.Open Whatsapp application\n",
            "2.Select a contact\n",
            "3.Tap on the chat box\n",
            "4.Type your message\n",
            "5.Press the send button.\n"
          ]
        }
      ]
    },
    {
      "cell_type": "code",
      "source": [
        "apples = 45.5\n",
        "banana = 20\n",
        "rice = 55\n",
        "milk = 30\n",
        "wheat = 55.75\n",
        "total = apples + banana + rice + milk + wheat\n",
        "print('total cost is',total)"
      ],
      "metadata": {
        "colab": {
          "base_uri": "https://localhost:8080/"
        },
        "id": "N192RO_2LJmD",
        "outputId": "cf390e8a-2c26-436c-aa13-76b95eab88c8"
      },
      "execution_count": null,
      "outputs": [
        {
          "output_type": "stream",
          "name": "stdout",
          "text": [
            "total cost is 206.25\n"
          ]
        }
      ]
    },
    {
      "cell_type": "code",
      "source": [
        "# 1. Rain or sunglasses\n",
        "rain = input('enter true or false')\n",
        "if rain:\n",
        "    print(\"Take an umbrella\")\n",
        "else:\n",
        "    print(\"Wear sunglasses\")\n",
        "\n"
      ],
      "metadata": {
        "id": "DJHiQHG8NJpx",
        "outputId": "ba30f92c-ec93-44c6-d448-57092a6a3d3d",
        "colab": {
          "base_uri": "https://localhost:8080/"
        }
      },
      "execution_count": null,
      "outputs": [
        {
          "output_type": "stream",
          "name": "stdout",
          "text": [
            "enter true or falsetrue\n",
            "Take an umbrella\n"
          ]
        }
      ]
    },
    {
      "cell_type": "code",
      "source": [
        "# 2. Pass or Fail\n",
        "marks = int(input('enter the marks'))\n",
        "if marks >= 40:\n",
        "    print(\"Pass\")\n",
        "else:\n",
        "    print(\"Fail\")\n",
        "\n"
      ],
      "metadata": {
        "colab": {
          "base_uri": "https://localhost:8080/"
        },
        "id": "IVvyVvN_aVQw",
        "outputId": "9e54cb7e-a164-4527-fcc2-807ce1cda6c3"
      },
      "execution_count": null,
      "outputs": [
        {
          "output_type": "stream",
          "name": "stdout",
          "text": [
            "enter the marks55\n",
            "Pass\n"
          ]
        }
      ]
    },
    {
      "cell_type": "code",
      "source": [
        "# 3. Shopping bill discount\n",
        "bill = int(input('enter the bill'))\n",
        "if bill > 500:\n",
        "    discount = bill * 0.10\n",
        "    print(\"Discount =\", discount)\n",
        "else:\n",
        "    print(\"No discount\")\n"
      ],
      "metadata": {
        "colab": {
          "base_uri": "https://localhost:8080/"
        },
        "id": "642iWu5ZaafK",
        "outputId": "bd25b5ff-fb22-419b-b1d9-2226ef78e7fd"
      },
      "execution_count": null,
      "outputs": [
        {
          "output_type": "stream",
          "name": "stdout",
          "text": [
            "enter the bill650\n",
            "Discount = 65.0\n"
          ]
        }
      ]
    },
    {
      "cell_type": "code",
      "source": [
        "\n",
        "# 4. Temperature check\n",
        "temperature = int(input('enter the temperature'))\n",
        "if temperature > 30:\n",
        "    print(\"Too hot!\")\n",
        "else:\n",
        "    print(\"Nice weather!\")\n",
        "\n"
      ],
      "metadata": {
        "colab": {
          "base_uri": "https://localhost:8080/"
        },
        "id": "PuPycuaIaevl",
        "outputId": "f80d9a61-ae16-4f42-d0ef-d3ea296d9833"
      },
      "execution_count": null,
      "outputs": [
        {
          "output_type": "stream",
          "name": "stdout",
          "text": [
            "enter the temperature32\n",
            "Too hot!\n"
          ]
        }
      ]
    },
    {
      "cell_type": "code",
      "source": [
        "# 5. Age category\n",
        "age = int(input('enter the age'))\n",
        "if age < 13:\n",
        "    print(\"Child\")\n",
        "elif age >= 13 and age <= 19:\n",
        "    print(\"Teenager\")\n",
        "else:\n",
        "    print(\"Adult\")\n",
        "\n"
      ],
      "metadata": {
        "colab": {
          "base_uri": "https://localhost:8080/"
        },
        "id": "yKQO4sAvahu2",
        "outputId": "a09a6353-5cb8-4794-e292-333e33e90bd8"
      },
      "execution_count": null,
      "outputs": [
        {
          "output_type": "stream",
          "name": "stdout",
          "text": [
            "enter the age19\n",
            "Teenager\n"
          ]
        }
      ]
    },
    {
      "cell_type": "code",
      "source": [
        "# 6. Exam grades\n",
        "marks = int(input('enter the marks'))\n",
        "if marks >= 90:\n",
        "    print(\"Grade A\")\n",
        "elif marks >= 75:\n",
        "    print(\"Grade B\")\n",
        "elif marks >= 50:\n",
        "    print(\"Grade C\")\n",
        "else:\n",
        "    print(\"Fail\")"
      ],
      "metadata": {
        "colab": {
          "base_uri": "https://localhost:8080/"
        },
        "id": "f_THQULFamZ8",
        "outputId": "7dcb33cd-c368-415a-e5c4-949b224de596"
      },
      "execution_count": null,
      "outputs": [
        {
          "output_type": "stream",
          "name": "stdout",
          "text": [
            "enter the marks70\n",
            "Grade C\n"
          ]
        }
      ]
    },
    {
      "cell_type": "code",
      "source": [
        "#write multiplication table\n",
        "#without loop\n",
        "num=int(input('enter the number'))\n",
        "print(num,'x 1 =', num*1)\n",
        "print(num*2)\n",
        "print(num*3)\n",
        "print(num*4)\n",
        "print(num*5)\n",
        "print(num*6)\n",
        "print(num*7)\n",
        "print(num*8)\n",
        "print(num*9)\n",
        "print(num*10)"
      ],
      "metadata": {
        "colab": {
          "base_uri": "https://localhost:8080/"
        },
        "id": "C2bgFazIazxl",
        "outputId": "8da3911d-852a-45e5-ec2c-50be04493e4a"
      },
      "execution_count": null,
      "outputs": [
        {
          "output_type": "stream",
          "name": "stdout",
          "text": [
            "enter the number5\n",
            "5 x 1 = 5\n",
            "10\n",
            "15\n",
            "20\n",
            "25\n",
            "30\n",
            "35\n",
            "40\n",
            "45\n",
            "50\n"
          ]
        }
      ]
    },
    {
      "cell_type": "code",
      "source": [
        "#with loop\n",
        "num=int(input('enter the num'))\n",
        "for i in range(1,11):\n",
        "  print(num, 'x', i, '=',  num*i)\n"
      ],
      "metadata": {
        "colab": {
          "base_uri": "https://localhost:8080/"
        },
        "id": "y55X30VncN2b",
        "outputId": "2caa02a9-b40c-4708-97ea-5d32d2938fc6"
      },
      "execution_count": null,
      "outputs": [
        {
          "output_type": "stream",
          "name": "stdout",
          "text": [
            "enter the num5\n",
            "5 x 1 = 5\n",
            "5 x 2 = 10\n",
            "5 x 3 = 15\n",
            "5 x 4 = 20\n",
            "5 x 5 = 25\n",
            "5 x 6 = 30\n",
            "5 x 7 = 35\n",
            "5 x 8 = 40\n",
            "5 x 9 = 45\n",
            "5 x 10 = 50\n"
          ]
        }
      ]
    },
    {
      "cell_type": "code",
      "source": [
        "#print even nos 0 to 20\n",
        "i %2 == 0\n",
        "for i in range(0,21,2):\n",
        "  print(i)"
      ],
      "metadata": {
        "colab": {
          "base_uri": "https://localhost:8080/"
        },
        "id": "j52fskShcQVr",
        "outputId": "3471f7e4-29fd-403b-d624-8fafbb1f22ad"
      },
      "execution_count": null,
      "outputs": [
        {
          "output_type": "stream",
          "name": "stdout",
          "text": [
            "0\n",
            "2\n",
            "4\n",
            "6\n",
            "8\n",
            "10\n",
            "12\n",
            "14\n",
            "16\n",
            "18\n",
            "20\n"
          ]
        }
      ]
    },
    {
      "cell_type": "code",
      "source": [
        "#sharing chocolates with friends\n",
        "friends=['arjun','mariam','vipin','abhijith']\n",
        "for name in friends:\n",
        "  print('chocolates given to',name)"
      ],
      "metadata": {
        "colab": {
          "base_uri": "https://localhost:8080/"
        },
        "id": "hNCCiRSVcSZD",
        "outputId": "a8ca73d7-399f-4dff-d7c4-a8392ea7c70d"
      },
      "execution_count": null,
      "outputs": [
        {
          "output_type": "stream",
          "name": "stdout",
          "text": [
            "chocolates given to arjun\n",
            "chocolates given to mariam\n",
            "chocolates given to vipin\n",
            "chocolates given to abhijith\n"
          ]
        }
      ]
    },
    {
      "cell_type": "code",
      "source": [
        "#find highest mark in student mark list\n",
        "#without inbuilt function\n",
        "marks=[45,99,56,34,90,78,67,56]\n",
        "highest=marks[0]\n",
        "for i in marks:\n",
        "  if i>highest:\n",
        "    highest=i\n",
        "    print(highest)"
      ],
      "metadata": {
        "colab": {
          "base_uri": "https://localhost:8080/"
        },
        "id": "TEdxjvGVMS99",
        "outputId": "3a64e81d-6117-4e4d-8b56-16d5c1526956"
      },
      "execution_count": null,
      "outputs": [
        {
          "output_type": "stream",
          "name": "stdout",
          "text": [
            "99\n"
          ]
        }
      ]
    },
    {
      "cell_type": "code",
      "source": [
        "#with inbuilt function\n",
        "marks=[45,99,56,34,90,78,67,56]\n",
        "print(max(marks))"
      ],
      "metadata": {
        "colab": {
          "base_uri": "https://localhost:8080/"
        },
        "id": "aBLvoHPaOba6",
        "outputId": "e49f76ef-91c5-4c09-f5f2-02d0f3f26715"
      },
      "execution_count": null,
      "outputs": [
        {
          "output_type": "stream",
          "name": "stdout",
          "text": [
            "99\n"
          ]
        }
      ]
    },
    {
      "cell_type": "code",
      "source": [
        "#find player with maximum marks\n",
        "#without inbuilt function\n",
        "scores={'virat':99,'maxwell':78,'dhoni':89,'sachin':88,'panth':78}\n",
        "max_player=None\n",
        "max_score=-1\n",
        "for player,score in scores.items():\n",
        "  if score>max_score:\n",
        "    max_score=score\n",
        "    max_player=player\n",
        "    print(max_player, 'with', max_score)"
      ],
      "metadata": {
        "colab": {
          "base_uri": "https://localhost:8080/"
        },
        "id": "T01BzTpmOwlC",
        "outputId": "870e74bd-60ab-4584-8bed-65f8abac5612"
      },
      "execution_count": null,
      "outputs": [
        {
          "output_type": "stream",
          "name": "stdout",
          "text": [
            "virat with 99\n"
          ]
        }
      ]
    },
    {
      "cell_type": "code",
      "source": [
        "#with inbuilt function\n",
        "scores={'sachin':88,'maxwell':78,'virat':99,'dhoni':89,'panth':78}\n",
        "max_player=max(scores,key=scores.get)\n",
        "print(max_player, 'with', scores[max_player])"
      ],
      "metadata": {
        "colab": {
          "base_uri": "https://localhost:8080/"
        },
        "id": "l5CSdGBjRN26",
        "outputId": "36174875-82d2-4788-9c0e-c6897991521f"
      },
      "execution_count": null,
      "outputs": [
        {
          "output_type": "stream",
          "name": "stdout",
          "text": [
            "virat with 99\n"
          ]
        }
      ]
    },
    {
      "cell_type": "code",
      "source": [
        "#area of the rectangle\n",
        "def area(length,breadth):\n",
        "  area=length*breadth\n",
        "  return area\n",
        "x=area(5,3)\n",
        "print(x)"
      ],
      "metadata": {
        "colab": {
          "base_uri": "https://localhost:8080/"
        },
        "id": "v9VEIIEjqTfs",
        "outputId": "cada702b-00bf-48ae-f9da-f6b7341a03a3"
      },
      "execution_count": null,
      "outputs": [
        {
          "output_type": "stream",
          "name": "stdout",
          "text": [
            "15\n"
          ]
        }
      ]
    },
    {
      "cell_type": "code",
      "source": [
        "#no even or odd\n",
        "def number_even_odd(num):\n",
        "  if num %2==0:\n",
        "    return \"even\"\n",
        "  else:\n",
        "    return \"odd\"\n",
        "\n",
        "num = int(input('enter the number'))\n",
        "print(number_even_odd(num))"
      ],
      "metadata": {
        "colab": {
          "base_uri": "https://localhost:8080/"
        },
        "id": "G58_7SBJq-ef",
        "outputId": "525bbe90-7bf6-4d8e-cba4-28c70448e226"
      },
      "execution_count": null,
      "outputs": [
        {
          "output_type": "stream",
          "name": "stdout",
          "text": [
            "enter the number13\n",
            "odd\n"
          ]
        }
      ]
    },
    {
      "cell_type": "code",
      "source": [
        "#square of a number\n",
        "def square(num):\n",
        "  square=num*num\n",
        "  return square\n",
        "num=int(input('enter the number'))\n",
        "print(square(num))"
      ],
      "metadata": {
        "colab": {
          "base_uri": "https://localhost:8080/"
        },
        "id": "6N5yGbZRslmx",
        "outputId": "4f8c65a8-1864-44a5-8bcc-7acbfeeff07a"
      },
      "execution_count": null,
      "outputs": [
        {
          "output_type": "stream",
          "name": "stdout",
          "text": [
            "enter the number50\n",
            "2500\n"
          ]
        }
      ]
    }
  ]
}