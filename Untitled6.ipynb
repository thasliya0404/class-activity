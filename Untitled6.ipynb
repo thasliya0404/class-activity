{
  "nbformat": 4,
  "nbformat_minor": 0,
  "metadata": {
    "colab": {
      "provenance": [],
      "authorship_tag": "ABX9TyM6TdLXuVpPXfk0eTJWq6xC",
      "include_colab_link": true
    },
    "kernelspec": {
      "name": "python3",
      "display_name": "Python 3"
    },
    "language_info": {
      "name": "python"
    }
  },
  "cells": [
    {
      "cell_type": "markdown",
      "metadata": {
        "id": "view-in-github",
        "colab_type": "text"
      },
      "source": [
        "<a href=\"https://colab.research.google.com/github/thasliya0404/class-activity/blob/main/Untitled6.ipynb\" target=\"_parent\"><img src=\"https://colab.research.google.com/assets/colab-badge.svg\" alt=\"Open In Colab\"/></a>"
      ]
    },
    {
      "cell_type": "code",
      "execution_count": 29,
      "metadata": {
        "colab": {
          "base_uri": "https://localhost:8080/"
        },
        "id": "cvFsl9sYhdqZ",
        "outputId": "e715b6cd-c255-4f20-f0d0-28a51f4ababa"
      },
      "outputs": [
        {
          "output_type": "stream",
          "name": "stdout",
          "text": [
            "[10, 12, 13, 14, 15, 15, 16, 17, 18, 19, 20, 22]\n"
          ]
        }
      ],
      "source": [
        "#1. Dataset: Monthly temperatures in a city (in °C): 12, 15, 14, 16, 18, 20, 22, 19,\n",
        "#17, 15, 13, 10 Questions:\n",
        "#a) Calculate the mean temperature.\n",
        "#b) Calculate the median temperature.\n",
        "#c) Find the mode of the temperature data.\n",
        "#d) Range and Variance\n",
        "\n",
        "temp=[12, 15, 14, 16, 18, 20, 22, 19,17, 15, 13, 10]\n",
        "temp.sort()\n",
        "print(temp)"
      ]
    },
    {
      "cell_type": "code",
      "source": [
        "#mean\n",
        "def mean(list8):\n",
        "  mean=sum(list8)/len(list8)\n",
        "  return(mean)\n",
        "z=mean([12, 15, 14, 16, 18, 20, 22, 19,17, 15, 13, 10])\n",
        "print(z)"
      ],
      "metadata": {
        "colab": {
          "base_uri": "https://localhost:8080/"
        },
        "id": "rr9VgL1BjrP6",
        "outputId": "6c93ebf7-d1b4-49a0-a013-2659bac3baf2"
      },
      "execution_count": 30,
      "outputs": [
        {
          "output_type": "stream",
          "name": "stdout",
          "text": [
            "15.916666666666666\n"
          ]
        }
      ]
    },
    {
      "cell_type": "code",
      "source": [
        "#median\n",
        "def median(temp):\n",
        "  temp.sort()\n",
        "  if len(temp)%2==0:\n",
        "    mid1=temp[len(temp)//2]\n",
        "    mid2=temp[len(temp)//2 -1]\n",
        "    median=(mid1+mid2)/2\n",
        "  else:\n",
        "    median=temp[len(temp)//2]\n",
        "  return(median)\n",
        "b=median([12, 15, 14, 16, 18, 20, 22, 19,17, 15, 13, 10])\n",
        "print(b)"
      ],
      "metadata": {
        "colab": {
          "base_uri": "https://localhost:8080/"
        },
        "id": "jQjw_sbqkqtN",
        "outputId": "a82d14af-b2cf-4348-ec1f-6d4730275069"
      },
      "execution_count": 31,
      "outputs": [
        {
          "output_type": "stream",
          "name": "stdout",
          "text": [
            "15.5\n"
          ]
        }
      ]
    },
    {
      "cell_type": "code",
      "source": [
        "\n",
        "#mode\n",
        "def mode(temp):\n",
        "  temp.sort()\n",
        "  count={}\n",
        "  for i in temp:\n",
        "    if i in count:\n",
        "      count[i]+=1\n",
        "    else:\n",
        "      count[i]=1\n",
        "  max_count=1\n",
        "  for a,b in count.items():\n",
        "    if b>=max_count:\n",
        "      max_count=b\n",
        "  if max_count==1:\n",
        "    mode=None\n",
        "  else:\n",
        "    mode=[key for key, value in count.items() if value==max_count]\n",
        "  return (mode)\n",
        "A=mode([12, 15, 14, 16, 18, 20, 22, 19,17, 15, 13, 10])\n",
        "print(A)"
      ],
      "metadata": {
        "colab": {
          "base_uri": "https://localhost:8080/"
        },
        "id": "tJYQCO8QlNVp",
        "outputId": "42861c40-f965-4924-be20-ff2af6e967d9"
      },
      "execution_count": 32,
      "outputs": [
        {
          "output_type": "stream",
          "name": "stdout",
          "text": [
            "[15]\n"
          ]
        }
      ]
    },
    {
      "cell_type": "code",
      "source": [
        "data_range=max(temp)-min(temp)\n",
        "print(data_range)"
      ],
      "metadata": {
        "colab": {
          "base_uri": "https://localhost:8080/"
        },
        "id": "zZXFb7YVnKce",
        "outputId": "cd692ab1-261b-4f1b-e9c3-6c724cc3e0a1"
      },
      "execution_count": 33,
      "outputs": [
        {
          "output_type": "stream",
          "name": "stdout",
          "text": [
            "12\n"
          ]
        }
      ]
    },
    {
      "cell_type": "code",
      "source": [
        "#variance\n",
        "def variance(list1):\n",
        "  list1.sort()\n",
        "  w=0\n",
        "  mean=sum(list1)/len(list1)\n",
        "  for t in range(len(list1)):\n",
        "\n",
        "    v=(list1[t]-mean)**2\n",
        "    w=w+v\n",
        "    variance=w/len(list1)\n",
        "  return(variance)\n",
        "c=variance([12, 15, 14, 16, 18, 20, 22, 19,17, 15, 13, 10])\n",
        "print(c)"
      ],
      "metadata": {
        "colab": {
          "base_uri": "https://localhost:8080/"
        },
        "id": "d3wvC-eyttWo",
        "outputId": "bd92ac94-8aa0-4057-b83d-b9c7c4cbad4d"
      },
      "execution_count": 34,
      "outputs": [
        {
          "output_type": "stream",
          "name": "stdout",
          "text": [
            "11.076388888888888\n"
          ]
        }
      ]
    },
    {
      "cell_type": "code",
      "source": [
        "#2. Dataset: Heights of students (in cm): 150, 160, 165, 170, 155, 160, 162, 168\n",
        "#Questions: a) Calculate the range of the heights.\n",
        "#b) Calculate the variance of the heights.\n",
        "#c) Standard Deviation\n",
        "heights=[150, 160, 165, 170, 155, 160, 162, 168]\n",
        "range2=max(heights)-min(heights)\n",
        "print(range2)\n"
      ],
      "metadata": {
        "colab": {
          "base_uri": "https://localhost:8080/"
        },
        "id": "DDB9QXD-xEgQ",
        "outputId": "75f79eb7-835f-4ab6-a294-eb202c6d46c4"
      },
      "execution_count": 35,
      "outputs": [
        {
          "output_type": "stream",
          "name": "stdout",
          "text": [
            "20\n"
          ]
        }
      ]
    },
    {
      "cell_type": "code",
      "source": [
        "#variance\n",
        "x=variance(heights)\n",
        "print(x)"
      ],
      "metadata": {
        "colab": {
          "base_uri": "https://localhost:8080/"
        },
        "id": "mIyWas2txfBF",
        "outputId": "5bc01306-a22a-4dda-c4cb-7540b2668339"
      },
      "execution_count": 36,
      "outputs": [
        {
          "output_type": "stream",
          "name": "stdout",
          "text": [
            "38.1875\n"
          ]
        }
      ]
    },
    {
      "cell_type": "code",
      "source": [
        "#standared_deviation\n",
        "standared_deviation=x**0.5\n",
        "print(standared_deviation)"
      ],
      "metadata": {
        "colab": {
          "base_uri": "https://localhost:8080/"
        },
        "id": "smcr5f1ax50n",
        "outputId": "20ab2cbc-f1fe-4f21-d261-e0b797935273"
      },
      "execution_count": 37,
      "outputs": [
        {
          "output_type": "stream",
          "name": "stdout",
          "text": [
            "6.179603547154137\n"
          ]
        }
      ]
    },
    {
      "cell_type": "code",
      "source": [
        "#3. Dataset: Weekly expenses (in $): 200, 250, 300, 220, 270, 290, 310\n",
        "#Questions: a) Calculate the standard deviation of the weekly expenses\n",
        "weekly_expenses=[200, 250, 300, 220, 270, 290, 310]\n",
        "y=variance(weekly_expenses)\n",
        "sd=y**0.5\n",
        "print(sd)"
      ],
      "metadata": {
        "colab": {
          "base_uri": "https://localhost:8080/"
        },
        "id": "a60AAvFnyWXz",
        "outputId": "34ac81ab-cf09-452c-e78f-97851b585714"
      },
      "execution_count": 38,
      "outputs": [
        {
          "output_type": "stream",
          "name": "stdout",
          "text": [
            "38.438925848782034\n"
          ]
        }
      ]
    },
    {
      "cell_type": "code",
      "source": [
        "#4. Dataset: Advertising Spending (in $1000s): 10, 20, 15, 25, 30; Sales (in\n",
        "#$1000s): 100, 150, 120, 180, 200\n",
        "#Questions: a) Calculate the covariance between advertising spending and sales.\n",
        "#b) Correlation\n",
        "spend=[10, 20, 15, 25, 30]\n",
        "sales=[10, 20, 15, 25, 30]\n",
        "def covariance(spend1,sales1):\n",
        "  s=0\n",
        "  mean1=mean(spend1)\n",
        "  mean2=mean(sales1)\n",
        "\n",
        "  for i in range(len(spend1)):\n",
        "    for j in range(len(sales1)):\n",
        "      if i==j:\n",
        "        p=spend1[i]-mean1\n",
        "        q=sales1[j]-mean2\n",
        "        s=s+p*q\n",
        "  covariance=s/len(spend1)\n",
        "  return(covariance)\n",
        "C=covariance([10, 20, 15, 25, 30],[10, 20, 15, 25, 30])\n",
        "print(C)"
      ],
      "metadata": {
        "colab": {
          "base_uri": "https://localhost:8080/"
        },
        "id": "jqiW4MZXy7i3",
        "outputId": "1909b17f-c38d-4e5c-adb9-76d6c039e09a"
      },
      "execution_count": 46,
      "outputs": [
        {
          "output_type": "stream",
          "name": "stdout",
          "text": [
            "50.0\n"
          ]
        }
      ]
    },
    {
      "cell_type": "code",
      "source": [
        "def correlation(spend,sales):\n",
        "  s=0\n",
        "  mean1=mean(spend)\n",
        "  mean2=mean(sales)\n",
        "  variance1=variance(spend)\n",
        "  variance2=variance(sales)\n",
        "  sd1=(variance1)**0.5\n",
        "  sd2=(variance2)**0.5\n",
        "  for i in range(len(spend)):\n",
        "    for j in range(len(sales)):\n",
        "      if i==j:\n",
        "        p=spend[i]-mean1\n",
        "        q=sales[j]-mean2\n",
        "        s=s+p*q\n",
        "  covariance=s/len(spend)\n",
        "  correlation=covariance/(sd1*sd2)\n",
        "  return(correlation)\n",
        "k=correlation([10, 20, 15, 25, 30],[10, 20, 15, 25, 30])\n",
        "print(k)"
      ],
      "metadata": {
        "colab": {
          "base_uri": "https://localhost:8080/"
        },
        "id": "gu-uZzwh1lu3",
        "outputId": "0eacb7ec-f6dd-4807-b7e2-ab7b1933a082"
      },
      "execution_count": 41,
      "outputs": [
        {
          "output_type": "stream",
          "name": "stdout",
          "text": [
            "0.9999999999999999\n"
          ]
        }
      ]
    },
    {
      "cell_type": "code",
      "source": [
        "#5. Dataset: Study Hours: 2, 4, 6, 8, 10; Exam Scores: 55, 60, 65, 70, 75\n",
        "#Questions: a) Calculate the correlation coefficient between study hours and exam\n",
        "#scores.\n",
        "#b) Interpret the result.\n",
        "#c) Quartiles and IQR.\n",
        "def correlation_coefficient(list10,list11):\n",
        "  x=0\n",
        "  mean10=mean(list10)\n",
        "  mean11=mean(list11)\n",
        "  variance10=variance(list10)\n",
        "  variance11=variance(list11)\n",
        "  standard_deviation10=variance10 ** 0.5\n",
        "  standard_deviation11=variance11 ** 0.5\n",
        "  x=0\n",
        "  for i in range(len(list10)):\n",
        "    for j in range(len(list11)):\n",
        "      if i==j:\n",
        "        p=list10[i]-mean10\n",
        "        y=list11[j]-mean11\n",
        "        x=x+p*y\n",
        "  cov=x/len(list10)\n",
        "  correlation=cov/(standard_deviation10*standard_deviation11)\n",
        "  return correlation\n",
        "l=correlation_coefficient([2, 4, 6, 8, 10],[55, 60, 65, 70, 75])\n",
        "print(l)"
      ],
      "metadata": {
        "colab": {
          "base_uri": "https://localhost:8080/"
        },
        "id": "pLNX9MKF6jIJ",
        "outputId": "96667149-1c7e-432d-cc29-a178a133958a"
      },
      "execution_count": 48,
      "outputs": [
        {
          "output_type": "stream",
          "name": "stdout",
          "text": [
            "0.9999999999999998\n"
          ]
        }
      ]
    },
    {
      "cell_type": "code",
      "source": [
        "print('0.99999999999998 is very clode to +1, so it is positive correlated.')"
      ],
      "metadata": {
        "colab": {
          "base_uri": "https://localhost:8080/"
        },
        "id": "_lllyG_b74m1",
        "outputId": "702b4f1c-6b08-4a9a-afce-37e93201a11c"
      },
      "execution_count": 49,
      "outputs": [
        {
          "output_type": "stream",
          "name": "stdout",
          "text": [
            "0.99999999999998 is very clode to +1, so it is positive correlated.\n"
          ]
        }
      ]
    },
    {
      "cell_type": "code",
      "source": [
        "#quartiles and IQR\n",
        "import statistics as stats\n",
        "list10=[2, 4, 6, 8, 10]\n",
        "list11=[55, 60, 65, 70, 75]\n",
        "quartiles=stats.quantiles(list10,n=4)\n",
        "print(stats.quantiles(list10,n=4))\n",
        "print(stats.quantiles(list11,n=4))\n",
        "print(stats.quantiles(list10,n=4)[2]-stats.quantiles(list10,n=4)[0])\n",
        "print(stats.quantiles(list11,n=4)[2]-stats.quantiles(list11,n=4)[0])\n"
      ],
      "metadata": {
        "colab": {
          "base_uri": "https://localhost:8080/"
        },
        "id": "9c0YLplz8buO",
        "outputId": "04bf8256-2f74-407e-8ef1-bfc1f7e04d10"
      },
      "execution_count": 53,
      "outputs": [
        {
          "output_type": "stream",
          "name": "stdout",
          "text": [
            "[3.0, 6.0, 9.0]\n",
            "[57.5, 65.0, 72.5]\n",
            "6.0\n",
            "15.0\n"
          ]
        }
      ]
    },
    {
      "cell_type": "code",
      "source": [
        "#6. Dataset: Monthly savings (in $): 200, 300, 400, 500, 600, 700, 800, 900, 1000,\n",
        "#1100 Questions: a) Calculate the first quartile (Q1) and third quartile (Q3).\n",
        "#b) Calculate the interquartile range (IQR).\n",
        "#c) Detecting Outliers\n",
        "import statistics as stats\n",
        "list12=[ 200, 300, 400, 500, 600, 700, 800, 900, 1000,1100]\n",
        "quartiles=stats.quantiles(list12,n=4)\n",
        "print('Q1 is',quartiles[0])\n",
        "print('Q3 is',quartiles[2])\n",
        "print('IQR is',stats.quantiles(list12,n=4)[2]-stats.quantiles(list12,n=4)[0])\n"
      ],
      "metadata": {
        "colab": {
          "base_uri": "https://localhost:8080/"
        },
        "id": "4BKGt-mPBub1",
        "outputId": "1879273e-c508-4d00-f9aa-e32c43abd740"
      },
      "execution_count": 55,
      "outputs": [
        {
          "output_type": "stream",
          "name": "stdout",
          "text": [
            "Q1 is 375.0\n",
            "Q3 is 925.0\n",
            "IQR is 550.0\n"
          ]
        }
      ]
    },
    {
      "cell_type": "code",
      "source": [
        "\n",
        "IQR=stats.quantiles(list12,n=4)[2]-stats.quantiles(list12,n=4)[0]\n",
        "j=[]\n",
        "upperbound = quartiles[2] + 1.5*IQR\n",
        "lowerbound = quartiles[0] - 1.5*IQR\n",
        "for i in list12:\n",
        "  if i > upperbound or i < lowerbound:\n",
        "      j.append(i)\n",
        "print(j)"
      ],
      "metadata": {
        "colab": {
          "base_uri": "https://localhost:8080/"
        },
        "id": "o-FUkub9EX2v",
        "outputId": "53a25dc4-54d4-4947-dd0a-5e690dad8351"
      },
      "execution_count": 63,
      "outputs": [
        {
          "output_type": "stream",
          "name": "stdout",
          "text": [
            "[]\n"
          ]
        }
      ]
    },
    {
      "cell_type": "code",
      "source": [
        "#7. Dataset: Ages of employees: 22, 25, 28, 30, 35, 40, 45, 50, 55, 100\n",
        "#Questions: a) Identify any outliers using the IQR method.\n",
        "list13=22, 25, 28, 30, 35, 40, 45, 50, 55, 100\n",
        "quartiles=stats.quantiles(list13,n=4)\n",
        "IQR=stats.quantiles(list13,n=4)[2]-stats.quantiles(list13,n=4)[0]\n",
        "h=[]\n",
        "upperbound = quartiles[2] + 1.5*IQR\n",
        "lowerbound = quartiles[0] - 1.5*IQR\n",
        "for i in list13:\n",
        "  if i > upperbound or i < lowerbound:\n",
        "      h.append(i)\n",
        "print(h)\n"
      ],
      "metadata": {
        "colab": {
          "base_uri": "https://localhost:8080/"
        },
        "id": "AFklv8qEGePf",
        "outputId": "86eb7974-50e9-4fb7-cb04-944a7d57cab9"
      },
      "execution_count": 65,
      "outputs": [
        {
          "output_type": "stream",
          "name": "stdout",
          "text": [
            "[100]\n"
          ]
        }
      ]
    },
    {
      "cell_type": "code",
      "source": [
        "#8. Dataset: Observed frequencies of customer preferences for three products:\n",
        "#Product A: 50, 55, 60\n",
        "#Product B: 30, 25, 35\n",
        "#Product C: 20, 20, 25\n",
        "#Questions: a) Perform a chi-square test to determine if there is a significant\n",
        "#difference in customer preferences among the three products. b) Hypothesis\n",
        "#Testing\n",
        "\n",
        "l=[[50, 55, 60],\n",
        "   [30, 25, 35],\n",
        "   [20, 20, 25]]\n",
        "a=0\n",
        "c=0\n",
        "row_sum=[]\n",
        "for i in l:\n",
        "  for j in i:\n",
        "    c=c+j\n",
        "print(c)\n",
        "for i in l:\n",
        "  for j in i:\n",
        "    a=a+j\n",
        "  row_sum.append(a)\n",
        "  a=0\n",
        "print(row_sum)\n",
        "s=0\n",
        "col_sums=[]\n",
        "for col in range(len(l[0])):   # loop over columns\n",
        "    s = 0\n",
        "    for row in range(len(l)):  # loop over rows\n",
        "        s= s + l[row][col]\n",
        "    col_sums.append(s)\n",
        "\n",
        "print( col_sums)\n",
        "p=[]\n",
        "for i in row_sum:\n",
        "  E=[]\n",
        "  for j in col_sums:\n",
        "    e=i*j/c\n",
        "    E.append(e)\n",
        "  p.append(E)\n",
        "print(p)\n",
        "g=0\n",
        "for i in range (len(l)):\n",
        "  for j in range (len(p)):\n",
        "    o=l[i][j]\n",
        "    e=p[i][j]\n",
        "    chi=(o-e)**2/e\n",
        "    chi_sq=g+chi\n",
        "print(chi_sq)\n",
        "print((len(row_sum)-1)*(len(col_sums)-1))\n",
        "critical_value=9.488 #from chi-square table df=4 and alpha=0.05\n",
        "if chi_sq>critical_value:\n",
        "  print(\"Reject H0 (No difference)\")\n",
        "else:\n",
        "  print(\"Accept H0\")"
      ],
      "metadata": {
        "colab": {
          "base_uri": "https://localhost:8080/"
        },
        "id": "3qegJu19HQbd",
        "outputId": "c6d126b6-f073-45ce-fa59-f3c2619a3eeb"
      },
      "execution_count": 80,
      "outputs": [
        {
          "output_type": "stream",
          "name": "stdout",
          "text": [
            "320\n",
            "[165, 90, 65]\n",
            "[100, 100, 120]\n",
            "[[51.5625, 51.5625, 61.875], [28.125, 28.125, 33.75], [20.3125, 20.3125, 24.375]]\n",
            "0.016025641025641024\n",
            "4\n",
            "Accept H0\n"
          ]
        }
      ]
    },
    {
      "cell_type": "code",
      "source": [
        "#9. Dataset: Sample weights (in kg) of a new diet program: 70, 68, 72, 71, 69, 73,\n",
        "#72, 74, 70, 71 Questions: a) Test the hypothesis that the mean weight after the\n",
        "#diet program is equal to 70 kg at a 5% significance level. b) Z-Scores\n",
        "weight=[70, 68, 72, 71, 69, 73,72, 74, 70, 71]\n",
        "Pop_mean=70\n",
        "critical=2.262\n",
        "h0=\"weight is 70 - accept null hypotheis\"\n",
        "h1=\"weight is not 70 - reject null hypothesis\"\n",
        "def mean(list8):\n",
        "  mean=sum(list8)/len(list8)\n",
        "  return(mean)\n",
        "\n",
        "mean9=mean(weight)\n",
        "sum9=0\n",
        "for p in weight:\n",
        "  sum9=sum9+(p-mean9)**2\n",
        "s=(sum9/(len(weight)-1))**0.5\n",
        "t=(mean9-Pop_mean)/(s/(len(weight))**0.5)\n",
        "if abs(t)>critical:\n",
        "  print(h1)\n",
        "else:\n",
        "  print(h0)"
      ],
      "metadata": {
        "colab": {
          "base_uri": "https://localhost:8080/"
        },
        "id": "wz0plDIjQbw8",
        "outputId": "f5785b8b-3984-4ee6-a52d-a52e9596a048"
      },
      "execution_count": 86,
      "outputs": [
        {
          "output_type": "stream",
          "name": "stdout",
          "text": [
            "weight is 70 - accept null hypotheis\n"
          ]
        }
      ]
    },
    {
      "cell_type": "code",
      "source": [
        "def z(list15):\n",
        "  initial=0\n",
        "  r=[]\n",
        "  sum15=0\n",
        "  for i in list15:\n",
        "    sum15=sum15+i\n",
        "  mean15=sum15/len(list15)\n",
        "  for j in list15:\n",
        "    sum1=(j-mean15)**2\n",
        "    initial=initial+sum1\n",
        "  var=initial/len(list15)\n",
        "  sd=var**0.5\n",
        "  for k in list15:\n",
        "    sum3=(k-mean15)/sd\n",
        "    r.append(sum3)\n",
        "  return r\n",
        "h=z([ 70, 68, 72, 71, 69, 73, 72, 74, 70, 71])\n",
        "print('z is',h)"
      ],
      "metadata": {
        "colab": {
          "base_uri": "https://localhost:8080/"
        },
        "id": "4T_eUUSaQkR0",
        "outputId": "211a8188-b2f9-4cd1-d79b-0aa377c98783"
      },
      "execution_count": 71,
      "outputs": [
        {
          "output_type": "stream",
          "name": "stdout",
          "text": [
            "z is [-0.5773502691896258, -1.7320508075688774, 0.5773502691896258, 0.0, -1.1547005383792517, 1.1547005383792517, 0.5773502691896258, 1.7320508075688774, -0.5773502691896258, 0.0]\n"
          ]
        }
      ]
    },
    {
      "cell_type": "code",
      "source": [
        "#10. Dataset: Annual salaries of employees (in $1000s): 40, 42, 45, 47, 50, 52, 55,\n",
        "#57, 60, 62 Questions: a) Calculate the z-scores for each salary.\n",
        "#b) Interpret the z-scores.\n",
        "#c) Normal Distribution\n",
        "def z(list14):\n",
        "  initial=0\n",
        "  r=[]\n",
        "  sum14=0\n",
        "  for i in list14:\n",
        "    sum14=sum14+i\n",
        "  mean14=sum14/len(list14)\n",
        "  for j in list14:\n",
        "    sum1=(j-mean14)**2\n",
        "    initial=initial+sum1\n",
        "  var=initial/len(list14)\n",
        "  sd=var**0.5\n",
        "  for k in list14:\n",
        "    sum3=(k-mean14)/sd\n",
        "    r.append(sum3)\n",
        "  return r\n",
        "h=z([40, 42, 45, 47, 50, 52, 55,57, 60, 62 ])\n",
        "print('z is',h)\n",
        "print('positive Z scores are above the mean and the negative Z scores are below the mean')\n",
        "for i in range(len(h)):\n",
        "  if h[i] <0:\n",
        "    print('below the average salary')\n",
        "  elif h[i]>0:\n",
        "    print('above the average salary')\n",
        "  else:\n",
        "    print('exact average salary')"
      ],
      "metadata": {
        "colab": {
          "base_uri": "https://localhost:8080/"
        },
        "id": "8jBFUkQvKHxP",
        "outputId": "a1b879ba-4c6c-4f1e-b488-ac82a7309f30"
      },
      "execution_count": 70,
      "outputs": [
        {
          "output_type": "stream",
          "name": "stdout",
          "text": [
            "z is [-1.5403080924308108, -1.2602520756252087, -0.8401680504168059, -0.5601120336112039, -0.14002800840280097, 0.14002800840280097, 0.5601120336112039, 0.8401680504168059, 1.2602520756252087, 1.5403080924308108]\n",
            "positive Z scores are above the mean and the negative Z scores are below the mean\n",
            "below the average salary\n",
            "below the average salary\n",
            "below the average salary\n",
            "below the average salary\n",
            "below the average salary\n",
            "above the average salary\n",
            "above the average salary\n",
            "above the average salary\n",
            "above the average salary\n",
            "above the average salary\n"
          ]
        }
      ]
    },
    {
      "cell_type": "code",
      "source": [
        "#normal distribution\n",
        "import statistics\n",
        "list14=[40, 42, 45, 47, 50, 52, 55,57, 60, 62 ]\n",
        "mean = statistics.mean(list14)\n",
        "sd = statistics.pstdev(list14)\n",
        "sigma1=[x for x in list14 if (mean - sd) <= x <= (mean + sd)]\n",
        "sigma2=[x for x in list14 if (mean - 2*sd) <= x <= (mean + 2*sd)]\n",
        "print(f\"Mean = {mean:.2f}, Standard Deviation = {sd:.2f}\")\n",
        "print(f\"Salaries within plus or minus 1 sigma: {sigma1} → {len(sigma1)} out of {len(list14)}\")\n",
        "print(f\"Salaries within plus or minus 2 sigma: {sigma2} → {len(sigma2)} out of {len(list14)}\")"
      ],
      "metadata": {
        "colab": {
          "base_uri": "https://localhost:8080/"
        },
        "id": "VmFUsbTYhC97",
        "outputId": "488f2562-0535-475f-c033-a014e497e5a6"
      },
      "execution_count": 85,
      "outputs": [
        {
          "output_type": "stream",
          "name": "stdout",
          "text": [
            "Mean = 51.00, Standard Deviation = 7.14\n",
            "Salaries within plus or minus 1 sigma: [45, 47, 50, 52, 55, 57] → 6 out of 10\n",
            "Salaries within plus or minus 2 sigma: [40, 42, 45, 47, 50, 52, 55, 57, 60, 62] → 10 out of 10\n"
          ]
        }
      ]
    }
  ]
}