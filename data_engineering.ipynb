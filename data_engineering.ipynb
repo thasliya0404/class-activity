{
  "nbformat": 4,
  "nbformat_minor": 0,
  "metadata": {
    "colab": {
      "provenance": [],
      "authorship_tag": "ABX9TyNvBV+OpyqEGEgg1gMa+61z",
      "include_colab_link": true
    },
    "kernelspec": {
      "name": "python3",
      "display_name": "Python 3"
    },
    "language_info": {
      "name": "python"
    }
  },
  "cells": [
    {
      "cell_type": "markdown",
      "metadata": {
        "id": "view-in-github",
        "colab_type": "text"
      },
      "source": [
        "<a href=\"https://colab.research.google.com/github/thasliya0404/class-activity/blob/main/data_engineering.ipynb\" target=\"_parent\"><img src=\"https://colab.research.google.com/assets/colab-badge.svg\" alt=\"Open In Colab\"/></a>"
      ]
    },
    {
      "cell_type": "code",
      "execution_count": null,
      "metadata": {
        "id": "1nAcpcZfXYq8"
      },
      "outputs": [],
      "source": [
        "#data engineering\n",
        "#preparing,peocessing,and moving analysis"
      ]
    },
    {
      "cell_type": "markdown",
      "source": [
        "**stages ETL/ELT**\n",
        "\n",
        "\n",
        "**extract** E :\n",
        "collect raw data from sources\n",
        "\n",
        "\n",
        "**transform** T :\n",
        "clean format validate enrich the data\n",
        "handling missind values\n",
        "\n",
        "\n",
        "**load** L :\n",
        "store data in to a target system like a database"
      ],
      "metadata": {
        "id": "Cf_mef66Xp_g"
      }
    },
    {
      "cell_type": "markdown",
      "source": [
        "real life eg\n",
        "\n",
        "\n",
        "e-commerce site(amazon)\n",
        "\n",
        "\n",
        "E : order data from app,\n",
        "\n",
        "\n",
        "T : clean duplicate order,fix missing info\n",
        "\n",
        "\n",
        "L : store into central data for sales report\n"
      ],
      "metadata": {
        "id": "oqs4UGDZYguv"
      }
    },
    {
      "cell_type": "markdown",
      "source": [
        "components\n",
        "\n",
        "\n",
        "ingestion : collect data\n",
        "\n",
        "\n",
        "processing : clean transform enrich\n",
        "\n",
        "\n",
        "storage : save\n",
        "\n",
        "\n",
        "output visualization dashboard report"
      ],
      "metadata": {
        "id": "cptSf5M-ZIPV"
      }
    },
    {
      "cell_type": "markdown",
      "source": [
        "python\n",
        "\n",
        "\n",
        "pandas numpy or schedule"
      ],
      "metadata": {
        "id": "sE-2U554ZcyC"
      }
    },
    {
      "cell_type": "markdown",
      "source": [
        "work flow automation\n",
        "\n",
        "data is always changing(new transaction,new user,new logs)\n",
        "companies need fresh and clean data for dashbpard"
      ],
      "metadata": {
        "id": "TVT49IBZZlCJ"
      }
    },
    {
      "cell_type": "markdown",
      "source": [],
      "metadata": {
        "id": "i01wRILsfnF_"
      }
    },
    {
      "cell_type": "code",
      "source": [
        "import pandas as pd\n",
        "#load dataset\n",
        "data = pd.read_csv('/content/irisexcel (1) (1) (1).csv')\n",
        "#check for issues\n",
        "print(data.info())\n",
        "print(data.head())"
      ],
      "metadata": {
        "colab": {
          "base_uri": "https://localhost:8080/"
        },
        "id": "-gt8XtOIbSO-",
        "outputId": "b4af971d-8c65-4d20-da60-3fe387e54fd1"
      },
      "execution_count": null,
      "outputs": [
        {
          "output_type": "stream",
          "name": "stdout",
          "text": [
            "<class 'pandas.core.frame.DataFrame'>\n",
            "RangeIndex: 150 entries, 0 to 149\n",
            "Data columns (total 5 columns):\n",
            " #   Column        Non-Null Count  Dtype  \n",
            "---  ------        --------------  -----  \n",
            " 0   sepal_length  150 non-null    float64\n",
            " 1   sepal_width   150 non-null    float64\n",
            " 2   petal_length  150 non-null    float64\n",
            " 3   petal_width   150 non-null    float64\n",
            " 4   species       150 non-null    object \n",
            "dtypes: float64(4), object(1)\n",
            "memory usage: 6.0+ KB\n",
            "None\n",
            "   sepal_length  sepal_width  petal_length  petal_width species\n",
            "0           5.1          3.5           1.4          0.2  setosa\n",
            "1           4.9          3.0           1.4          0.2  setosa\n",
            "2           4.7          3.2           1.3          0.2  setosa\n",
            "3           4.6          3.1           1.5          0.2  setosa\n",
            "4           5.0          3.6           1.4          0.2  setosa\n"
          ]
        }
      ]
    },
    {
      "cell_type": "code",
      "source": [
        "#remove duplicates\n",
        "data = data.drop_duplicates()\n",
        "print(data)"
      ],
      "metadata": {
        "colab": {
          "base_uri": "https://localhost:8080/"
        },
        "id": "mvaAzxxddKUU",
        "outputId": "b2a0138e-8ee2-4479-f9d5-7d8dee792af0"
      },
      "execution_count": null,
      "outputs": [
        {
          "output_type": "stream",
          "name": "stdout",
          "text": [
            "     sepal_length  sepal_width  petal_length  petal_width    species\n",
            "0             5.1          3.5           1.4          0.2     setosa\n",
            "1             4.9          3.0           1.4          0.2     setosa\n",
            "2             4.7          3.2           1.3          0.2     setosa\n",
            "3             4.6          3.1           1.5          0.2     setosa\n",
            "4             5.0          3.6           1.4          0.2     setosa\n",
            "..            ...          ...           ...          ...        ...\n",
            "145           6.7          3.0           5.2          2.3  virginica\n",
            "146           6.3          2.5           5.0          1.9  virginica\n",
            "147           6.5          3.0           5.2          2.0  virginica\n",
            "148           6.2          3.4           5.4          2.3  virginica\n",
            "149           5.9          3.0           5.1          1.8  virginica\n",
            "\n",
            "[147 rows x 5 columns]\n"
          ]
        }
      ]
    },
    {
      "cell_type": "code",
      "source": [
        "#handle missing values(if any)\n",
        "data = data.fillna (method=\"ffill\")\n",
        "print(data)"
      ],
      "metadata": {
        "colab": {
          "base_uri": "https://localhost:8080/"
        },
        "id": "tO-Cpq4idbgy",
        "outputId": "1f84c887-4f44-4025-e06b-a1208f17d2f8"
      },
      "execution_count": null,
      "outputs": [
        {
          "output_type": "stream",
          "name": "stdout",
          "text": [
            "     sepal_length  sepal_width  petal_length  petal_width    species\n",
            "0             5.1          3.5           1.4          0.2     setosa\n",
            "1             4.9          3.0           1.4          0.2     setosa\n",
            "2             4.7          3.2           1.3          0.2     setosa\n",
            "3             4.6          3.1           1.5          0.2     setosa\n",
            "4             5.0          3.6           1.4          0.2     setosa\n",
            "..            ...          ...           ...          ...        ...\n",
            "145           6.7          3.0           5.2          2.3  virginica\n",
            "146           6.3          2.5           5.0          1.9  virginica\n",
            "147           6.5          3.0           5.2          2.0  virginica\n",
            "148           6.2          3.4           5.4          2.3  virginica\n",
            "149           5.9          3.0           5.1          1.8  virginica\n",
            "\n",
            "[147 rows x 5 columns]\n"
          ]
        },
        {
          "output_type": "stream",
          "name": "stderr",
          "text": [
            "/tmp/ipython-input-743367079.py:2: FutureWarning: DataFrame.fillna with 'method' is deprecated and will raise in a future version. Use obj.ffill() or obj.bfill() instead.\n",
            "  data = data.fillna (method=\"ffill\")\n"
          ]
        }
      ]
    },
    {
      "cell_type": "code",
      "source": [
        "print('cleaned dataset shape:',data.shape)"
      ],
      "metadata": {
        "colab": {
          "base_uri": "https://localhost:8080/"
        },
        "id": "2BT2SVkqdyva",
        "outputId": "a52f37f8-e110-46fd-dfd0-6171f65971ce"
      },
      "execution_count": null,
      "outputs": [
        {
          "output_type": "stream",
          "name": "stdout",
          "text": [
            "cleaned dataset shape: (147, 5)\n"
          ]
        }
      ]
    },
    {
      "cell_type": "code",
      "source": [
        "#load dataset\n",
        "data1 = pd.read_csv('/content/irisexcel (1) (1) (2).csv')"
      ],
      "metadata": {
        "id": "rYdxvVnbeCgp"
      },
      "execution_count": null,
      "outputs": []
    },
    {
      "cell_type": "code",
      "source": [
        "#check for issues\n",
        "print(data1.info())\n",
        "print(data1.head())"
      ],
      "metadata": {
        "colab": {
          "base_uri": "https://localhost:8080/"
        },
        "id": "5gUkrjvkjf0X",
        "outputId": "c16a7ff0-4012-4517-f9c4-f68ad16d330e"
      },
      "execution_count": null,
      "outputs": [
        {
          "output_type": "stream",
          "name": "stdout",
          "text": [
            "<class 'pandas.core.frame.DataFrame'>\n",
            "RangeIndex: 152 entries, 0 to 151\n",
            "Data columns (total 5 columns):\n",
            " #   Column        Non-Null Count  Dtype  \n",
            "---  ------        --------------  -----  \n",
            " 0   sepal_length  152 non-null    float64\n",
            " 1   sepal_width   152 non-null    float64\n",
            " 2   petal_length  151 non-null    float64\n",
            " 3   petal_width   152 non-null    float64\n",
            " 4   species       152 non-null    object \n",
            "dtypes: float64(4), object(1)\n",
            "memory usage: 6.1+ KB\n",
            "None\n",
            "   sepal_length  sepal_width  petal_length  petal_width species\n",
            "0           5.1          3.5           1.4          0.2  setosa\n",
            "1           4.9          3.0           1.4          0.2  setosa\n",
            "2           4.7          3.2           1.3          0.2  setosa\n",
            "3           4.6          3.1           1.5          0.2  setosa\n",
            "4           5.0          3.6           1.4          0.2  setosa\n"
          ]
        }
      ]
    },
    {
      "cell_type": "code",
      "source": [
        "#remove duplicates\n",
        "data1 = data1.drop_duplicates()\n",
        "print(data1)"
      ],
      "metadata": {
        "colab": {
          "base_uri": "https://localhost:8080/"
        },
        "id": "B-HyUSAfjkT1",
        "outputId": "44526bb1-735e-4428-ccaf-14fe9e7a0703"
      },
      "execution_count": null,
      "outputs": [
        {
          "output_type": "stream",
          "name": "stdout",
          "text": [
            "     sepal_length  sepal_width  petal_length  petal_width    species\n",
            "0             5.1          3.5           1.4          0.2     setosa\n",
            "1             4.9          3.0           1.4          0.2     setosa\n",
            "2             4.7          3.2           1.3          0.2     setosa\n",
            "3             4.6          3.1           1.5          0.2     setosa\n",
            "4             5.0          3.6           1.4          0.2     setosa\n",
            "..            ...          ...           ...          ...        ...\n",
            "145           6.7          3.0           5.2          2.3  virginica\n",
            "146           6.3          2.5           5.0          1.9  virginica\n",
            "147           6.5          3.0           5.2          2.0  virginica\n",
            "148           6.2          3.4           5.4          2.3  virginica\n",
            "149           5.9          3.0           5.1          1.8  virginica\n",
            "\n",
            "[147 rows x 5 columns]\n"
          ]
        }
      ]
    },
    {
      "cell_type": "code",
      "source": [
        "#handle missing values(if any)\n",
        "data1 = data1.fillna (method=\"ffill\")\n",
        "print(data1)\n",
        "#check filling missing values\n",
        "print(data1.info())\n",
        "print(data1.head())"
      ],
      "metadata": {
        "colab": {
          "base_uri": "https://localhost:8080/"
        },
        "outputId": "d26ddddd-18d2-4b33-d550-53fe00c8f88c",
        "id": "67DtlGGWjweE"
      },
      "execution_count": null,
      "outputs": [
        {
          "output_type": "stream",
          "name": "stdout",
          "text": [
            "     sepal_length  sepal_width  petal_length  petal_width    species\n",
            "0             5.1          3.5           1.4          0.2     setosa\n",
            "1             4.9          3.0           1.4          0.2     setosa\n",
            "2             4.7          3.2           1.3          0.2     setosa\n",
            "3             4.6          3.1           1.5          0.2     setosa\n",
            "4             5.0          3.6           1.4          0.2     setosa\n",
            "..            ...          ...           ...          ...        ...\n",
            "145           6.7          3.0           5.2          2.3  virginica\n",
            "146           6.3          2.5           5.0          1.9  virginica\n",
            "147           6.5          3.0           5.2          2.0  virginica\n",
            "148           6.2          3.4           5.4          2.3  virginica\n",
            "149           5.9          3.0           5.1          1.8  virginica\n",
            "\n",
            "[147 rows x 5 columns]\n",
            "<class 'pandas.core.frame.DataFrame'>\n",
            "Index: 147 entries, 0 to 149\n",
            "Data columns (total 5 columns):\n",
            " #   Column        Non-Null Count  Dtype  \n",
            "---  ------        --------------  -----  \n",
            " 0   sepal_length  147 non-null    float64\n",
            " 1   sepal_width   147 non-null    float64\n",
            " 2   petal_length  147 non-null    float64\n",
            " 3   petal_width   147 non-null    float64\n",
            " 4   species       147 non-null    object \n",
            "dtypes: float64(4), object(1)\n",
            "memory usage: 6.9+ KB\n",
            "None\n",
            "   sepal_length  sepal_width  petal_length  petal_width species\n",
            "0           5.1          3.5           1.4          0.2  setosa\n",
            "1           4.9          3.0           1.4          0.2  setosa\n",
            "2           4.7          3.2           1.3          0.2  setosa\n",
            "3           4.6          3.1           1.5          0.2  setosa\n",
            "4           5.0          3.6           1.4          0.2  setosa\n"
          ]
        },
        {
          "output_type": "stream",
          "name": "stderr",
          "text": [
            "/tmp/ipython-input-1219504050.py:2: FutureWarning: DataFrame.fillna with 'method' is deprecated and will raise in a future version. Use obj.ffill() or obj.bfill() instead.\n",
            "  data1 = data1.fillna (method=\"ffill\")\n"
          ]
        }
      ]
    },
    {
      "cell_type": "code",
      "source": [
        "print('cleaned dataset shape:',data1.shape)"
      ],
      "metadata": {
        "colab": {
          "base_uri": "https://localhost:8080/"
        },
        "id": "gYjRkNrRj8Lt",
        "outputId": "978c99d4-e35a-4ab4-c198-af0b304c8423"
      },
      "execution_count": null,
      "outputs": [
        {
          "output_type": "stream",
          "name": "stdout",
          "text": [
            "cleaned dataset shape: (147, 5)\n"
          ]
        }
      ]
    },
    {
      "cell_type": "code",
      "source": [
        " data3 = pd.read_csv('/content/irisexcel (1) (1) (3).csv')\n",
        "#check for issues\n",
        "print(data3.info())\n",
        "print(data3.head())"
      ],
      "metadata": {
        "colab": {
          "base_uri": "https://localhost:8080/"
        },
        "id": "lBv4kps0lNUu",
        "outputId": "7b09b6ce-c8d2-4783-aa96-d1b7d959c21a"
      },
      "execution_count": null,
      "outputs": [
        {
          "output_type": "stream",
          "name": "stdout",
          "text": [
            "<class 'pandas.core.frame.DataFrame'>\n",
            "RangeIndex: 149 entries, 0 to 148\n",
            "Data columns (total 5 columns):\n",
            " #   Column        Non-Null Count  Dtype  \n",
            "---  ------        --------------  -----  \n",
            " 0   sepal_length  148 non-null    float64\n",
            " 1   sepal_width   148 non-null    float64\n",
            " 2   petal_length  147 non-null    float64\n",
            " 3   petal_width   149 non-null    float64\n",
            " 4   species       149 non-null    object \n",
            "dtypes: float64(4), object(1)\n",
            "memory usage: 5.9+ KB\n",
            "None\n",
            "   sepal_length  sepal_width  petal_length  petal_width species\n",
            "0           5.1          3.5           1.4          0.2  setosa\n",
            "1           4.9          3.0           1.4          0.2  setosa\n",
            "2           4.7          3.2           1.3          0.2  setosa\n",
            "3           4.6          3.1           1.5          0.2  setosa\n",
            "4           5.0          3.6           1.4          0.2  setosa\n"
          ]
        }
      ]
    },
    {
      "cell_type": "code",
      "source": [
        "#remove duplicates\n",
        "data3 = data3.drop_duplicates()\n",
        "print(data3)"
      ],
      "metadata": {
        "colab": {
          "base_uri": "https://localhost:8080/"
        },
        "id": "9y_dK-usuhRk",
        "outputId": "9acd2f6b-4a44-40fc-885c-dca2ae3c113a"
      },
      "execution_count": null,
      "outputs": [
        {
          "output_type": "stream",
          "name": "stdout",
          "text": [
            "     sepal_length  sepal_width  petal_length  petal_width    species\n",
            "0             5.1          3.5           1.4          0.2     setosa\n",
            "1             4.9          3.0           1.4          0.2     setosa\n",
            "2             4.7          3.2           1.3          0.2     setosa\n",
            "3             4.6          3.1           1.5          0.2     setosa\n",
            "4             5.0          3.6           1.4          0.2     setosa\n",
            "..            ...          ...           ...          ...        ...\n",
            "144           6.3          2.5           5.0          1.9  virginica\n",
            "145           6.5          3.0           5.2          2.0  virginica\n",
            "146           6.2          3.4           5.4          2.3  virginica\n",
            "147           5.9          3.0           5.1          1.8  virginica\n",
            "148           NaN          NaN           NaN          1.8  virginica\n",
            "\n",
            "[146 rows x 5 columns]\n"
          ]
        }
      ]
    },
    {
      "cell_type": "code",
      "source": [
        "#handle missing values(if any)\n",
        "data3 = data3.fillna (method=\"ffill\")\n",
        "print(data3)\n",
        "#check filling missing values\n",
        "print(data3.info())\n",
        "print(data3.head())"
      ],
      "metadata": {
        "colab": {
          "base_uri": "https://localhost:8080/"
        },
        "id": "3zZgB5p4u5xa",
        "outputId": "b0514b68-4420-4d7c-916c-4a160d4c6e2b"
      },
      "execution_count": null,
      "outputs": [
        {
          "output_type": "stream",
          "name": "stdout",
          "text": [
            "     sepal_length  sepal_width  petal_length  petal_width    species\n",
            "0             5.1          3.5           1.4          0.2     setosa\n",
            "1             4.9          3.0           1.4          0.2     setosa\n",
            "2             4.7          3.2           1.3          0.2     setosa\n",
            "3             4.6          3.1           1.5          0.2     setosa\n",
            "4             5.0          3.6           1.4          0.2     setosa\n",
            "..            ...          ...           ...          ...        ...\n",
            "144           6.3          2.5           5.0          1.9  virginica\n",
            "145           6.5          3.0           5.2          2.0  virginica\n",
            "146           6.2          3.4           5.4          2.3  virginica\n",
            "147           5.9          3.0           5.1          1.8  virginica\n",
            "148           5.9          3.0           5.1          1.8  virginica\n",
            "\n",
            "[146 rows x 5 columns]\n",
            "<class 'pandas.core.frame.DataFrame'>\n",
            "Index: 146 entries, 0 to 148\n",
            "Data columns (total 5 columns):\n",
            " #   Column        Non-Null Count  Dtype  \n",
            "---  ------        --------------  -----  \n",
            " 0   sepal_length  146 non-null    float64\n",
            " 1   sepal_width   146 non-null    float64\n",
            " 2   petal_length  146 non-null    float64\n",
            " 3   petal_width   146 non-null    float64\n",
            " 4   species       146 non-null    object \n",
            "dtypes: float64(4), object(1)\n",
            "memory usage: 6.8+ KB\n",
            "None\n",
            "   sepal_length  sepal_width  petal_length  petal_width species\n",
            "0           5.1          3.5           1.4          0.2  setosa\n",
            "1           4.9          3.0           1.4          0.2  setosa\n",
            "2           4.7          3.2           1.3          0.2  setosa\n",
            "3           4.6          3.1           1.5          0.2  setosa\n",
            "4           5.0          3.6           1.4          0.2  setosa\n"
          ]
        },
        {
          "output_type": "stream",
          "name": "stderr",
          "text": [
            "/tmp/ipython-input-2634179800.py:2: FutureWarning: DataFrame.fillna with 'method' is deprecated and will raise in a future version. Use obj.ffill() or obj.bfill() instead.\n",
            "  data3 = data3.fillna (method=\"ffill\")\n"
          ]
        }
      ]
    },
    {
      "cell_type": "code",
      "source": [
        "print('cleaned dataset shape:',data1.shape)"
      ],
      "metadata": {
        "colab": {
          "base_uri": "https://localhost:8080/"
        },
        "id": "MFkVNknbvY0L",
        "outputId": "3afd260c-6fb1-426f-8456-2552c03c0fb5"
      },
      "execution_count": null,
      "outputs": [
        {
          "output_type": "stream",
          "name": "stdout",
          "text": [
            "cleaned dataset shape: (147, 5)\n"
          ]
        }
      ]
    },
    {
      "cell_type": "code",
      "source": [
        "!pip install schedule\n",
        "\n"
      ],
      "metadata": {
        "colab": {
          "base_uri": "https://localhost:8080/"
        },
        "id": "z5okg6jAv_Qz",
        "outputId": "67ed7948-9310-462e-95e1-74ba32a0a7ad"
      },
      "execution_count": null,
      "outputs": [
        {
          "output_type": "stream",
          "name": "stdout",
          "text": [
            "Requirement already satisfied: schedule in /usr/local/lib/python3.12/dist-packages (1.2.2)\n"
          ]
        }
      ]
    },
    {
      "cell_type": "code",
      "source": [
        "import schedule, time\n",
        "def pipeline():\n",
        "  data3 = pd.read_csv('/content/irisexcel (1) (1) (3).csv')\n",
        "  data3 = data3.drop_duplicates()\n",
        "  data3 = data3.fillna(method=\"ffill\")\n",
        "  print('Rows:', len(data3))\n",
        "  print('Mean value:\\n', data3.mean(numeric_only=True))\n",
        "schedule.every(0.10).minutes.do(pipeline)\n",
        "while True:\n",
        "  schedule.run_pending()\n",
        "  time.sleep(1)"
      ],
      "metadata": {
        "colab": {
          "base_uri": "https://localhost:8080/",
          "height": 977
        },
        "id": "OtIzGYAoxrk2",
        "outputId": "e88a4768-b128-4acd-c38a-98895b6b5e29"
      },
      "execution_count": null,
      "outputs": [
        {
          "output_type": "stream",
          "name": "stderr",
          "text": [
            "/tmp/ipython-input-1553395772.py:5: FutureWarning: DataFrame.fillna with 'method' is deprecated and will raise in a future version. Use obj.ffill() or obj.bfill() instead.\n",
            "  data3 = data3.fillna(method=\"ffill\")\n"
          ]
        },
        {
          "output_type": "stream",
          "name": "stdout",
          "text": [
            "Rows: 146\n",
            "Mean value:\n",
            " sepal_length    5.856463\n",
            "sepal_width     3.055782\n",
            "petal_length    3.780272\n",
            "petal_width     1.208844\n",
            "dtype: float64\n"
          ]
        },
        {
          "output_type": "stream",
          "name": "stderr",
          "text": [
            "/tmp/ipython-input-4241278945.py:5: FutureWarning: DataFrame.fillna with 'method' is deprecated and will raise in a future version. Use obj.ffill() or obj.bfill() instead.\n",
            "  data3 = data3.fillna(method=\"ffill\")\n",
            "/tmp/ipython-input-1553395772.py:5: FutureWarning: DataFrame.fillna with 'method' is deprecated and will raise in a future version. Use obj.ffill() or obj.bfill() instead.\n",
            "  data3 = data3.fillna(method=\"ffill\")\n"
          ]
        },
        {
          "output_type": "stream",
          "name": "stdout",
          "text": [
            "Rows: 146\n",
            "Mean value:\n",
            " sepal_length    5.842466\n",
            "sepal_width     3.058904\n",
            "petal_length    3.763014\n",
            "petal_width     1.204110\n",
            "dtype: float64\n",
            "Rows: 146\n",
            "Mean value:\n",
            " sepal_length    5.856463\n",
            "sepal_width     3.055782\n",
            "petal_length    3.780272\n",
            "petal_width     1.208844\n",
            "dtype: float64\n"
          ]
        },
        {
          "output_type": "stream",
          "name": "stderr",
          "text": [
            "/tmp/ipython-input-4241278945.py:5: FutureWarning: DataFrame.fillna with 'method' is deprecated and will raise in a future version. Use obj.ffill() or obj.bfill() instead.\n",
            "  data3 = data3.fillna(method=\"ffill\")\n",
            "/tmp/ipython-input-1553395772.py:5: FutureWarning: DataFrame.fillna with 'method' is deprecated and will raise in a future version. Use obj.ffill() or obj.bfill() instead.\n",
            "  data3 = data3.fillna(method=\"ffill\")\n"
          ]
        },
        {
          "output_type": "stream",
          "name": "stdout",
          "text": [
            "Rows: 146\n",
            "Mean value:\n",
            " sepal_length    5.842466\n",
            "sepal_width     3.058904\n",
            "petal_length    3.763014\n",
            "petal_width     1.204110\n",
            "dtype: float64\n",
            "Rows: 146\n",
            "Mean value:\n",
            " sepal_length    5.856463\n",
            "sepal_width     3.055782\n",
            "petal_length    3.780272\n",
            "petal_width     1.208844\n",
            "dtype: float64\n"
          ]
        },
        {
          "output_type": "error",
          "ename": "KeyboardInterrupt",
          "evalue": "",
          "traceback": [
            "\u001b[0;31m---------------------------------------------------------------------------\u001b[0m",
            "\u001b[0;31mKeyboardInterrupt\u001b[0m                         Traceback (most recent call last)",
            "\u001b[0;32m/tmp/ipython-input-4241278945.py\u001b[0m in \u001b[0;36m<cell line: 0>\u001b[0;34m()\u001b[0m\n\u001b[1;32m      9\u001b[0m \u001b[0;32mwhile\u001b[0m \u001b[0;32mTrue\u001b[0m\u001b[0;34m:\u001b[0m\u001b[0;34m\u001b[0m\u001b[0;34m\u001b[0m\u001b[0m\n\u001b[1;32m     10\u001b[0m   \u001b[0mschedule\u001b[0m\u001b[0;34m.\u001b[0m\u001b[0mrun_pending\u001b[0m\u001b[0;34m(\u001b[0m\u001b[0;34m)\u001b[0m\u001b[0;34m\u001b[0m\u001b[0;34m\u001b[0m\u001b[0m\n\u001b[0;32m---> 11\u001b[0;31m   \u001b[0mtime\u001b[0m\u001b[0;34m.\u001b[0m\u001b[0msleep\u001b[0m\u001b[0;34m(\u001b[0m\u001b[0;36m1\u001b[0m\u001b[0;34m)\u001b[0m\u001b[0;34m\u001b[0m\u001b[0;34m\u001b[0m\u001b[0m\n\u001b[0m",
            "\u001b[0;31mKeyboardInterrupt\u001b[0m: "
          ]
        }
      ]
    },
    {
      "cell_type": "code",
      "source": [
        "import random\n",
        "names = ['thasli','souda','thanzi','thariq','rameesha','ashiq','abdullah','aiza','sainu','emin']\n",
        "departments = ['IT','ECE','CS','IEEE','Civil']\n",
        "data = []\n",
        "for i in range(1,21):\n",
        "  record = {\n",
        "      'student_id' : i,\n",
        "      'name' : random.choice(names),\n",
        "      'age' : random.choice([20,21,22,23,None]),#missing values possible\n",
        "      'department' : random.choice(departments + ['Civik']), #typo possibility\n",
        "      'marks' : random.randint(30,100),\n",
        "      'attendance' : random.choice([random.randint(70,100),None])#some missing\n",
        "      }\n",
        "  data.append(record)\n",
        "df = pd.DataFrame(data)\n",
        "\n",
        "#save\n",
        "df.to_csv('students_random.csv',index=True)\n",
        "print('random dirty dataset saved as students_random.csv')\n",
        "print(df.head(10))"
      ],
      "metadata": {
        "colab": {
          "base_uri": "https://localhost:8080/"
        },
        "id": "Gv8EMRh95bEn",
        "outputId": "e1c6ee4d-92b3-494c-cca7-c7b6b82a79f1"
      },
      "execution_count": null,
      "outputs": [
        {
          "output_type": "stream",
          "name": "stdout",
          "text": [
            "random dirty dataset saved as students_random.csv\n",
            "   student_id      name   age department  marks  attendance\n",
            "0           1    thariq   NaN         IT     72        87.0\n",
            "1           2  rameesha  23.0       IEEE     36         NaN\n",
            "2           3    thariq   NaN        ECE     55        78.0\n",
            "3           4  rameesha  23.0        ECE     57        85.0\n",
            "4           5     ashiq  20.0       IEEE     89        98.0\n",
            "5           6      aiza  23.0        ECE     59        83.0\n",
            "6           7    thasli  22.0         CS     65        74.0\n",
            "7           8      emin  21.0       IEEE     41        91.0\n",
            "8           9    thasli  23.0         CS     89        71.0\n",
            "9          10  rameesha  20.0         IT     37        79.0\n"
          ]
        }
      ]
    },
    {
      "cell_type": "code",
      "source": [
        "#load dirty dataset\n",
        "df = pd.read_csv('/content/students_random.csv')"
      ],
      "metadata": {
        "id": "KQZksC5jC9vM"
      },
      "execution_count": null,
      "outputs": []
    },
    {
      "cell_type": "code",
      "source": [
        "#drop dirty data\n",
        "df = df.drop_duplicates()\n",
        "#2.handle missing values\n",
        "df['age'] = df['age'].fillna(df['age'].mean()) # Fill the missing age with mean\n",
        "df['attendance'] = df['attendance'].fillna(df['attendance'].median()) # Fill the missing attendance with median\n",
        "#3.fix typos in department\n",
        "df['department'] = df['department'].replace({'Civik':'Civil'})\n",
        "print('\\n Cleaned data')\n",
        "print(df.head(10))"
      ],
      "metadata": {
        "colab": {
          "base_uri": "https://localhost:8080/"
        },
        "id": "Z0mBnAkuEcvb",
        "outputId": "6e79a560-1c27-4233-b100-e4ab96382b09"
      },
      "execution_count": null,
      "outputs": [
        {
          "output_type": "stream",
          "name": "stdout",
          "text": [
            "\n",
            " Cleaned data\n",
            "   Unnamed: 0  student_id      name        age department  marks  attendance\n",
            "0           0           1    thariq  21.666667         IT     72        87.0\n",
            "1           1           2  rameesha  23.000000       IEEE     36        82.5\n",
            "2           2           3    thariq  21.666667        ECE     55        78.0\n",
            "3           3           4  rameesha  23.000000        ECE     57        85.0\n",
            "4           4           5     ashiq  20.000000       IEEE     89        98.0\n",
            "5           5           6      aiza  23.000000        ECE     59        83.0\n",
            "6           6           7    thasli  22.000000         CS     65        74.0\n",
            "7           7           8      emin  21.000000       IEEE     41        91.0\n",
            "8           8           9    thasli  23.000000         CS     89        71.0\n",
            "9           9          10  rameesha  20.000000         IT     37        79.0\n"
          ]
        }
      ]
    },
    {
      "cell_type": "code",
      "source": [
        "#4.automation rule = check low marks\n",
        "if 'marks' in df.columns:\n",
        "  low_marks = df[df['marks'] < 40]\n",
        "  if not low_marks.empty:\n",
        "    print('\\n Warning! Students with marks below 40:')\n",
        "    print(low_marks[['student_id','name','marks']])\n",
        "  else:\n",
        "    print('\\n No failing students found.')\n",
        "print('\\n Cleaned Data')\n",
        "print(df.head())"
      ],
      "metadata": {
        "colab": {
          "base_uri": "https://localhost:8080/"
        },
        "id": "Sly1hzvdHYcq",
        "outputId": "a054c529-a153-42b7-f337-d735ad665e42"
      },
      "execution_count": null,
      "outputs": [
        {
          "output_type": "stream",
          "name": "stdout",
          "text": [
            "\n",
            " Warning! Students with marks below 40:\n",
            "    student_id      name  marks\n",
            "1            2  rameesha     36\n",
            "9           10  rameesha     37\n",
            "10          11      aiza     34\n",
            "19          20  abdullah     30\n",
            "\n",
            " Cleaned Data\n",
            "   Unnamed: 0  student_id      name        age department  marks  attendance\n",
            "0           0           1    thariq  21.666667         IT     72        87.0\n",
            "1           1           2  rameesha  23.000000       IEEE     36        82.5\n",
            "2           2           3    thariq  21.666667        ECE     55        78.0\n",
            "3           3           4  rameesha  23.000000        ECE     57        85.0\n",
            "4           4           5     ashiq  20.000000       IEEE     89        98.0\n"
          ]
        }
      ]
    }
  ]
}