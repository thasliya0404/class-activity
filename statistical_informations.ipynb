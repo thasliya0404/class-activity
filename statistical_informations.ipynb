{
  "nbformat": 4,
  "nbformat_minor": 0,
  "metadata": {
    "colab": {
      "provenance": [],
      "authorship_tag": "ABX9TyOYc0jzI2wvUU2bAHEE8Vqr",
      "include_colab_link": true
    },
    "kernelspec": {
      "name": "python3",
      "display_name": "Python 3"
    },
    "language_info": {
      "name": "python"
    }
  },
  "cells": [
    {
      "cell_type": "markdown",
      "metadata": {
        "id": "view-in-github",
        "colab_type": "text"
      },
      "source": [
        "<a href=\"https://colab.research.google.com/github/thasliya0404/class-activity/blob/main/statistical_informations.ipynb\" target=\"_parent\"><img src=\"https://colab.research.google.com/assets/colab-badge.svg\" alt=\"Open In Colab\"/></a>"
      ]
    },
    {
      "cell_type": "markdown",
      "source": [
        "#statistical informations"
      ],
      "metadata": {
        "id": "Y9bEO6BLxjlP"
      }
    },
    {
      "cell_type": "code",
      "execution_count": null,
      "metadata": {
        "colab": {
          "base_uri": "https://localhost:8080/"
        },
        "id": "snEjc3BHw9al",
        "outputId": "cce68176-e1ee-44ab-d458-e5cfb1c02608"
      },
      "outputs": [
        {
          "output_type": "stream",
          "name": "stdout",
          "text": [
            "6.142857142857143\n"
          ]
        }
      ],
      "source": [
        "data=[5,8,2,7,3,8,10]\n",
        "number_of_elements=7\n",
        "mean=sum(data)/number_of_elements\n",
        "print(mean)"
      ]
    },
    {
      "cell_type": "code",
      "source": [
        "data.sort()\n",
        "print(data)"
      ],
      "metadata": {
        "colab": {
          "base_uri": "https://localhost:8080/"
        },
        "id": "mbKJj8B3yqCJ",
        "outputId": "2a6812e9-7b91-40f4-9d8f-c6b377149424"
      },
      "execution_count": null,
      "outputs": [
        {
          "output_type": "stream",
          "name": "stdout",
          "text": [
            "[2, 3, 5, 7, 8, 8, 10]\n"
          ]
        }
      ]
    },
    {
      "cell_type": "code",
      "source": [
        "n=number_of_elements\n",
        "meadin=data[len(data)//2]\n",
        "print(meadin)"
      ],
      "metadata": {
        "colab": {
          "base_uri": "https://localhost:8080/"
        },
        "id": "AcDTOkEqy4rn",
        "outputId": "191b9b87-0a48-44c9-c4b1-e045cafa6044"
      },
      "execution_count": null,
      "outputs": [
        {
          "output_type": "stream",
          "name": "stdout",
          "text": [
            "7\n"
          ]
        }
      ]
    },
    {
      "cell_type": "code",
      "source": [
        "mode=3*meadin-2*mean\n",
        "print(int(mode))"
      ],
      "metadata": {
        "colab": {
          "base_uri": "https://localhost:8080/"
        },
        "id": "ng9DM0NG0DPJ",
        "outputId": "e2db3cb2-b52e-44dd-f418-b4a49a96d6cd"
      },
      "execution_count": null,
      "outputs": [
        {
          "output_type": "stream",
          "name": "stdout",
          "text": [
            "8\n"
          ]
        }
      ]
    },
    {
      "cell_type": "code",
      "source": [
        " data=[3,7,8,3,9,5,7,10]\n",
        " data.sort()\n",
        " print(data)"
      ],
      "metadata": {
        "colab": {
          "base_uri": "https://localhost:8080/"
        },
        "id": "5AM3wJRf03mn",
        "outputId": "81c164af-1fbd-40c5-fcdf-0ddda7f7eaed"
      },
      "execution_count": null,
      "outputs": [
        {
          "output_type": "stream",
          "name": "stdout",
          "text": [
            "[3, 3, 5, 7, 7, 8, 9, 10]\n"
          ]
        }
      ]
    },
    {
      "cell_type": "code",
      "source": [
        "sum=0\n",
        "for i in data:\n",
        "  sum=sum+i\n",
        "  mean=sum/len(data)\n",
        "print(mean)"
      ],
      "metadata": {
        "colab": {
          "base_uri": "https://localhost:8080/"
        },
        "id": "c06Xy38a7z1h",
        "outputId": "35175b68-9695-40d7-82d8-41ae96e92869"
      },
      "execution_count": null,
      "outputs": [
        {
          "output_type": "stream",
          "name": "stdout",
          "text": [
            "6.5\n"
          ]
        }
      ]
    },
    {
      "cell_type": "code",
      "source": [
        "#data is even no\n",
        "n = len(data)\n",
        "if n % 2 == 0:\n",
        "  mid1 = data[n//2 - 1]\n",
        "  mid2 = data[n//2]\n",
        "  median = (mid1 + mid2) / 2\n",
        "  print(median)\n",
        "else:\n",
        "  median = data[n//2]\n",
        "  print(median)"
      ],
      "metadata": {
        "colab": {
          "base_uri": "https://localhost:8080/"
        },
        "id": "Idy4skU_3Lzs",
        "outputId": "eeee00db-f534-49d3-e324-69dcb59b3095"
      },
      "execution_count": null,
      "outputs": [
        {
          "output_type": "stream",
          "name": "stdout",
          "text": [
            "7.0\n"
          ]
        }
      ]
    },
    {
      "cell_type": "code",
      "source": [
        "mode=3*median-2*mean\n",
        "print(int(mode))"
      ],
      "metadata": {
        "colab": {
          "base_uri": "https://localhost:8080/"
        },
        "id": "PBJ-YhpF5LEV",
        "outputId": "d581e3b2-9b3d-49d1-ff0e-97efda456d7b"
      },
      "execution_count": null,
      "outputs": [
        {
          "output_type": "stream",
          "name": "stdout",
          "text": [
            "8\n"
          ]
        }
      ]
    },
    {
      "cell_type": "markdown",
      "source": [
        "find mean,median,mode,variance,s.d"
      ],
      "metadata": {
        "id": "j-UhV1u39MM7"
      }
    },
    {
      "cell_type": "code",
      "source": [
        "data1=[78,85,95,50,88,45,82,91,75,60]\n",
        "data1.sort()\n",
        "print(data1)"
      ],
      "metadata": {
        "colab": {
          "base_uri": "https://localhost:8080/"
        },
        "id": "F2-A_H03833b",
        "outputId": "7c457c93-4d17-415a-b252-59f3d3bb9a86"
      },
      "execution_count": null,
      "outputs": [
        {
          "output_type": "stream",
          "name": "stdout",
          "text": [
            "[45, 50, 60, 75, 78, 82, 85, 88, 91, 95]\n"
          ]
        }
      ]
    },
    {
      "cell_type": "code",
      "source": [
        "sum=0\n",
        "for i in data1:\n",
        "  sum=sum+i\n",
        "  mean=sum/len(data1)\n",
        "print(mean)"
      ],
      "metadata": {
        "colab": {
          "base_uri": "https://localhost:8080/"
        },
        "id": "2UZ_xW5e9Ury",
        "outputId": "1bd75515-f70f-4e9e-8af3-acb45e2802b6"
      },
      "execution_count": null,
      "outputs": [
        {
          "output_type": "stream",
          "name": "stdout",
          "text": [
            "74.9\n"
          ]
        }
      ]
    },
    {
      "cell_type": "code",
      "source": [
        "n=len(data1)\n",
        "if n%2==0:\n",
        "  mid1=data1[n//2 - 1]\n",
        "  mid2=data1[n//2]\n",
        "  meadin=(mid1+mid2)/2\n",
        "  print(meadin)\n",
        "else:\n",
        "  meadin=data1[n//2]\n",
        "  print(meadin)"
      ],
      "metadata": {
        "colab": {
          "base_uri": "https://localhost:8080/"
        },
        "id": "lyi2oeQv93x6",
        "outputId": "9a31f3b4-2ef1-42b1-875d-f03ef4c91aed"
      },
      "execution_count": null,
      "outputs": [
        {
          "output_type": "stream",
          "name": "stdout",
          "text": [
            "80.0\n"
          ]
        }
      ]
    },
    {
      "cell_type": "code",
      "source": [
        "mode=3*meadin-2*mean\n",
        "print(int(mode))"
      ],
      "metadata": {
        "colab": {
          "base_uri": "https://localhost:8080/"
        },
        "id": "hhUR13p5AMP8",
        "outputId": "d8e30822-2f89-4fb8-d032-7bf1333ade6a"
      },
      "execution_count": null,
      "outputs": [
        {
          "output_type": "stream",
          "name": "stdout",
          "text": [
            "90\n"
          ]
        }
      ]
    },
    {
      "cell_type": "code",
      "source": [
        "w=0\n",
        "for i in range(len(data1)):\n",
        "  v=(data1[i]-mean)**2\n",
        "  w=w+v\n",
        "print(w/len(data1))"
      ],
      "metadata": {
        "colab": {
          "base_uri": "https://localhost:8080/"
        },
        "id": "hPKMjTnCGLrK",
        "outputId": "1ee85751-fc63-4e98-9699-329e08abe4e9"
      },
      "execution_count": null,
      "outputs": [
        {
          "output_type": "stream",
          "name": "stdout",
          "text": [
            "273.2900000000001\n"
          ]
        }
      ]
    },
    {
      "cell_type": "code",
      "source": [
        "standard_deviation=(w/len(data1))**0.5\n",
        "print(standard_deviation)"
      ],
      "metadata": {
        "colab": {
          "base_uri": "https://localhost:8080/"
        },
        "id": "f4rgbQnCHDvo",
        "outputId": "c404980d-61e5-4c69-9a21-cf9be91617b6"
      },
      "execution_count": null,
      "outputs": [
        {
          "output_type": "stream",
          "name": "stdout",
          "text": [
            "16.531485111749642\n"
          ]
        }
      ]
    },
    {
      "cell_type": "code",
      "source": [
        "range1=data1[len(data1)-1]-data1[0]\n",
        "print(range)"
      ],
      "metadata": {
        "colab": {
          "base_uri": "https://localhost:8080/"
        },
        "id": "RK3cpfrNHlGS",
        "outputId": "6dc88353-9df1-4952-a6ea-1b6a8a6e4ece"
      },
      "execution_count": null,
      "outputs": [
        {
          "output_type": "stream",
          "name": "stdout",
          "text": [
            "50\n"
          ]
        }
      ]
    },
    {
      "cell_type": "code",
      "source": [
        "data2=[85,60,72,55,105,315,380,290,190,130,95,70]\n",
        "data2.sort()\n",
        "print(data2)"
      ],
      "metadata": {
        "colab": {
          "base_uri": "https://localhost:8080/"
        },
        "id": "la8IvRFPIBvm",
        "outputId": "fe7959a8-ec3c-4bff-f3c4-25bb1b6e85d2"
      },
      "execution_count": null,
      "outputs": [
        {
          "output_type": "stream",
          "name": "stdout",
          "text": [
            "[55, 60, 70, 72, 85, 95, 105, 130, 190, 290, 315, 380]\n"
          ]
        }
      ]
    },
    {
      "cell_type": "code",
      "source": [
        "Q1=int(len(data2)*0.25)\n",
        "print(Q1)\n",
        "data2[Q1-1]"
      ],
      "metadata": {
        "colab": {
          "base_uri": "https://localhost:8080/"
        },
        "id": "v_8eDYApIn9e",
        "outputId": "35b127cd-fa86-4577-aaa0-2f63fca7a5ec"
      },
      "execution_count": null,
      "outputs": [
        {
          "output_type": "stream",
          "name": "stdout",
          "text": [
            "3\n"
          ]
        },
        {
          "output_type": "execute_result",
          "data": {
            "text/plain": [
              "70"
            ]
          },
          "metadata": {},
          "execution_count": 38
        }
      ]
    },
    {
      "cell_type": "code",
      "source": [
        "Q2=int(len(data2)*0.5)\n",
        "print(Q2)\n",
        "data2[Q2-1]"
      ],
      "metadata": {
        "colab": {
          "base_uri": "https://localhost:8080/"
        },
        "id": "QH1pmvYcJgfV",
        "outputId": "f29a5b3b-d1f1-41b4-e3a6-7faf19dfa131"
      },
      "execution_count": null,
      "outputs": [
        {
          "output_type": "stream",
          "name": "stdout",
          "text": [
            "6\n"
          ]
        },
        {
          "output_type": "execute_result",
          "data": {
            "text/plain": [
              "95"
            ]
          },
          "metadata": {},
          "execution_count": 39
        }
      ]
    },
    {
      "cell_type": "code",
      "source": [
        "Q3=int(len(data2)*0.75)\n",
        "print(Q3)\n",
        "data2[Q3-1]"
      ],
      "metadata": {
        "colab": {
          "base_uri": "https://localhost:8080/"
        },
        "id": "sT7Ih54xJvGi",
        "outputId": "357dc94e-12e1-4df9-e918-2743aceb97d4"
      },
      "execution_count": null,
      "outputs": [
        {
          "output_type": "stream",
          "name": "stdout",
          "text": [
            "9\n"
          ]
        },
        {
          "output_type": "execute_result",
          "data": {
            "text/plain": [
              "190"
            ]
          },
          "metadata": {},
          "execution_count": 40
        }
      ]
    },
    {
      "cell_type": "code",
      "source": [
        "IQR=data2[Q3-1]-data2[Q1-1]\n",
        "print(IQR)"
      ],
      "metadata": {
        "colab": {
          "base_uri": "https://localhost:8080/"
        },
        "id": "MQlsRj0YKCFr",
        "outputId": "293e63cc-18e0-4cd5-af24-069e046b3441"
      },
      "execution_count": null,
      "outputs": [
        {
          "output_type": "stream",
          "name": "stdout",
          "text": [
            "120\n"
          ]
        }
      ]
    },
    {
      "cell_type": "code",
      "source": [
        "lower_whisker=data2[Q1-1]-1.5*IQR\n",
        "upper_whisker=data2[Q3-1]+1.5*IQR\n",
        "print(lower_whisker)\n",
        "print(upper_whisker)"
      ],
      "metadata": {
        "colab": {
          "base_uri": "https://localhost:8080/"
        },
        "id": "dO0ejqgBKWUn",
        "outputId": "36d1fa6e-71d5-4d4c-e692-6df53e547d4d"
      },
      "execution_count": null,
      "outputs": [
        {
          "output_type": "stream",
          "name": "stdout",
          "text": [
            "-110.0\n",
            "370.0\n"
          ]
        }
      ]
    },
    {
      "cell_type": "code",
      "source": [
        "for i in data2:\n",
        "  if i > upper_whisker:\n",
        "    print( i)\n",
        "  elif i < lower_whisker:\n",
        "    print(i)"
      ],
      "metadata": {
        "colab": {
          "base_uri": "https://localhost:8080/"
        },
        "id": "6wSWYlNML3YS",
        "outputId": "72ae694f-b1bc-4541-c25f-6aff66034268"
      },
      "execution_count": null,
      "outputs": [
        {
          "output_type": "stream",
          "name": "stdout",
          "text": [
            "380\n"
          ]
        }
      ]
    },
    {
      "cell_type": "code",
      "source": [
        "data3=[200,220,210,300,250,400,240,260,500,230]\n",
        "data4=[50,55,52,80,60,100,58,65,120,54]\n",
        "data3.sort()\n",
        "print(data3)\n",
        "data4.sort()\n",
        "print(data4)"
      ],
      "metadata": {
        "colab": {
          "base_uri": "https://localhost:8080/"
        },
        "id": "TrNSAEH2O9Nc",
        "outputId": "b10d76c0-c1ba-4118-ef30-e95679f6444b"
      },
      "execution_count": null,
      "outputs": [
        {
          "output_type": "stream",
          "name": "stdout",
          "text": [
            "[200, 210, 220, 230, 240, 250, 260, 300, 400, 500]\n",
            "[50, 52, 54, 55, 58, 60, 65, 80, 100, 120]\n"
          ]
        }
      ]
    },
    {
      "cell_type": "code",
      "source": [
        "sum=0\n",
        "for i in data3:\n",
        "  sum=sum+i\n",
        "  mean3=sum/len(data3)\n",
        "print(mean3)\n",
        "sum=0\n",
        "for i in data4:\n",
        "  sum=sum+i\n",
        "  mean4=sum/len(data4)\n",
        "print(mean4)"
      ],
      "metadata": {
        "colab": {
          "base_uri": "https://localhost:8080/"
        },
        "id": "uy0K4y3IP0Nz",
        "outputId": "75db13d7-c7b1-4dff-aaad-a313dbdc2d1a"
      },
      "execution_count": null,
      "outputs": [
        {
          "output_type": "stream",
          "name": "stdout",
          "text": [
            "281.0\n",
            "69.4\n"
          ]
        }
      ]
    },
    {
      "cell_type": "code",
      "source": [
        "n=len(data3)\n",
        "if n%2==0:\n",
        "  mid1=data3[n//2 - 1]\n",
        "  mid2=data3[n//2]\n",
        "  meadin=(mid1+mid2)/2\n",
        "  print(meadin)\n",
        "else:\n",
        "  meadin=data3[n//2]\n",
        "  print(meadin)"
      ],
      "metadata": {
        "colab": {
          "base_uri": "https://localhost:8080/"
        },
        "id": "Si9LJ1xQQkNB",
        "outputId": "2a04f74d-6ebf-4c5a-ae64-9961d88750ee"
      },
      "execution_count": null,
      "outputs": [
        {
          "output_type": "stream",
          "name": "stdout",
          "text": [
            "245.0\n"
          ]
        }
      ]
    },
    {
      "cell_type": "code",
      "source": [
        "n=len(data4)\n",
        "if n%2==0:\n",
        "  mid1=data4[n//2 - 1]\n",
        "  mid2=data4[n//2]\n",
        "  meadin=(mid1+mid2)/2\n",
        "  print(meadin)\n",
        "else:\n",
        "  meadin=data4[n//2]\n",
        "  print(meadin)"
      ],
      "metadata": {
        "colab": {
          "base_uri": "https://localhost:8080/"
        },
        "id": "jZJLgtUwQxs6",
        "outputId": "37418ba8-2ab3-42d3-b742-94b8ce2cabed"
      },
      "execution_count": null,
      "outputs": [
        {
          "output_type": "stream",
          "name": "stdout",
          "text": [
            "59.0\n"
          ]
        }
      ]
    },
    {
      "cell_type": "code",
      "source": [
        "w=0\n",
        "for i in range(len(data3)):\n",
        "  v=(data3[i]-mean3)**2\n",
        "  w=w+v\n",
        "print(w/len(data3))\n",
        "standard_deviation3=(w/len(data3))**0.5\n",
        "print(standard_deviation3)"
      ],
      "metadata": {
        "colab": {
          "base_uri": "https://localhost:8080/"
        },
        "id": "YgpesJskQ9Qr",
        "outputId": "472e66ca-1b73-4752-c027-065926ceb1b5"
      },
      "execution_count": null,
      "outputs": [
        {
          "output_type": "stream",
          "name": "stdout",
          "text": [
            "8349.0\n",
            "91.37286249209882\n"
          ]
        }
      ]
    },
    {
      "cell_type": "code",
      "source": [
        "w=0\n",
        "for i in range(len(data4)):\n",
        "  v=(data4[i]-mean4)**2\n",
        "  w=w+v\n",
        "print(w/len(data4))\n",
        "standard_deviation4=(w/len(data4))**0.5\n",
        "print(standard_deviation4)"
      ],
      "metadata": {
        "colab": {
          "base_uri": "https://localhost:8080/"
        },
        "id": "VE7CgswhRTj6",
        "outputId": "17df1a2b-bdac-4d35-b60b-63a60f7d00dc"
      },
      "execution_count": null,
      "outputs": [
        {
          "output_type": "stream",
          "name": "stdout",
          "text": [
            "497.03999999999996\n",
            "22.294393914165955\n"
          ]
        }
      ]
    },
    {
      "cell_type": "code",
      "source": [
        "#covarience(x,y)\n",
        "w=0\n",
        "for i in range(len(data3)):\n",
        "  v=(data3[i]-mean3)\n",
        "  w=w+v\n",
        "  y=w/len(data3)\n",
        "print(y)"
      ],
      "metadata": {
        "colab": {
          "base_uri": "https://localhost:8080/"
        },
        "id": "YjT-4oBDTTXg",
        "outputId": "5dad27b1-a2ac-4705-c668-76652567d088"
      },
      "execution_count": null,
      "outputs": [
        {
          "output_type": "stream",
          "name": "stdout",
          "text": [
            "0.0\n"
          ]
        }
      ]
    },
    {
      "cell_type": "code",
      "source": [
        "w1=0\n",
        "for i in range(len(data4)):\n",
        "  v1=(data4[i]-mean4)\n",
        "  w1=w1+v1\n",
        "print(w1)"
      ],
      "metadata": {
        "colab": {
          "base_uri": "https://localhost:8080/"
        },
        "id": "EIv8E7VVUUhV",
        "outputId": "09ef77e0-79f3-412d-8eed-fbebd1728d5f"
      },
      "execution_count": null,
      "outputs": [
        {
          "output_type": "stream",
          "name": "stdout",
          "text": [
            "-5.684341886080802e-14\n"
          ]
        }
      ]
    },
    {
      "cell_type": "code",
      "source": [
        "y=w/len(data3)\n",
        "x = y*w1\n",
        "print(x)"
      ],
      "metadata": {
        "colab": {
          "base_uri": "https://localhost:8080/"
        },
        "id": "sI8RB8-JV-LV",
        "outputId": "ed747a41-093c-4589-b8f8-f360d9cf9b8f"
      },
      "execution_count": null,
      "outputs": [
        {
          "output_type": "stream",
          "name": "stdout",
          "text": [
            "-0.0\n"
          ]
        }
      ]
    },
    {
      "cell_type": "code",
      "source": [
        "#correlation\n",
        "correlation=x/(standard_deviation3*standard_deviation4)\n",
        "print(correlation)"
      ],
      "metadata": {
        "colab": {
          "base_uri": "https://localhost:8080/"
        },
        "id": "KDajyUi3XKAL",
        "outputId": "de6e6d21-b88e-4759-8d95-f578c30b8328"
      },
      "execution_count": null,
      "outputs": [
        {
          "output_type": "stream",
          "name": "stdout",
          "text": [
            "-0.0\n"
          ]
        }
      ]
    },
    {
      "cell_type": "code",
      "source": [],
      "metadata": {
        "id": "TxTjxsrRho-M"
      },
      "execution_count": null,
      "outputs": []
    }
  ]
}