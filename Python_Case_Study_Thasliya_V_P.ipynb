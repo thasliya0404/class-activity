{
  "nbformat": 4,
  "nbformat_minor": 0,
  "metadata": {
    "colab": {
      "provenance": [],
      "cell_execution_strategy": "setup",
      "generative_ai_disabled": true,
      "authorship_tag": "ABX9TyNobG53hpdEC5bDTX+ID9kw",
      "include_colab_link": true
    },
    "kernelspec": {
      "name": "python3",
      "display_name": "Python 3"
    },
    "language_info": {
      "name": "python"
    }
  },
  "cells": [
    {
      "cell_type": "markdown",
      "metadata": {
        "id": "view-in-github",
        "colab_type": "text"
      },
      "source": [
        "<a href=\"https://colab.research.google.com/github/thasliya0404/class-activity/blob/main/Python_Case_Study_Thasliya_V_P.ipynb\" target=\"_parent\"><img src=\"https://colab.research.google.com/assets/colab-badge.svg\" alt=\"Open In Colab\"/></a>"
      ]
    },
    {
      "cell_type": "code",
      "execution_count": 22,
      "metadata": {
        "colab": {
          "base_uri": "https://localhost:8080/"
        },
        "id": "zjZhPDUmlxtj",
        "outputId": "d0669cf1-2f59-4e93-dde2-590a4dd497b2"
      },
      "outputs": [
        {
          "output_type": "execute_result",
          "data": {
            "text/plain": [
              "(3, 10)"
            ]
          },
          "metadata": {},
          "execution_count": 22
        }
      ],
      "source": [
        "# Q1. Write a function that return the range (maximum and minimun) of a given list of numbers.\n",
        "def max_min(list1):\n",
        "\n",
        "  list1.sort()\n",
        "  return(list1[0],list1[len(list1)-1])\n",
        "max_min([6,8,3,10,7,4,5] )"
      ]
    },
    {
      "cell_type": "code",
      "source": [
        "# Q2. Write function that returns mean value of a list of numbers.\n",
        "def mean(list2):\n",
        "  sum=0\n",
        "  for i in list2:\n",
        "    sum=sum+i\n",
        "    mean=sum/len(list2)\n",
        "  return(mean)\n",
        "a=mean([2,5,3,8,9,11,5])\n",
        "print(a)"
      ],
      "metadata": {
        "colab": {
          "base_uri": "https://localhost:8080/"
        },
        "id": "Yq0dSH5HnLhM",
        "outputId": "680eecba-9700-46be-dfe2-b02eab0a74d9"
      },
      "execution_count": 25,
      "outputs": [
        {
          "output_type": "stream",
          "name": "stdout",
          "text": [
            "6.142857142857143\n"
          ]
        }
      ]
    },
    {
      "cell_type": "code",
      "source": [
        "# Q3. Write a function that returns the median value of a list of numbers.\n",
        "def median(list3):\n",
        "  list3.sort()\n",
        "  if len(list3)%2==0:\n",
        "    mid1=list3[len(list3)//2]\n",
        "    mid2=list3[len(list3)//2 -1]\n",
        "    median=(mid1+mid2)/2\n",
        "  else:\n",
        "    median=list3[len(list3)//2]\n",
        "  return(median)\n",
        "b=median([4,7,9,4,7,8,6,10])\n",
        "print(b)"
      ],
      "metadata": {
        "colab": {
          "base_uri": "https://localhost:8080/"
        },
        "id": "SpBbbbOMnUZ6",
        "outputId": "eeeb7de4-b219-4c8a-f090-9d31b0c82185"
      },
      "execution_count": 28,
      "outputs": [
        {
          "output_type": "stream",
          "name": "stdout",
          "text": [
            "7.0\n"
          ]
        }
      ]
    },
    {
      "cell_type": "code",
      "source": [
        "# Q4. Write a function to return the mod of a list of numbers, if no mod exists, it should return None.\n",
        "# If more than one mod exist, return the mod values as list.\n",
        "def mode(list4):\n",
        "  list4.sort()\n",
        "  count={}\n",
        "  for i in list4:\n",
        "    if i in count:\n",
        "      count[i]+=1\n",
        "    else:\n",
        "      count[i]=1\n",
        "  max_count=1\n",
        "  for a,b in count.items():\n",
        "    if b>=max_count:\n",
        "      max_count=b\n",
        "  if max_count==1:\n",
        "    mode=None\n",
        "  else:\n",
        "    mode=[key for key, value in count.items() if value==max_count]\n",
        "  return (mode)\n",
        "c=mode([1,4,6,9,3,6,8])\n",
        "print(c)"
      ],
      "metadata": {
        "colab": {
          "base_uri": "https://localhost:8080/"
        },
        "id": "uXyh2UxgnaqF",
        "outputId": "05e82a1f-f8d6-4dfc-a42a-46e31651fc89"
      },
      "execution_count": 36,
      "outputs": [
        {
          "output_type": "stream",
          "name": "stdout",
          "text": [
            "[6]\n"
          ]
        }
      ]
    },
    {
      "cell_type": "code",
      "source": [
        "# Q5. Write function to compute a given percentile value (e.g. 90th percentile)\n",
        "# of a list of numbers\n",
        "def percentile(list5):\n",
        "  list5.sort()\n",
        "  n=int(input('enter a percentile'))\n",
        "  q1=int(len(list5)*(n/100))\n",
        "  list5[q1-1]\n",
        "  return (list5[q1-1])\n",
        "d=percentile([4,7,2,8,9,3,2,1,8,9,11,8])\n",
        "print('percentile is', d)"
      ],
      "metadata": {
        "colab": {
          "base_uri": "https://localhost:8080/"
        },
        "id": "56dQbFYwxy25",
        "outputId": "2a7e7f7c-39b5-4dcc-d46c-24fe77714720"
      },
      "execution_count": 41,
      "outputs": [
        {
          "output_type": "stream",
          "name": "stdout",
          "text": [
            "enter a percentile90\n",
            "percentile is 9\n"
          ]
        }
      ]
    },
    {
      "cell_type": "code",
      "source": [
        "# Q6. Write a function that returns the lower bound of a list of numbers\n",
        "def lowerbound(list6):\n",
        "  list6.sort()\n",
        "  q1=int(len(list6)*0.25)\n",
        "  a=list6[q1-1]\n",
        "  q3=int(len(list6)*0.75)\n",
        "  b=list6[q3-1]\n",
        "  IQR=b-a\n",
        "  return (q1-1.5*IQR)\n",
        "c=lowerbound([85,60,72,55,105,315,380,290,190,130,95,70])\n",
        "print('lowerbound is',c)\n"
      ],
      "metadata": {
        "colab": {
          "base_uri": "https://localhost:8080/"
        },
        "id": "u1uaer5Jz2jA",
        "outputId": "c035bfee-7cf1-42b7-d3b1-9478fd3a26b6"
      },
      "execution_count": 42,
      "outputs": [
        {
          "output_type": "stream",
          "name": "stdout",
          "text": [
            "lowerbound is -177.0\n"
          ]
        }
      ]
    },
    {
      "cell_type": "code",
      "source": [
        "# Q7. Write function to return any outliers from a given list of numbers,\n",
        "# if no outliers present it should return None\n",
        "def outliers(list7):\n",
        "  j=[]\n",
        "  list7.sort()\n",
        "  q1=int(len(list7)*0.25)\n",
        "  a=list7[q1-1]\n",
        "  q3=int(len(list7)*0.75)\n",
        "  b=list7[q3-1]\n",
        "  IQR=b-a\n",
        "  upperbound = q3 + 1.5*IQR\n",
        "  lowerbound = q1 - 1.5*IQR\n",
        "  for i in list7:\n",
        "    if i > upperbound or i < lowerbound:\n",
        "      j.append(i)\n",
        "  return j\n",
        "e=outliers([500,60,72,55,105,400,380,100,60,700,95,70])\n",
        "print('outliers is', e)"
      ],
      "metadata": {
        "colab": {
          "base_uri": "https://localhost:8080/"
        },
        "id": "6NbBS6TM3Jvf",
        "outputId": "303ba954-e73f-401a-d348-5302f7310445"
      },
      "execution_count": 67,
      "outputs": [
        {
          "output_type": "stream",
          "name": "stdout",
          "text": [
            "outliers is [500, 700]\n"
          ]
        }
      ]
    },
    {
      "cell_type": "code",
      "source": [
        "#Q8. Write a function to return standard deviation of a list of numbers\n",
        "def standard_deviation(list8):\n",
        "  list8.sort()\n",
        "  w=0\n",
        "  for i in range(len(list8)):\n",
        "    mean=sum(list8)/len(list8)\n",
        "    v=(list8[i]-mean)**2\n",
        "    w=w+v\n",
        "    x=w/len(list8)\n",
        "  return ((w/len(list8))**0.5)\n",
        "g=standard_deviation([200,220,210,300,250,400,240,260,500,230])\n",
        "print('standard_deviation is', g)\n"
      ],
      "metadata": {
        "colab": {
          "base_uri": "https://localhost:8080/"
        },
        "id": "AUY1mHoX6dil",
        "outputId": "b477fea4-3bf3-4773-d819-f773e1a2d309"
      },
      "execution_count": 62,
      "outputs": [
        {
          "output_type": "stream",
          "name": "stdout",
          "text": [
            "standard_deviation is 91.37286249209882\n"
          ]
        }
      ]
    },
    {
      "cell_type": "code",
      "source": [
        "# Q9. Write function to compute and return Z-score values of a list of numbers\n",
        "#z=(x-mean)/s.d\n",
        "def z(list9):\n",
        "  initial=0\n",
        "  r=[]\n",
        "  sum9=0\n",
        "  for i in list9:\n",
        "    sum9=sum9+i\n",
        "  mean9=sum9/len(list9)\n",
        "  for j in list9:\n",
        "    sum1=(j-mean9)**2\n",
        "    initial=initial+sum1\n",
        "  var=initial/len(list9)\n",
        "  sd=var**0.5\n",
        "  for k in list9:\n",
        "    sum3=(k-mean9)/sd\n",
        "    r.append(sum3)\n",
        "  return r\n",
        "h=z([200,220,210,300,250,400,240,260,500,230])\n",
        "print('z is',h)"
      ],
      "metadata": {
        "colab": {
          "base_uri": "https://localhost:8080/"
        },
        "id": "FaewghHi-bKO",
        "outputId": "ba8b2737-b438-40b7-bd08-e8d0dd2e9635"
      },
      "execution_count": 86,
      "outputs": [
        {
          "output_type": "stream",
          "name": "stdout",
          "text": [
            "z is [-0.886477645449755, -0.667594276202902, -0.7770359608263285, 0.20793920078451045, -0.3392692223326223, 1.302356047018776, -0.44871090695604887, -0.22982753770919576, 2.3967728932530417, -0.5581525915794754]\n"
          ]
        }
      ]
    },
    {
      "cell_type": "code",
      "source": [
        "# Q10. Write a function to compute and return the Pearson correlation coefficient\n",
        "#value of two list of numbers\n",
        "def pearson_correlation_coefficient(list10,list11):\n",
        "  x=0\n",
        "  mean10=mean(list10)\n",
        "  mean11=mean(list11)\n",
        "  standard_deviation10=standard_deviation(list10)\n",
        "  standard_deviation11=standard_deviation(list11)\n",
        "  x=0\n",
        "  for i in range(len(list10)):\n",
        "    for j in range(len(list11)):\n",
        "      if i==j:\n",
        "        p=list10[i]-mean10\n",
        "        y=list11[j]-mean11\n",
        "        x=x+p*y\n",
        "  cov=x/len(list10)\n",
        "  correlation=cov/(standard_deviation10*standard_deviation11)\n",
        "  return correlation\n",
        "k=pearson_correlation_coefficient([1,2,3,4,5,6],[2,4,6,8,10,12])\n",
        "print('pearson correlation coefficient is', k)\n",
        "\n",
        "\n"
      ],
      "metadata": {
        "colab": {
          "base_uri": "https://localhost:8080/"
        },
        "id": "dTcGKZcz-hoo",
        "outputId": "12c24b49-aba0-4319-b277-d7ddc0ba1cd9"
      },
      "execution_count": 87,
      "outputs": [
        {
          "output_type": "stream",
          "name": "stdout",
          "text": [
            "pearson correlation coefficient is 1.0\n"
          ]
        }
      ]
    }
  ]
}